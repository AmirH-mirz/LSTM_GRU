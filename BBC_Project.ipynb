{
  "nbformat": 4,
  "nbformat_minor": 0,
  "metadata": {
    "colab": {
      "provenance": [],
      "gpuType": "T4",
      "authorship_tag": "ABX9TyMUG93xYrQx48nnv90shpK+",
      "include_colab_link": true
    },
    "kernelspec": {
      "name": "python3",
      "display_name": "Python 3"
    },
    "language_info": {
      "name": "python"
    },
    "accelerator": "GPU"
  },
  "cells": [
    {
      "cell_type": "markdown",
      "metadata": {
        "id": "view-in-github",
        "colab_type": "text"
      },
      "source": [
        "<a href=\"https://colab.research.google.com/github/AmirH-mirz/LSTM_GRU/blob/main/BBC_Project.ipynb\" target=\"_parent\"><img src=\"https://colab.research.google.com/assets/colab-badge.svg\" alt=\"Open In Colab\"/></a>"
      ]
    },
    {
      "cell_type": "code",
      "execution_count": 1,
      "metadata": {
        "colab": {
          "base_uri": "https://localhost:8080/"
        },
        "id": "t1FcZ27-n1Z3",
        "outputId": "7af93f4f-f040-4cae-f319-19f37eb4f6e6"
      },
      "outputs": [
        {
          "output_type": "stream",
          "name": "stdout",
          "text": [
            "Mounted at /content/drive\n"
          ]
        }
      ],
      "source": [
        "from google.colab import drive\n",
        "drive.mount('/content/drive')"
      ]
    },
    {
      "cell_type": "code",
      "source": [
        "from zipfile import ZipFile"
      ],
      "metadata": {
        "id": "w5I2aTusoEzn"
      },
      "execution_count": 2,
      "outputs": []
    },
    {
      "cell_type": "code",
      "source": [
        "with ZipFile('/content/drive/MyDrive/BBC_text.zip', 'r') as zip:\n",
        "  zip.extractall()\n",
        "  print('Done')"
      ],
      "metadata": {
        "colab": {
          "base_uri": "https://localhost:8080/"
        },
        "id": "x4SB8mSPoac2",
        "outputId": "4a019fc1-6595-4021-80e3-60603ab7cd41"
      },
      "execution_count": 3,
      "outputs": [
        {
          "output_type": "stream",
          "name": "stdout",
          "text": [
            "Done\n"
          ]
        }
      ]
    },
    {
      "cell_type": "code",
      "source": [
        "import numpy as np\n",
        "import pandas as pd\n",
        "import os\n",
        "import re\n",
        "import string\n",
        "import nltk\n",
        "import matplotlib.pyplot as plt\n",
        "import seaborn as sns\n",
        "\n",
        "from sklearn.model_selection import train_test_split\n",
        "from sklearn.metrics import accuracy_score, confusion_matrix, classification_report, ConfusionMatrixDisplay\n",
        "\n",
        "from tensorflow.keras.preprocessing.text import Tokenizer\n",
        "from tensorflow.keras.preprocessing.sequence import pad_sequences\n",
        "from tensorflow.keras.layers import Dense, Input, Embedding, LSTM, Dropout, Bidirectional ,GRU\n",
        "\n",
        "from tensorflow.keras.models import Sequential\n",
        "from tensorflow.keras.optimizers import Adam\n",
        "from tensorflow.keras.losses import BinaryCrossentropy\n",
        "from tensorflow.keras.callbacks import EarlyStopping, ReduceLROnPlateau\n"
      ],
      "metadata": {
        "id": "n2RTubI0pYyy"
      },
      "execution_count": 4,
      "outputs": []
    },
    {
      "cell_type": "code",
      "source": [
        "data = pd.read_csv('/content/bbc_data.csv')\n",
        "data"
      ],
      "metadata": {
        "colab": {
          "base_uri": "https://localhost:8080/",
          "height": 423
        },
        "id": "mIu3KFdypojT",
        "outputId": "7b7dba9f-a0c6-4068-9995-29acdd78d97e"
      },
      "execution_count": 5,
      "outputs": [
        {
          "output_type": "execute_result",
          "data": {
            "text/plain": [
              "                                                   data         labels\n",
              "0     Musicians to tackle US red tape  Musicians gro...  entertainment\n",
              "1     U2s desire to be number one  U2, who have won ...  entertainment\n",
              "2     Rocker Doherty in on-stage fight  Rock singer ...  entertainment\n",
              "3     Snicket tops US box office chart  The film ada...  entertainment\n",
              "4     Oceans Twelve raids box office  Oceans Twelve,...  entertainment\n",
              "...                                                 ...            ...\n",
              "2220  Warning over Windows Word files  Writing a Mic...           tech\n",
              "2221  Fast lifts rise into record books  Two high-sp...           tech\n",
              "2222  Nintendo adds media playing to DS  Nintendo is...           tech\n",
              "2223  Fast moving phone viruses appear  Security fir...           tech\n",
              "2224  Hacker threat to Apples iTunes  Users of Apple...           tech\n",
              "\n",
              "[2225 rows x 2 columns]"
            ],
            "text/html": [
              "\n",
              "  <div id=\"df-bec0ed59-8764-45fe-89cd-db889b4aa251\" class=\"colab-df-container\">\n",
              "    <div>\n",
              "<style scoped>\n",
              "    .dataframe tbody tr th:only-of-type {\n",
              "        vertical-align: middle;\n",
              "    }\n",
              "\n",
              "    .dataframe tbody tr th {\n",
              "        vertical-align: top;\n",
              "    }\n",
              "\n",
              "    .dataframe thead th {\n",
              "        text-align: right;\n",
              "    }\n",
              "</style>\n",
              "<table border=\"1\" class=\"dataframe\">\n",
              "  <thead>\n",
              "    <tr style=\"text-align: right;\">\n",
              "      <th></th>\n",
              "      <th>data</th>\n",
              "      <th>labels</th>\n",
              "    </tr>\n",
              "  </thead>\n",
              "  <tbody>\n",
              "    <tr>\n",
              "      <th>0</th>\n",
              "      <td>Musicians to tackle US red tape  Musicians gro...</td>\n",
              "      <td>entertainment</td>\n",
              "    </tr>\n",
              "    <tr>\n",
              "      <th>1</th>\n",
              "      <td>U2s desire to be number one  U2, who have won ...</td>\n",
              "      <td>entertainment</td>\n",
              "    </tr>\n",
              "    <tr>\n",
              "      <th>2</th>\n",
              "      <td>Rocker Doherty in on-stage fight  Rock singer ...</td>\n",
              "      <td>entertainment</td>\n",
              "    </tr>\n",
              "    <tr>\n",
              "      <th>3</th>\n",
              "      <td>Snicket tops US box office chart  The film ada...</td>\n",
              "      <td>entertainment</td>\n",
              "    </tr>\n",
              "    <tr>\n",
              "      <th>4</th>\n",
              "      <td>Oceans Twelve raids box office  Oceans Twelve,...</td>\n",
              "      <td>entertainment</td>\n",
              "    </tr>\n",
              "    <tr>\n",
              "      <th>...</th>\n",
              "      <td>...</td>\n",
              "      <td>...</td>\n",
              "    </tr>\n",
              "    <tr>\n",
              "      <th>2220</th>\n",
              "      <td>Warning over Windows Word files  Writing a Mic...</td>\n",
              "      <td>tech</td>\n",
              "    </tr>\n",
              "    <tr>\n",
              "      <th>2221</th>\n",
              "      <td>Fast lifts rise into record books  Two high-sp...</td>\n",
              "      <td>tech</td>\n",
              "    </tr>\n",
              "    <tr>\n",
              "      <th>2222</th>\n",
              "      <td>Nintendo adds media playing to DS  Nintendo is...</td>\n",
              "      <td>tech</td>\n",
              "    </tr>\n",
              "    <tr>\n",
              "      <th>2223</th>\n",
              "      <td>Fast moving phone viruses appear  Security fir...</td>\n",
              "      <td>tech</td>\n",
              "    </tr>\n",
              "    <tr>\n",
              "      <th>2224</th>\n",
              "      <td>Hacker threat to Apples iTunes  Users of Apple...</td>\n",
              "      <td>tech</td>\n",
              "    </tr>\n",
              "  </tbody>\n",
              "</table>\n",
              "<p>2225 rows × 2 columns</p>\n",
              "</div>\n",
              "    <div class=\"colab-df-buttons\">\n",
              "\n",
              "  <div class=\"colab-df-container\">\n",
              "    <button class=\"colab-df-convert\" onclick=\"convertToInteractive('df-bec0ed59-8764-45fe-89cd-db889b4aa251')\"\n",
              "            title=\"Convert this dataframe to an interactive table.\"\n",
              "            style=\"display:none;\">\n",
              "\n",
              "  <svg xmlns=\"http://www.w3.org/2000/svg\" height=\"24px\" viewBox=\"0 -960 960 960\">\n",
              "    <path d=\"M120-120v-720h720v720H120Zm60-500h600v-160H180v160Zm220 220h160v-160H400v160Zm0 220h160v-160H400v160ZM180-400h160v-160H180v160Zm440 0h160v-160H620v160ZM180-180h160v-160H180v160Zm440 0h160v-160H620v160Z\"/>\n",
              "  </svg>\n",
              "    </button>\n",
              "\n",
              "  <style>\n",
              "    .colab-df-container {\n",
              "      display:flex;\n",
              "      gap: 12px;\n",
              "    }\n",
              "\n",
              "    .colab-df-convert {\n",
              "      background-color: #E8F0FE;\n",
              "      border: none;\n",
              "      border-radius: 50%;\n",
              "      cursor: pointer;\n",
              "      display: none;\n",
              "      fill: #1967D2;\n",
              "      height: 32px;\n",
              "      padding: 0 0 0 0;\n",
              "      width: 32px;\n",
              "    }\n",
              "\n",
              "    .colab-df-convert:hover {\n",
              "      background-color: #E2EBFA;\n",
              "      box-shadow: 0px 1px 2px rgba(60, 64, 67, 0.3), 0px 1px 3px 1px rgba(60, 64, 67, 0.15);\n",
              "      fill: #174EA6;\n",
              "    }\n",
              "\n",
              "    .colab-df-buttons div {\n",
              "      margin-bottom: 4px;\n",
              "    }\n",
              "\n",
              "    [theme=dark] .colab-df-convert {\n",
              "      background-color: #3B4455;\n",
              "      fill: #D2E3FC;\n",
              "    }\n",
              "\n",
              "    [theme=dark] .colab-df-convert:hover {\n",
              "      background-color: #434B5C;\n",
              "      box-shadow: 0px 1px 3px 1px rgba(0, 0, 0, 0.15);\n",
              "      filter: drop-shadow(0px 1px 2px rgba(0, 0, 0, 0.3));\n",
              "      fill: #FFFFFF;\n",
              "    }\n",
              "  </style>\n",
              "\n",
              "    <script>\n",
              "      const buttonEl =\n",
              "        document.querySelector('#df-bec0ed59-8764-45fe-89cd-db889b4aa251 button.colab-df-convert');\n",
              "      buttonEl.style.display =\n",
              "        google.colab.kernel.accessAllowed ? 'block' : 'none';\n",
              "\n",
              "      async function convertToInteractive(key) {\n",
              "        const element = document.querySelector('#df-bec0ed59-8764-45fe-89cd-db889b4aa251');\n",
              "        const dataTable =\n",
              "          await google.colab.kernel.invokeFunction('convertToInteractive',\n",
              "                                                    [key], {});\n",
              "        if (!dataTable) return;\n",
              "\n",
              "        const docLinkHtml = 'Like what you see? Visit the ' +\n",
              "          '<a target=\"_blank\" href=https://colab.research.google.com/notebooks/data_table.ipynb>data table notebook</a>'\n",
              "          + ' to learn more about interactive tables.';\n",
              "        element.innerHTML = '';\n",
              "        dataTable['output_type'] = 'display_data';\n",
              "        await google.colab.output.renderOutput(dataTable, element);\n",
              "        const docLink = document.createElement('div');\n",
              "        docLink.innerHTML = docLinkHtml;\n",
              "        element.appendChild(docLink);\n",
              "      }\n",
              "    </script>\n",
              "  </div>\n",
              "\n",
              "\n",
              "<div id=\"df-00fc7da1-d376-4627-987a-5a080204699d\">\n",
              "  <button class=\"colab-df-quickchart\" onclick=\"quickchart('df-00fc7da1-d376-4627-987a-5a080204699d')\"\n",
              "            title=\"Suggest charts\"\n",
              "            style=\"display:none;\">\n",
              "\n",
              "<svg xmlns=\"http://www.w3.org/2000/svg\" height=\"24px\"viewBox=\"0 0 24 24\"\n",
              "     width=\"24px\">\n",
              "    <g>\n",
              "        <path d=\"M19 3H5c-1.1 0-2 .9-2 2v14c0 1.1.9 2 2 2h14c1.1 0 2-.9 2-2V5c0-1.1-.9-2-2-2zM9 17H7v-7h2v7zm4 0h-2V7h2v10zm4 0h-2v-4h2v4z\"/>\n",
              "    </g>\n",
              "</svg>\n",
              "  </button>\n",
              "\n",
              "<style>\n",
              "  .colab-df-quickchart {\n",
              "      --bg-color: #E8F0FE;\n",
              "      --fill-color: #1967D2;\n",
              "      --hover-bg-color: #E2EBFA;\n",
              "      --hover-fill-color: #174EA6;\n",
              "      --disabled-fill-color: #AAA;\n",
              "      --disabled-bg-color: #DDD;\n",
              "  }\n",
              "\n",
              "  [theme=dark] .colab-df-quickchart {\n",
              "      --bg-color: #3B4455;\n",
              "      --fill-color: #D2E3FC;\n",
              "      --hover-bg-color: #434B5C;\n",
              "      --hover-fill-color: #FFFFFF;\n",
              "      --disabled-bg-color: #3B4455;\n",
              "      --disabled-fill-color: #666;\n",
              "  }\n",
              "\n",
              "  .colab-df-quickchart {\n",
              "    background-color: var(--bg-color);\n",
              "    border: none;\n",
              "    border-radius: 50%;\n",
              "    cursor: pointer;\n",
              "    display: none;\n",
              "    fill: var(--fill-color);\n",
              "    height: 32px;\n",
              "    padding: 0;\n",
              "    width: 32px;\n",
              "  }\n",
              "\n",
              "  .colab-df-quickchart:hover {\n",
              "    background-color: var(--hover-bg-color);\n",
              "    box-shadow: 0 1px 2px rgba(60, 64, 67, 0.3), 0 1px 3px 1px rgba(60, 64, 67, 0.15);\n",
              "    fill: var(--button-hover-fill-color);\n",
              "  }\n",
              "\n",
              "  .colab-df-quickchart-complete:disabled,\n",
              "  .colab-df-quickchart-complete:disabled:hover {\n",
              "    background-color: var(--disabled-bg-color);\n",
              "    fill: var(--disabled-fill-color);\n",
              "    box-shadow: none;\n",
              "  }\n",
              "\n",
              "  .colab-df-spinner {\n",
              "    border: 2px solid var(--fill-color);\n",
              "    border-color: transparent;\n",
              "    border-bottom-color: var(--fill-color);\n",
              "    animation:\n",
              "      spin 1s steps(1) infinite;\n",
              "  }\n",
              "\n",
              "  @keyframes spin {\n",
              "    0% {\n",
              "      border-color: transparent;\n",
              "      border-bottom-color: var(--fill-color);\n",
              "      border-left-color: var(--fill-color);\n",
              "    }\n",
              "    20% {\n",
              "      border-color: transparent;\n",
              "      border-left-color: var(--fill-color);\n",
              "      border-top-color: var(--fill-color);\n",
              "    }\n",
              "    30% {\n",
              "      border-color: transparent;\n",
              "      border-left-color: var(--fill-color);\n",
              "      border-top-color: var(--fill-color);\n",
              "      border-right-color: var(--fill-color);\n",
              "    }\n",
              "    40% {\n",
              "      border-color: transparent;\n",
              "      border-right-color: var(--fill-color);\n",
              "      border-top-color: var(--fill-color);\n",
              "    }\n",
              "    60% {\n",
              "      border-color: transparent;\n",
              "      border-right-color: var(--fill-color);\n",
              "    }\n",
              "    80% {\n",
              "      border-color: transparent;\n",
              "      border-right-color: var(--fill-color);\n",
              "      border-bottom-color: var(--fill-color);\n",
              "    }\n",
              "    90% {\n",
              "      border-color: transparent;\n",
              "      border-bottom-color: var(--fill-color);\n",
              "    }\n",
              "  }\n",
              "</style>\n",
              "\n",
              "  <script>\n",
              "    async function quickchart(key) {\n",
              "      const quickchartButtonEl =\n",
              "        document.querySelector('#' + key + ' button');\n",
              "      quickchartButtonEl.disabled = true;  // To prevent multiple clicks.\n",
              "      quickchartButtonEl.classList.add('colab-df-spinner');\n",
              "      try {\n",
              "        const charts = await google.colab.kernel.invokeFunction(\n",
              "            'suggestCharts', [key], {});\n",
              "      } catch (error) {\n",
              "        console.error('Error during call to suggestCharts:', error);\n",
              "      }\n",
              "      quickchartButtonEl.classList.remove('colab-df-spinner');\n",
              "      quickchartButtonEl.classList.add('colab-df-quickchart-complete');\n",
              "    }\n",
              "    (() => {\n",
              "      let quickchartButtonEl =\n",
              "        document.querySelector('#df-00fc7da1-d376-4627-987a-5a080204699d button');\n",
              "      quickchartButtonEl.style.display =\n",
              "        google.colab.kernel.accessAllowed ? 'block' : 'none';\n",
              "    })();\n",
              "  </script>\n",
              "</div>\n",
              "    </div>\n",
              "  </div>\n"
            ],
            "application/vnd.google.colaboratory.intrinsic+json": {
              "type": "dataframe",
              "variable_name": "data",
              "summary": "{\n  \"name\": \"data\",\n  \"rows\": 2225,\n  \"fields\": [\n    {\n      \"column\": \"data\",\n      \"properties\": {\n        \"dtype\": \"string\",\n        \"num_unique_values\": 2126,\n        \"samples\": [\n          \"Media seek Jackson juror notes  Reporters covering singer Michael Jacksons trial in California have asked to see questionnaires completed by potential jurors.  Lawyers for news organisations said it was \\\"really vital\\\" for the responses of 250 potential jurors to be made public \\\"to serve as a check on the process\\\". Santa Barbara County Superior Court is due to consider the request on Monday. Mr Jackson denies child molestation. It is estimated his trial will cost Santa Barbara county up to $4m (xc2xa32.13m).  Meanwhile Michael Jacksons mother has said she is \\\"100% certain\\\" her son did not commit the child abuse charges he faces. The court is currently selecting 12 jurors and eight stand-by jurors for the trial, a process delayed until at least Thursday after a member of the stars legal team was hit by family illness. Defence lawyers argued against the bid by Associated Press and other news organisations to have potential jurors responses made public.  \\\"The release of the completed jury questionnaires does not serve any purpose other than to add to the sensationalist coverage of this case,\\\" a motion by Mr Jacksons lawyers stated. The estimated total costs of the trial, expected to last five months, range from $2.5m (xc2xa31.33m) to $4m (xc2xa32.13m) of local taxpayers money. Those estimates do not include costs to the city of Santa Maria, the Superior Court or for the investigation and prosecution of the case. The cost of security and other needs around the courthouse has been estimated at $40,000 (xc2xa321,000) per day, said Jason Stilwell, a special projects manager at the county administrators office.  Mr Jackson, 46, denies plying a boy with alcohol and molesting him. His mother Katherine Jackson told US TV network Fox News on Sunday that her pop star son told her he was innocent. \\\"I believe that for one reason - I know his character,\\\" she said. \\\"He loves children. You dont molest anything that you love.\\\" Describing Mr Jackson as \\\"a good person\\\", the mother-of-nine said she feared he would not be given a fair trial. \\\"I cant sleep thinking about what these wicked people might try to do to him,\\\" she said. \",\n          \"Game firm holds cast auditions  Video game firm Bioware is to hold open auditions for people to become cast members for future games.  The company, which makes role playing games such as Knights of the Old Republic and Neverwinter Nights, is seeking people aged 18 to 99. The Canada-based company says it was looking for \\\"a wide variety of people to use as face models for characters\\\". Everyone chosen to appear in a video game will receive a performers fee for the use of their image. The company is inviting people to come along to a shopping mall in West Edmonton, Alberta, on Friday and Saturday, bringing along a piece of photo identification.  \\\"There are hundreds and hundreds of characters in a typical Bioware game,\\\" said Shauna Perry, Biowares audio and external resources producer. \\\"Those people live in any city and village and so we need ordinary people, people with interesting faces.\\\" She added: \\\"Not everyone is a model in the world so we dont want just models in our games.\\\" People chosen to appear in a game will have their head scanned in three dimensions. Hundreds of photos of the persons head are taken so that a model of the head can be generated in 3D. \\\"The 3D model will look exactly like the person - its really quite incredible how detailed they are,\\\" said Ms Perry. She said chosen participants will have no control over how the image is used in a computer game. \\\"We cannot give people any control over how the images are used. \\\"But their face could be used in multiple games - so they could be the hero in one, the villain in another and just a merchant in a third.\\\" \",\n          \"Citizenship event for 18s touted  Citizenship ceremonies could be introduced for people celebrating their 18th birthday, Charles Clarke has said.  The idea will be tried as part of an overhaul of the way government approaches \\\"inclusive citizenship\\\" particularly for ethnic minorities. A pilot scheme based on ceremonies in Australia will start in October. Mr Clarke said it would be a way of recognising young people reaching their voting age when they also gain greater independence from parents. Britains young black and Asian people are to be encouraged to learn about the nations heritage as part of the governments new race strategy which will also target specific issues within different ethnic minority groups. Officials say the home secretary wants young people to feel they belong and to understand their \\\"other cultural identities\\\" alongside being British. The launch follows a row about the role of faith schools in Britain. On Monday school inspection chief David Bell, accused some Islamic schools of failing to teach pupils about their obligations to British society.  The Muslim Council of Britain said Ofsted boss Mr Bells comments were \\\"highly irresponsible\\\". The Home Office started work on its Community Cohesion and Race Equality Strategy last year and the outcome, launched on Wednesday, is called Improving Opportunity, Strengthening Society. It is aimed at tackling racism, exclusion, segregation and the rise in political and religious extremism. \\\"It represents a move away from the one-size-fits-all approach to focus on specifics within cultural groups,\\\" said a Home Office spokesman. \\\"It is not right to say that if you are from a black or ethnic minority group you must be disadvantaged.\\\" The spokesman highlighted specific issues that affect particular communities - for example people of south Asian origin tend to suffer from a high incidence of heart disease.  \\\"It is about drilling down and focusing on these sorts of problems,\\\" the spokesman added. Launching the initiative Mr Clarke said enormous progress had been made on race issues in recent years. He added: \\\"But while many members of black and minority ethnic communities are thriving, some may still find it harder to succeed in employment or gain access to healthcare, education or housing. \\\"This strategy sets out the governments commitment to doing more to identify and respond to the specific needs of minorities in our society.\\\" Some 8% of the UK population described themselves as coming from a non-white ethnic minority in the 2001 Census.  The Downing Street Strategy Unit in 2003 said people from Indian and Chinese backgrounds were doing well on average, often outperforming white people in education and earnings. But those of Pakistani, Bangladeshi and black Caribbean origin were significantly more likely to be unemployed and earn less than whites, it said. The Home Office wants more initiatives which try to promote a sense of belonging by encouraging young people to take part in voluntary work. The programmes are designed to support the citizenship lessons already taking place in schools. \"\n        ],\n        \"semantic_type\": \"\",\n        \"description\": \"\"\n      }\n    },\n    {\n      \"column\": \"labels\",\n      \"properties\": {\n        \"dtype\": \"category\",\n        \"num_unique_values\": 5,\n        \"samples\": [\n          \"business\",\n          \"tech\",\n          \"sport\"\n        ],\n        \"semantic_type\": \"\",\n        \"description\": \"\"\n      }\n    }\n  ]\n}"
            }
          },
          "metadata": {},
          "execution_count": 5
        }
      ]
    },
    {
      "cell_type": "code",
      "source": [
        "data.info()"
      ],
      "metadata": {
        "colab": {
          "base_uri": "https://localhost:8080/"
        },
        "id": "NfK1otU3pw-n",
        "outputId": "5d8cf230-36da-46b8-c05a-ccecfbbcb443"
      },
      "execution_count": 6,
      "outputs": [
        {
          "output_type": "stream",
          "name": "stdout",
          "text": [
            "<class 'pandas.core.frame.DataFrame'>\n",
            "RangeIndex: 2225 entries, 0 to 2224\n",
            "Data columns (total 2 columns):\n",
            " #   Column  Non-Null Count  Dtype \n",
            "---  ------  --------------  ----- \n",
            " 0   data    2225 non-null   object\n",
            " 1   labels  2225 non-null   object\n",
            "dtypes: object(2)\n",
            "memory usage: 34.9+ KB\n"
          ]
        }
      ]
    },
    {
      "cell_type": "code",
      "source": [
        "# Check missing values\n",
        "data.isna().sum().to_frame(name = 'Num. Nan')"
      ],
      "metadata": {
        "colab": {
          "base_uri": "https://localhost:8080/",
          "height": 112
        },
        "id": "2PwBBONQdTix",
        "outputId": "4e0fcf0a-36e1-4617-dd79-cce9ee69c69a"
      },
      "execution_count": 7,
      "outputs": [
        {
          "output_type": "execute_result",
          "data": {
            "text/plain": [
              "        Num. Nan\n",
              "data           0\n",
              "labels         0"
            ],
            "text/html": [
              "\n",
              "  <div id=\"df-4e89db51-a8ed-4053-8958-507a0e41a670\" class=\"colab-df-container\">\n",
              "    <div>\n",
              "<style scoped>\n",
              "    .dataframe tbody tr th:only-of-type {\n",
              "        vertical-align: middle;\n",
              "    }\n",
              "\n",
              "    .dataframe tbody tr th {\n",
              "        vertical-align: top;\n",
              "    }\n",
              "\n",
              "    .dataframe thead th {\n",
              "        text-align: right;\n",
              "    }\n",
              "</style>\n",
              "<table border=\"1\" class=\"dataframe\">\n",
              "  <thead>\n",
              "    <tr style=\"text-align: right;\">\n",
              "      <th></th>\n",
              "      <th>Num. Nan</th>\n",
              "    </tr>\n",
              "  </thead>\n",
              "  <tbody>\n",
              "    <tr>\n",
              "      <th>data</th>\n",
              "      <td>0</td>\n",
              "    </tr>\n",
              "    <tr>\n",
              "      <th>labels</th>\n",
              "      <td>0</td>\n",
              "    </tr>\n",
              "  </tbody>\n",
              "</table>\n",
              "</div>\n",
              "    <div class=\"colab-df-buttons\">\n",
              "\n",
              "  <div class=\"colab-df-container\">\n",
              "    <button class=\"colab-df-convert\" onclick=\"convertToInteractive('df-4e89db51-a8ed-4053-8958-507a0e41a670')\"\n",
              "            title=\"Convert this dataframe to an interactive table.\"\n",
              "            style=\"display:none;\">\n",
              "\n",
              "  <svg xmlns=\"http://www.w3.org/2000/svg\" height=\"24px\" viewBox=\"0 -960 960 960\">\n",
              "    <path d=\"M120-120v-720h720v720H120Zm60-500h600v-160H180v160Zm220 220h160v-160H400v160Zm0 220h160v-160H400v160ZM180-400h160v-160H180v160Zm440 0h160v-160H620v160ZM180-180h160v-160H180v160Zm440 0h160v-160H620v160Z\"/>\n",
              "  </svg>\n",
              "    </button>\n",
              "\n",
              "  <style>\n",
              "    .colab-df-container {\n",
              "      display:flex;\n",
              "      gap: 12px;\n",
              "    }\n",
              "\n",
              "    .colab-df-convert {\n",
              "      background-color: #E8F0FE;\n",
              "      border: none;\n",
              "      border-radius: 50%;\n",
              "      cursor: pointer;\n",
              "      display: none;\n",
              "      fill: #1967D2;\n",
              "      height: 32px;\n",
              "      padding: 0 0 0 0;\n",
              "      width: 32px;\n",
              "    }\n",
              "\n",
              "    .colab-df-convert:hover {\n",
              "      background-color: #E2EBFA;\n",
              "      box-shadow: 0px 1px 2px rgba(60, 64, 67, 0.3), 0px 1px 3px 1px rgba(60, 64, 67, 0.15);\n",
              "      fill: #174EA6;\n",
              "    }\n",
              "\n",
              "    .colab-df-buttons div {\n",
              "      margin-bottom: 4px;\n",
              "    }\n",
              "\n",
              "    [theme=dark] .colab-df-convert {\n",
              "      background-color: #3B4455;\n",
              "      fill: #D2E3FC;\n",
              "    }\n",
              "\n",
              "    [theme=dark] .colab-df-convert:hover {\n",
              "      background-color: #434B5C;\n",
              "      box-shadow: 0px 1px 3px 1px rgba(0, 0, 0, 0.15);\n",
              "      filter: drop-shadow(0px 1px 2px rgba(0, 0, 0, 0.3));\n",
              "      fill: #FFFFFF;\n",
              "    }\n",
              "  </style>\n",
              "\n",
              "    <script>\n",
              "      const buttonEl =\n",
              "        document.querySelector('#df-4e89db51-a8ed-4053-8958-507a0e41a670 button.colab-df-convert');\n",
              "      buttonEl.style.display =\n",
              "        google.colab.kernel.accessAllowed ? 'block' : 'none';\n",
              "\n",
              "      async function convertToInteractive(key) {\n",
              "        const element = document.querySelector('#df-4e89db51-a8ed-4053-8958-507a0e41a670');\n",
              "        const dataTable =\n",
              "          await google.colab.kernel.invokeFunction('convertToInteractive',\n",
              "                                                    [key], {});\n",
              "        if (!dataTable) return;\n",
              "\n",
              "        const docLinkHtml = 'Like what you see? Visit the ' +\n",
              "          '<a target=\"_blank\" href=https://colab.research.google.com/notebooks/data_table.ipynb>data table notebook</a>'\n",
              "          + ' to learn more about interactive tables.';\n",
              "        element.innerHTML = '';\n",
              "        dataTable['output_type'] = 'display_data';\n",
              "        await google.colab.output.renderOutput(dataTable, element);\n",
              "        const docLink = document.createElement('div');\n",
              "        docLink.innerHTML = docLinkHtml;\n",
              "        element.appendChild(docLink);\n",
              "      }\n",
              "    </script>\n",
              "  </div>\n",
              "\n",
              "\n",
              "<div id=\"df-a29f4a8e-b3b2-4aab-aa22-f8a314b900ec\">\n",
              "  <button class=\"colab-df-quickchart\" onclick=\"quickchart('df-a29f4a8e-b3b2-4aab-aa22-f8a314b900ec')\"\n",
              "            title=\"Suggest charts\"\n",
              "            style=\"display:none;\">\n",
              "\n",
              "<svg xmlns=\"http://www.w3.org/2000/svg\" height=\"24px\"viewBox=\"0 0 24 24\"\n",
              "     width=\"24px\">\n",
              "    <g>\n",
              "        <path d=\"M19 3H5c-1.1 0-2 .9-2 2v14c0 1.1.9 2 2 2h14c1.1 0 2-.9 2-2V5c0-1.1-.9-2-2-2zM9 17H7v-7h2v7zm4 0h-2V7h2v10zm4 0h-2v-4h2v4z\"/>\n",
              "    </g>\n",
              "</svg>\n",
              "  </button>\n",
              "\n",
              "<style>\n",
              "  .colab-df-quickchart {\n",
              "      --bg-color: #E8F0FE;\n",
              "      --fill-color: #1967D2;\n",
              "      --hover-bg-color: #E2EBFA;\n",
              "      --hover-fill-color: #174EA6;\n",
              "      --disabled-fill-color: #AAA;\n",
              "      --disabled-bg-color: #DDD;\n",
              "  }\n",
              "\n",
              "  [theme=dark] .colab-df-quickchart {\n",
              "      --bg-color: #3B4455;\n",
              "      --fill-color: #D2E3FC;\n",
              "      --hover-bg-color: #434B5C;\n",
              "      --hover-fill-color: #FFFFFF;\n",
              "      --disabled-bg-color: #3B4455;\n",
              "      --disabled-fill-color: #666;\n",
              "  }\n",
              "\n",
              "  .colab-df-quickchart {\n",
              "    background-color: var(--bg-color);\n",
              "    border: none;\n",
              "    border-radius: 50%;\n",
              "    cursor: pointer;\n",
              "    display: none;\n",
              "    fill: var(--fill-color);\n",
              "    height: 32px;\n",
              "    padding: 0;\n",
              "    width: 32px;\n",
              "  }\n",
              "\n",
              "  .colab-df-quickchart:hover {\n",
              "    background-color: var(--hover-bg-color);\n",
              "    box-shadow: 0 1px 2px rgba(60, 64, 67, 0.3), 0 1px 3px 1px rgba(60, 64, 67, 0.15);\n",
              "    fill: var(--button-hover-fill-color);\n",
              "  }\n",
              "\n",
              "  .colab-df-quickchart-complete:disabled,\n",
              "  .colab-df-quickchart-complete:disabled:hover {\n",
              "    background-color: var(--disabled-bg-color);\n",
              "    fill: var(--disabled-fill-color);\n",
              "    box-shadow: none;\n",
              "  }\n",
              "\n",
              "  .colab-df-spinner {\n",
              "    border: 2px solid var(--fill-color);\n",
              "    border-color: transparent;\n",
              "    border-bottom-color: var(--fill-color);\n",
              "    animation:\n",
              "      spin 1s steps(1) infinite;\n",
              "  }\n",
              "\n",
              "  @keyframes spin {\n",
              "    0% {\n",
              "      border-color: transparent;\n",
              "      border-bottom-color: var(--fill-color);\n",
              "      border-left-color: var(--fill-color);\n",
              "    }\n",
              "    20% {\n",
              "      border-color: transparent;\n",
              "      border-left-color: var(--fill-color);\n",
              "      border-top-color: var(--fill-color);\n",
              "    }\n",
              "    30% {\n",
              "      border-color: transparent;\n",
              "      border-left-color: var(--fill-color);\n",
              "      border-top-color: var(--fill-color);\n",
              "      border-right-color: var(--fill-color);\n",
              "    }\n",
              "    40% {\n",
              "      border-color: transparent;\n",
              "      border-right-color: var(--fill-color);\n",
              "      border-top-color: var(--fill-color);\n",
              "    }\n",
              "    60% {\n",
              "      border-color: transparent;\n",
              "      border-right-color: var(--fill-color);\n",
              "    }\n",
              "    80% {\n",
              "      border-color: transparent;\n",
              "      border-right-color: var(--fill-color);\n",
              "      border-bottom-color: var(--fill-color);\n",
              "    }\n",
              "    90% {\n",
              "      border-color: transparent;\n",
              "      border-bottom-color: var(--fill-color);\n",
              "    }\n",
              "  }\n",
              "</style>\n",
              "\n",
              "  <script>\n",
              "    async function quickchart(key) {\n",
              "      const quickchartButtonEl =\n",
              "        document.querySelector('#' + key + ' button');\n",
              "      quickchartButtonEl.disabled = true;  // To prevent multiple clicks.\n",
              "      quickchartButtonEl.classList.add('colab-df-spinner');\n",
              "      try {\n",
              "        const charts = await google.colab.kernel.invokeFunction(\n",
              "            'suggestCharts', [key], {});\n",
              "      } catch (error) {\n",
              "        console.error('Error during call to suggestCharts:', error);\n",
              "      }\n",
              "      quickchartButtonEl.classList.remove('colab-df-spinner');\n",
              "      quickchartButtonEl.classList.add('colab-df-quickchart-complete');\n",
              "    }\n",
              "    (() => {\n",
              "      let quickchartButtonEl =\n",
              "        document.querySelector('#df-a29f4a8e-b3b2-4aab-aa22-f8a314b900ec button');\n",
              "      quickchartButtonEl.style.display =\n",
              "        google.colab.kernel.accessAllowed ? 'block' : 'none';\n",
              "    })();\n",
              "  </script>\n",
              "</div>\n",
              "    </div>\n",
              "  </div>\n"
            ],
            "application/vnd.google.colaboratory.intrinsic+json": {
              "type": "dataframe",
              "summary": "{\n  \"name\": \"data\",\n  \"rows\": 2,\n  \"fields\": [\n    {\n      \"column\": \"Num. Nan\",\n      \"properties\": {\n        \"dtype\": \"number\",\n        \"std\": 0,\n        \"min\": 0,\n        \"max\": 0,\n        \"num_unique_values\": 1,\n        \"samples\": [\n          0\n        ],\n        \"semantic_type\": \"\",\n        \"description\": \"\"\n      }\n    }\n  ]\n}"
            }
          },
          "metadata": {},
          "execution_count": 7
        }
      ]
    },
    {
      "cell_type": "code",
      "source": [
        "# Calculate the number of unique values and their occurrences in the 'rating' column\n",
        "unique_values_count = data['labels'].nunique()\n",
        "value_counts = data['labels'].value_counts()\n",
        "\n",
        "# Display the number of unique values and their occurrences\n",
        "print(f\"Number of unique values in the 'labels' column: {unique_values_count}\")\n",
        "print(\"\\nUnique values and their occurrences:\")\n",
        "value_counts"
      ],
      "metadata": {
        "colab": {
          "base_uri": "https://localhost:8080/"
        },
        "id": "00-tvEjYqYgT",
        "outputId": "39dd830b-90ca-45f0-e905-67d44c41199f"
      },
      "execution_count": 8,
      "outputs": [
        {
          "output_type": "stream",
          "name": "stdout",
          "text": [
            "Number of unique values in the 'labels' column: 5\n",
            "\n",
            "Unique values and their occurrences:\n"
          ]
        },
        {
          "output_type": "execute_result",
          "data": {
            "text/plain": [
              "labels\n",
              "sport            511\n",
              "business         510\n",
              "politics         417\n",
              "tech             401\n",
              "entertainment    386\n",
              "Name: count, dtype: int64"
            ]
          },
          "metadata": {},
          "execution_count": 8
        }
      ]
    },
    {
      "cell_type": "code",
      "source": [
        "emotion_counts = data['labels'].value_counts()\n",
        "\n",
        "# Plotting\n",
        "plt.figure(figsize=(8, 6))\n",
        "plt.pie(emotion_counts, labels=emotion_counts.index, autopct='%1.1f%%', startangle=140)\n",
        "plt.title('labels Distribution')\n",
        "plt.axis('equal')  # Equal aspect ratio ensures that pie is drawn as a circle.\n",
        "plt.show()"
      ],
      "metadata": {
        "colab": {
          "base_uri": "https://localhost:8080/",
          "height": 527
        },
        "id": "D1DYvgAnqmxI",
        "outputId": "df5ed084-b7ba-4e33-fafc-b095118c7f36"
      },
      "execution_count": 9,
      "outputs": [
        {
          "output_type": "display_data",
          "data": {
            "text/plain": [
              "<Figure size 800x600 with 1 Axes>"
            ],
            "image/png": "[encoded data removed]"
          },
          "metadata": {}
        }
      ]
    },
    {
      "cell_type": "code",
      "source": [
        "s= {'sport': 0, 'tech': 1, 'business':2, 'politics':3, 'entertainment':4 }\n",
        "data['labels'] = [s.get(i) for i in data['labels']]"
      ],
      "metadata": {
        "id": "A-WX1TxUuQI0"
      },
      "execution_count": 10,
      "outputs": []
    },
    {
      "cell_type": "code",
      "source": [
        "data"
      ],
      "metadata": {
        "colab": {
          "base_uri": "https://localhost:8080/",
          "height": 423
        },
        "id": "55wxtwEmdnd0",
        "outputId": "62c481a1-252c-4142-be86-30725449d1df"
      },
      "execution_count": 11,
      "outputs": [
        {
          "output_type": "execute_result",
          "data": {
            "text/plain": [
              "                                                   data  labels\n",
              "0     Musicians to tackle US red tape  Musicians gro...       4\n",
              "1     U2s desire to be number one  U2, who have won ...       4\n",
              "2     Rocker Doherty in on-stage fight  Rock singer ...       4\n",
              "3     Snicket tops US box office chart  The film ada...       4\n",
              "4     Oceans Twelve raids box office  Oceans Twelve,...       4\n",
              "...                                                 ...     ...\n",
              "2220  Warning over Windows Word files  Writing a Mic...       1\n",
              "2221  Fast lifts rise into record books  Two high-sp...       1\n",
              "2222  Nintendo adds media playing to DS  Nintendo is...       1\n",
              "2223  Fast moving phone viruses appear  Security fir...       1\n",
              "2224  Hacker threat to Apples iTunes  Users of Apple...       1\n",
              "\n",
              "[2225 rows x 2 columns]"
            ],
            "text/html": [
              "\n",
              "  <div id=\"df-d7e779d3-8ce0-462e-86fa-7c69194b7bb5\" class=\"colab-df-container\">\n",
              "    <div>\n",
              "<style scoped>\n",
              "    .dataframe tbody tr th:only-of-type {\n",
              "        vertical-align: middle;\n",
              "    }\n",
              "\n",
              "    .dataframe tbody tr th {\n",
              "        vertical-align: top;\n",
              "    }\n",
              "\n",
              "    .dataframe thead th {\n",
              "        text-align: right;\n",
              "    }\n",
              "</style>\n",
              "<table border=\"1\" class=\"dataframe\">\n",
              "  <thead>\n",
              "    <tr style=\"text-align: right;\">\n",
              "      <th></th>\n",
              "      <th>data</th>\n",
              "      <th>labels</th>\n",
              "    </tr>\n",
              "  </thead>\n",
              "  <tbody>\n",
              "    <tr>\n",
              "      <th>0</th>\n",
              "      <td>Musicians to tackle US red tape  Musicians gro...</td>\n",
              "      <td>4</td>\n",
              "    </tr>\n",
              "    <tr>\n",
              "      <th>1</th>\n",
              "      <td>U2s desire to be number one  U2, who have won ...</td>\n",
              "      <td>4</td>\n",
              "    </tr>\n",
              "    <tr>\n",
              "      <th>2</th>\n",
              "      <td>Rocker Doherty in on-stage fight  Rock singer ...</td>\n",
              "      <td>4</td>\n",
              "    </tr>\n",
              "    <tr>\n",
              "      <th>3</th>\n",
              "      <td>Snicket tops US box office chart  The film ada...</td>\n",
              "      <td>4</td>\n",
              "    </tr>\n",
              "    <tr>\n",
              "      <th>4</th>\n",
              "      <td>Oceans Twelve raids box office  Oceans Twelve,...</td>\n",
              "      <td>4</td>\n",
              "    </tr>\n",
              "    <tr>\n",
              "      <th>...</th>\n",
              "      <td>...</td>\n",
              "      <td>...</td>\n",
              "    </tr>\n",
              "    <tr>\n",
              "      <th>2220</th>\n",
              "      <td>Warning over Windows Word files  Writing a Mic...</td>\n",
              "      <td>1</td>\n",
              "    </tr>\n",
              "    <tr>\n",
              "      <th>2221</th>\n",
              "      <td>Fast lifts rise into record books  Two high-sp...</td>\n",
              "      <td>1</td>\n",
              "    </tr>\n",
              "    <tr>\n",
              "      <th>2222</th>\n",
              "      <td>Nintendo adds media playing to DS  Nintendo is...</td>\n",
              "      <td>1</td>\n",
              "    </tr>\n",
              "    <tr>\n",
              "      <th>2223</th>\n",
              "      <td>Fast moving phone viruses appear  Security fir...</td>\n",
              "      <td>1</td>\n",
              "    </tr>\n",
              "    <tr>\n",
              "      <th>2224</th>\n",
              "      <td>Hacker threat to Apples iTunes  Users of Apple...</td>\n",
              "      <td>1</td>\n",
              "    </tr>\n",
              "  </tbody>\n",
              "</table>\n",
              "<p>2225 rows × 2 columns</p>\n",
              "</div>\n",
              "    <div class=\"colab-df-buttons\">\n",
              "\n",
              "  <div class=\"colab-df-container\">\n",
              "    <button class=\"colab-df-convert\" onclick=\"convertToInteractive('df-d7e779d3-8ce0-462e-86fa-7c69194b7bb5')\"\n",
              "            title=\"Convert this dataframe to an interactive table.\"\n",
              "            style=\"display:none;\">\n",
              "\n",
              "  <svg xmlns=\"http://www.w3.org/2000/svg\" height=\"24px\" viewBox=\"0 -960 960 960\">\n",
              "    <path d=\"M120-120v-720h720v720H120Zm60-500h600v-160H180v160Zm220 220h160v-160H400v160Zm0 220h160v-160H400v160ZM180-400h160v-160H180v160Zm440 0h160v-160H620v160ZM180-180h160v-160H180v160Zm440 0h160v-160H620v160Z\"/>\n",
              "  </svg>\n",
              "    </button>\n",
              "\n",
              "  <style>\n",
              "    .colab-df-container {\n",
              "      display:flex;\n",
              "      gap: 12px;\n",
              "    }\n",
              "\n",
              "    .colab-df-convert {\n",
              "      background-color: #E8F0FE;\n",
              "      border: none;\n",
              "      border-radius: 50%;\n",
              "      cursor: pointer;\n",
              "      display: none;\n",
              "      fill: #1967D2;\n",
              "      height: 32px;\n",
              "      padding: 0 0 0 0;\n",
              "      width: 32px;\n",
              "    }\n",
              "\n",
              "    .colab-df-convert:hover {\n",
              "      background-color: #E2EBFA;\n",
              "      box-shadow: 0px 1px 2px rgba(60, 64, 67, 0.3), 0px 1px 3px 1px rgba(60, 64, 67, 0.15);\n",
              "      fill: #174EA6;\n",
              "    }\n",
              "\n",
              "    .colab-df-buttons div {\n",
              "      margin-bottom: 4px;\n",
              "    }\n",
              "\n",
              "    [theme=dark] .colab-df-convert {\n",
              "      background-color: #3B4455;\n",
              "      fill: #D2E3FC;\n",
              "    }\n",
              "\n",
              "    [theme=dark] .colab-df-convert:hover {\n",
              "      background-color: #434B5C;\n",
              "      box-shadow: 0px 1px 3px 1px rgba(0, 0, 0, 0.15);\n",
              "      filter: drop-shadow(0px 1px 2px rgba(0, 0, 0, 0.3));\n",
              "      fill: #FFFFFF;\n",
              "    }\n",
              "  </style>\n",
              "\n",
              "    <script>\n",
              "      const buttonEl =\n",
              "        document.querySelector('#df-d7e779d3-8ce0-462e-86fa-7c69194b7bb5 button.colab-df-convert');\n",
              "      buttonEl.style.display =\n",
              "        google.colab.kernel.accessAllowed ? 'block' : 'none';\n",
              "\n",
              "      async function convertToInteractive(key) {\n",
              "        const element = document.querySelector('#df-d7e779d3-8ce0-462e-86fa-7c69194b7bb5');\n",
              "        const dataTable =\n",
              "          await google.colab.kernel.invokeFunction('convertToInteractive',\n",
              "                                                    [key], {});\n",
              "        if (!dataTable) return;\n",
              "\n",
              "        const docLinkHtml = 'Like what you see? Visit the ' +\n",
              "          '<a target=\"_blank\" href=https://colab.research.google.com/notebooks/data_table.ipynb>data table notebook</a>'\n",
              "          + ' to learn more about interactive tables.';\n",
              "        element.innerHTML = '';\n",
              "        dataTable['output_type'] = 'display_data';\n",
              "        await google.colab.output.renderOutput(dataTable, element);\n",
              "        const docLink = document.createElement('div');\n",
              "        docLink.innerHTML = docLinkHtml;\n",
              "        element.appendChild(docLink);\n",
              "      }\n",
              "    </script>\n",
              "  </div>\n",
              "\n",
              "\n",
              "<div id=\"df-d4260389-64a7-4cb5-917c-49ac671f41ba\">\n",
              "  <button class=\"colab-df-quickchart\" onclick=\"quickchart('df-d4260389-64a7-4cb5-917c-49ac671f41ba')\"\n",
              "            title=\"Suggest charts\"\n",
              "            style=\"display:none;\">\n",
              "\n",
              "<svg xmlns=\"http://www.w3.org/2000/svg\" height=\"24px\"viewBox=\"0 0 24 24\"\n",
              "     width=\"24px\">\n",
              "    <g>\n",
              "        <path d=\"M19 3H5c-1.1 0-2 .9-2 2v14c0 1.1.9 2 2 2h14c1.1 0 2-.9 2-2V5c0-1.1-.9-2-2-2zM9 17H7v-7h2v7zm4 0h-2V7h2v10zm4 0h-2v-4h2v4z\"/>\n",
              "    </g>\n",
              "</svg>\n",
              "  </button>\n",
              "\n",
              "<style>\n",
              "  .colab-df-quickchart {\n",
              "      --bg-color: #E8F0FE;\n",
              "      --fill-color: #1967D2;\n",
              "      --hover-bg-color: #E2EBFA;\n",
              "      --hover-fill-color: #174EA6;\n",
              "      --disabled-fill-color: #AAA;\n",
              "      --disabled-bg-color: #DDD;\n",
              "  }\n",
              "\n",
              "  [theme=dark] .colab-df-quickchart {\n",
              "      --bg-color: #3B4455;\n",
              "      --fill-color: #D2E3FC;\n",
              "      --hover-bg-color: #434B5C;\n",
              "      --hover-fill-color: #FFFFFF;\n",
              "      --disabled-bg-color: #3B4455;\n",
              "      --disabled-fill-color: #666;\n",
              "  }\n",
              "\n",
              "  .colab-df-quickchart {\n",
              "    background-color: var(--bg-color);\n",
              "    border: none;\n",
              "    border-radius: 50%;\n",
              "    cursor: pointer;\n",
              "    display: none;\n",
              "    fill: var(--fill-color);\n",
              "    height: 32px;\n",
              "    padding: 0;\n",
              "    width: 32px;\n",
              "  }\n",
              "\n",
              "  .colab-df-quickchart:hover {\n",
              "    background-color: var(--hover-bg-color);\n",
              "    box-shadow: 0 1px 2px rgba(60, 64, 67, 0.3), 0 1px 3px 1px rgba(60, 64, 67, 0.15);\n",
              "    fill: var(--button-hover-fill-color);\n",
              "  }\n",
              "\n",
              "  .colab-df-quickchart-complete:disabled,\n",
              "  .colab-df-quickchart-complete:disabled:hover {\n",
              "    background-color: var(--disabled-bg-color);\n",
              "    fill: var(--disabled-fill-color);\n",
              "    box-shadow: none;\n",
              "  }\n",
              "\n",
              "  .colab-df-spinner {\n",
              "    border: 2px solid var(--fill-color);\n",
              "    border-color: transparent;\n",
              "    border-bottom-color: var(--fill-color);\n",
              "    animation:\n",
              "      spin 1s steps(1) infinite;\n",
              "  }\n",
              "\n",
              "  @keyframes spin {\n",
              "    0% {\n",
              "      border-color: transparent;\n",
              "      border-bottom-color: var(--fill-color);\n",
              "      border-left-color: var(--fill-color);\n",
              "    }\n",
              "    20% {\n",
              "      border-color: transparent;\n",
              "      border-left-color: var(--fill-color);\n",
              "      border-top-color: var(--fill-color);\n",
              "    }\n",
              "    30% {\n",
              "      border-color: transparent;\n",
              "      border-left-color: var(--fill-color);\n",
              "      border-top-color: var(--fill-color);\n",
              "      border-right-color: var(--fill-color);\n",
              "    }\n",
              "    40% {\n",
              "      border-color: transparent;\n",
              "      border-right-color: var(--fill-color);\n",
              "      border-top-color: var(--fill-color);\n",
              "    }\n",
              "    60% {\n",
              "      border-color: transparent;\n",
              "      border-right-color: var(--fill-color);\n",
              "    }\n",
              "    80% {\n",
              "      border-color: transparent;\n",
              "      border-right-color: var(--fill-color);\n",
              "      border-bottom-color: var(--fill-color);\n",
              "    }\n",
              "    90% {\n",
              "      border-color: transparent;\n",
              "      border-bottom-color: var(--fill-color);\n",
              "    }\n",
              "  }\n",
              "</style>\n",
              "\n",
              "  <script>\n",
              "    async function quickchart(key) {\n",
              "      const quickchartButtonEl =\n",
              "        document.querySelector('#' + key + ' button');\n",
              "      quickchartButtonEl.disabled = true;  // To prevent multiple clicks.\n",
              "      quickchartButtonEl.classList.add('colab-df-spinner');\n",
              "      try {\n",
              "        const charts = await google.colab.kernel.invokeFunction(\n",
              "            'suggestCharts', [key], {});\n",
              "      } catch (error) {\n",
              "        console.error('Error during call to suggestCharts:', error);\n",
              "      }\n",
              "      quickchartButtonEl.classList.remove('colab-df-spinner');\n",
              "      quickchartButtonEl.classList.add('colab-df-quickchart-complete');\n",
              "    }\n",
              "    (() => {\n",
              "      let quickchartButtonEl =\n",
              "        document.querySelector('#df-d4260389-64a7-4cb5-917c-49ac671f41ba button');\n",
              "      quickchartButtonEl.style.display =\n",
              "        google.colab.kernel.accessAllowed ? 'block' : 'none';\n",
              "    })();\n",
              "  </script>\n",
              "</div>\n",
              "    </div>\n",
              "  </div>\n"
            ],
            "application/vnd.google.colaboratory.intrinsic+json": {
              "type": "dataframe",
              "variable_name": "data",
              "summary": "{\n  \"name\": \"data\",\n  \"rows\": 2225,\n  \"fields\": [\n    {\n      \"column\": \"data\",\n      \"properties\": {\n        \"dtype\": \"string\",\n        \"num_unique_values\": 2126,\n        \"samples\": [\n          \"Media seek Jackson juror notes  Reporters covering singer Michael Jacksons trial in California have asked to see questionnaires completed by potential jurors.  Lawyers for news organisations said it was \\\"really vital\\\" for the responses of 250 potential jurors to be made public \\\"to serve as a check on the process\\\". Santa Barbara County Superior Court is due to consider the request on Monday. Mr Jackson denies child molestation. It is estimated his trial will cost Santa Barbara county up to $4m (xc2xa32.13m).  Meanwhile Michael Jacksons mother has said she is \\\"100% certain\\\" her son did not commit the child abuse charges he faces. The court is currently selecting 12 jurors and eight stand-by jurors for the trial, a process delayed until at least Thursday after a member of the stars legal team was hit by family illness. Defence lawyers argued against the bid by Associated Press and other news organisations to have potential jurors responses made public.  \\\"The release of the completed jury questionnaires does not serve any purpose other than to add to the sensationalist coverage of this case,\\\" a motion by Mr Jacksons lawyers stated. The estimated total costs of the trial, expected to last five months, range from $2.5m (xc2xa31.33m) to $4m (xc2xa32.13m) of local taxpayers money. Those estimates do not include costs to the city of Santa Maria, the Superior Court or for the investigation and prosecution of the case. The cost of security and other needs around the courthouse has been estimated at $40,000 (xc2xa321,000) per day, said Jason Stilwell, a special projects manager at the county administrators office.  Mr Jackson, 46, denies plying a boy with alcohol and molesting him. His mother Katherine Jackson told US TV network Fox News on Sunday that her pop star son told her he was innocent. \\\"I believe that for one reason - I know his character,\\\" she said. \\\"He loves children. You dont molest anything that you love.\\\" Describing Mr Jackson as \\\"a good person\\\", the mother-of-nine said she feared he would not be given a fair trial. \\\"I cant sleep thinking about what these wicked people might try to do to him,\\\" she said. \",\n          \"Game firm holds cast auditions  Video game firm Bioware is to hold open auditions for people to become cast members for future games.  The company, which makes role playing games such as Knights of the Old Republic and Neverwinter Nights, is seeking people aged 18 to 99. The Canada-based company says it was looking for \\\"a wide variety of people to use as face models for characters\\\". Everyone chosen to appear in a video game will receive a performers fee for the use of their image. The company is inviting people to come along to a shopping mall in West Edmonton, Alberta, on Friday and Saturday, bringing along a piece of photo identification.  \\\"There are hundreds and hundreds of characters in a typical Bioware game,\\\" said Shauna Perry, Biowares audio and external resources producer. \\\"Those people live in any city and village and so we need ordinary people, people with interesting faces.\\\" She added: \\\"Not everyone is a model in the world so we dont want just models in our games.\\\" People chosen to appear in a game will have their head scanned in three dimensions. Hundreds of photos of the persons head are taken so that a model of the head can be generated in 3D. \\\"The 3D model will look exactly like the person - its really quite incredible how detailed they are,\\\" said Ms Perry. She said chosen participants will have no control over how the image is used in a computer game. \\\"We cannot give people any control over how the images are used. \\\"But their face could be used in multiple games - so they could be the hero in one, the villain in another and just a merchant in a third.\\\" \",\n          \"Citizenship event for 18s touted  Citizenship ceremonies could be introduced for people celebrating their 18th birthday, Charles Clarke has said.  The idea will be tried as part of an overhaul of the way government approaches \\\"inclusive citizenship\\\" particularly for ethnic minorities. A pilot scheme based on ceremonies in Australia will start in October. Mr Clarke said it would be a way of recognising young people reaching their voting age when they also gain greater independence from parents. Britains young black and Asian people are to be encouraged to learn about the nations heritage as part of the governments new race strategy which will also target specific issues within different ethnic minority groups. Officials say the home secretary wants young people to feel they belong and to understand their \\\"other cultural identities\\\" alongside being British. The launch follows a row about the role of faith schools in Britain. On Monday school inspection chief David Bell, accused some Islamic schools of failing to teach pupils about their obligations to British society.  The Muslim Council of Britain said Ofsted boss Mr Bells comments were \\\"highly irresponsible\\\". The Home Office started work on its Community Cohesion and Race Equality Strategy last year and the outcome, launched on Wednesday, is called Improving Opportunity, Strengthening Society. It is aimed at tackling racism, exclusion, segregation and the rise in political and religious extremism. \\\"It represents a move away from the one-size-fits-all approach to focus on specifics within cultural groups,\\\" said a Home Office spokesman. \\\"It is not right to say that if you are from a black or ethnic minority group you must be disadvantaged.\\\" The spokesman highlighted specific issues that affect particular communities - for example people of south Asian origin tend to suffer from a high incidence of heart disease.  \\\"It is about drilling down and focusing on these sorts of problems,\\\" the spokesman added. Launching the initiative Mr Clarke said enormous progress had been made on race issues in recent years. He added: \\\"But while many members of black and minority ethnic communities are thriving, some may still find it harder to succeed in employment or gain access to healthcare, education or housing. \\\"This strategy sets out the governments commitment to doing more to identify and respond to the specific needs of minorities in our society.\\\" Some 8% of the UK population described themselves as coming from a non-white ethnic minority in the 2001 Census.  The Downing Street Strategy Unit in 2003 said people from Indian and Chinese backgrounds were doing well on average, often outperforming white people in education and earnings. But those of Pakistani, Bangladeshi and black Caribbean origin were significantly more likely to be unemployed and earn less than whites, it said. The Home Office wants more initiatives which try to promote a sense of belonging by encouraging young people to take part in voluntary work. The programmes are designed to support the citizenship lessons already taking place in schools. \"\n        ],\n        \"semantic_type\": \"\",\n        \"description\": \"\"\n      }\n    },\n    {\n      \"column\": \"labels\",\n      \"properties\": {\n        \"dtype\": \"number\",\n        \"std\": 1,\n        \"min\": 0,\n        \"max\": 4,\n        \"num_unique_values\": 5,\n        \"samples\": [\n          2,\n          1,\n          0\n        ],\n        \"semantic_type\": \"\",\n        \"description\": \"\"\n      }\n    }\n  ]\n}"
            }
          },
          "metadata": {},
          "execution_count": 11
        }
      ]
    },
    {
      "cell_type": "code",
      "source": [
        "data = data.drop_duplicates()\n",
        "data.shape"
      ],
      "metadata": {
        "colab": {
          "base_uri": "https://localhost:8080/"
        },
        "id": "v4CiS030dt8b",
        "outputId": "50b67d93-2496-4876-9d07-acfca6a5f934"
      },
      "execution_count": 10,
      "outputs": [
        {
          "output_type": "execute_result",
          "data": {
            "text/plain": [
              "(2126, 2)"
            ]
          },
          "metadata": {},
          "execution_count": 10
        }
      ]
    },
    {
      "cell_type": "code",
      "source": [
        "import random"
      ],
      "metadata": {
        "id": "OycrcMXwhle8"
      },
      "execution_count": 11,
      "outputs": []
    },
    {
      "cell_type": "code",
      "source": [
        "\n",
        "# Convert the 'News' column to a list\n",
        "News_list = data['data'].tolist()\n",
        "\n",
        "# Select 10 random News using random.sample\n",
        "random_News = random.sample(News_list, 10)\n",
        "\n",
        "# Print the selected News\n",
        "print(\"\\nSelected random News:\")\n",
        "for News in random_News:\n",
        "    print(News)"
      ],
      "metadata": {
        "colab": {
          "base_uri": "https://localhost:8080/"
        },
        "id": "6z7bZ_JfgtkX",
        "outputId": "9070dee5-407e-4614-ef6a-1f18593ce647"
      },
      "execution_count": 12,
      "outputs": [
        {
          "output_type": "stream",
          "name": "stdout",
          "text": [
            "\n",
            "Selected random News:\n",
            "Orange colour clash set for court  A row over the colour orange could hit the courts after mobile phone giant Orange launched action against a new mobile venture from Easyjets founder.  Orange said it was starting proceedings against the Easymobile service for trademark infringement. Easymobile uses Easygroups orange branding. Founder Stelios Haji-Ioannou has pledged to contest the action. The move comes after the two sides failed to come to an agreement after six months of talks. Orange claims the new low-cost mobile service has infringed its rights regarding the use of the colour orange and could confuse customers - known as \"passing off\".  \"Our brand, and the rights associated with it are extremely important to us,\" Orange said in a statement. \"In the absence of any firm commitment from Easy, we have been left with no choice but to start an action for trademark infringement and passing off.\" However, Mr Haji-Ioannou, who plans to launch Easymobile next month, vowed to fight back, saying: \"We have nothing to be afraid of in this court case. \"It is our right to use our own corporate colour for which we have become famous during the last 10 years.\" The Easyjet founder also said he planned to add a disclaimer to the Easygroup website to ensure customers are aware the Easymobile brand has no connection to Orange. The new service is the latest venture from Easygroup, which includes a chain of internet cafes, budget car rentals and an intercity bus service. Easymobile will allow customers to go online to order SIM cards and airtime - which will be rented from T-Mobile - for their existing handsets. \n",
            "EU-US seeking deal on air dispute  The EU and US have agreed to begin talks on ending subsidies given to aircraft makers, EU Trade Commissioner Peter Mandelson has announced.  Both sides hope to reach a negotiated deal over state aid received by European aircraft maker Airbus and its US rival Boeing, Mr Mandelson said. Airbus and Boeing accuse each other of benefiting from illegal subsidies. Mr Mandelson said the EU and US hoped to avoid having to resolve the dispute at the World Trade Organisation (WTO).  \"With this agreement the EU and US have confirmed their willingness to resolve the dispute which has arisen between them,\" Mr Mandelson said. \"I hope our negotiations in the next three months will lead to an agreement ending subsidies to development and production of large civil aircraft.\" Last year, the US terminated an agreement with the EU, reached in 1992, which limits the subsidies countries can hand over to civil aircraft makers. The US filed a complaint against Brussels with the WTO over state aid to Airbus, prompting a retaliatory EU complaint over US support for Boeing. However, both sides agreed to suspend their requests for WTO arbitration at the beginning of December, to allow bilateral talks to continue. EADS and BAE Systems, the European defence and aerospace firms which own Airbus, welcomed Mr Mandelsons announcement. \"It has always been preferable that any differences between the US and Europe on this matter be overcome through constructive discussion rather than through legal recourse,\" the companies said in a joint statement.  Separately, the worlds largest package delivery company, UPS, said it had placed an order for 10 Airbus A380 superjumbo freight-carrying jets, with an option to buy 10 more of the triple-decker aircraft. The US company said it needed to expand its air freight capacity following strong international growth, and would begin receiving deliveries of the A380s from 2009. However, UPS said it was cutting a previous order for smaller Airbus A300s from 90 planes to 53. So far, Airbus has delivered 40 A300s to UPS. Airbus overtook Boeing as the worlds largest manufacturer of commercial airliners in 2003. \n",
            "Oil prices fall back from highs  Oil prices retreated from four-month highs in early trading on Tuesday after producers cartel Opec said it was now unlikely to cut production.  Following the comments by acting Opec secretary general Adnan Shihab-Eldin, US light crude fell 32 cents to $51.43 a barrel. He said that high oil prices meant Opec was unlikely to stick to its plan to cut output in the second quarter. In London, Brent crude fell 32 cents to $49.74 a barrel.  Opec members are next meeting to discuss production levels on 16 March. On Monday, oil prices rose for a sixth straight session, reaching a four-month high as cold weather in the US threatened stocks of heating oil. US demand for heating oil was predicted to be about 14% above normal this week, while stocks were currently about 7.5% below the levels of a year ago. Cold weather across Europe has also put upward pressure on crude prices. \"\n",
            "Global digital divide narrowing  The \"digital divide\" between rich and poor nations is narrowing fast, according to a World Bank report.  The World Bank questioned a United Nations campaign to increase usage and access to technology in poorer nations. \"People in the developing world are getting more access at an incredible rate - far faster than... in the past,\" said the report. But a spokesman for the UNs World Summit on the Information Society said the digital divide remained very real. \"The digital divide is rapidly closing,\" the World Bank report said.  Half the worlds population now has access to a fixed-line telephone, the report said, and 77% to a mobile network.  The reports figures surpass a WSIS campaign goal that calls for 50% access to telephones by 2015. The UN hopes that widening access to technology such as mobile phones and the net will help eradicate poverty. \"Developing countries are catching up with the rich world in terms of access [to mobile networks],\" the report said. \"Africa is part of a worldwide trend of rapid rollout... this applies to countries rich and poor, reformed or not, African, Asian, European and Latin American.\"  A spokesman for the World Summit for the Information Society (WSIS), which is meeting this week in Geneva, told the BBC News website: \"The digital divide is very much real and needs to be addressed. \"Some financing has to be found to help narrow the divide.\" On Tuesday, a meeting of the WSIS in Geneva agreed to the creation of a Digital Solitary Fund. \"The fund is voluntary and will help finance local community-based projects,\" said the WSIS spokesman. Under the proposals agreed, voluntary contribution of 1% on contracts obtained by private technology service providers could be made to the Digital Solidarity Fund. The exact financing mechanism of the fund is to be ironed out in the coming days, said the WSIS. Sixty percent of resources collected by the fund will be made available for projects in least developed countries, 30% for projects in developing countries, and 10% for projects in developed countries. \n",
            "Robinson ready for difficult task  England coach Andy Robinson faces the first major test of his tenure as he tries to get back to winning ways after the Six Nations defeat by Wales.  Robinson is likely to make changes in the back row and centre after the 11-9 loss as he contemplates Sundays set-to with France at Twickenham. Lewis Moody and Martin Corry could both return after missing the game with hamstring and shoulder problems. And the midfield pairing of Mathew Tait and Jamie Noon is also under threat. Olly Barkley immediately allowed England to generate better field position with his kicking game after replacing debutant Tait just before the hour. The Bath fly-half-cum-centre is likely to start against France, with either Tait or Noon dropping out.  Tait, given little opportunity to shine in attack, received praise from Robinson afterwards, even if the coach admitted Cardiff was an \"unforgiving place\" for the teenage prodigy. Robinson now has a tricky decision over whether to withdraw from the firing line, after just one outing, a player he regards as central to Englands future. Tait himself, at least outwardly, appeared unaffected by the punishing treatment dished out to him by Gavin Henson in particular. \"I want more of that definitely,\" he said. \"Hopefully I can train hard this week and get selected for next week but well have to look at the video and wait and see. \"We were playing on our own 22 for a lot of the first half so it was quite difficult. I thought we defended reasonably well but weve just got to pick it up for France.\"  His Newcastle team-mate Noon hardly covered himself in glory in his first major Test. He missed a tackle on Michael Owen in the build-up to Wales try, conceded a penalty at the breakdown, was turned over in another tackle and fumbled Gavin Hensons cross-kick into touch, all inside the first quarter. His contribution improved in the second half, but England clearly need more of a playmaker in the inside centre role. Up front, the line-out remains fallible, despite a superb performance from Chris Jones, whose athleticism came to the fore after stepping into the side for Moody. It is more likely the Leicester flanker will return on the open side for the more physical challenge posed by the French forwards, with Andy Hazell likely to make way. Lock Ben Kay also justified his recall with an impressive all-round display on his return to the side, but elsewhere England positives were thin on the ground. \n",
            "Venus stunned by Farina Elia  Venus Williams suffered a first-round defeat for the first time in four years at the Dubai Championships.  Sylvia Farina Elia, who had lost all nine of her previous meetings with the American fifth seed, won 7-5 7-6 (8-6). Former Wimbledon champion Conchita Martinez and Indias Sania Mirza, the oldest and youngest players in the draw, also reached the second round. Martinez, 32, beat Shinobu Asagoe 6-4 6-4 and 18-year-old Mirza beat Jelena Kostanic 6-7 (7-2) 6-4 6-1. Mirza, the first Indian woman to win a WTA Tour title this month on home ground at Hyderabad, will now face US Open champion Svetlana Kuznetsova.  But she is remaining confident. \"She (Kuznetsova) is a great player,\" she said. \"But everyone is beatable and I am looking forward to a great match.\" Williams though blamed her defeat by Farina Elia on injuries. \"Blisters were a factor, but mostly my stomach wasnt that great,\" she said. \"I did it in the last tournament in the semi-finals, and I was serving at 40% in the final. \"The first time I served again was Sunday and there wasnt a lot I could do out there. When your serve isnt good it throws the rest of your game off too.\" She will wait to see how she recovers before deciding whether to take part in the Nasdaq-100 Open in Miami, starting on 21 March. \n",
            "Mourinho receives Robson warning  Sir Bobby Robson has offered Chelsea boss Jose Mourinho some advice on coping under pressure.  The pair worked together at Barcelona and Porto and Robson had a word of warning for his protege. \"It has all gone for him just lately and that is marvellous, but sometimes you have to have a bit of humility and learn how to lose,\" said Robson. \"It is when it goes against you and you get a bit of bad luck that you learn, and hell get it straight.\" Robson was speaking after being formally granted the freedom of the city of Newcastle. \"Jose is doing very well at the moment,\" Robson added of the man who worked for him for six years. \"He has got one pot - possibly two to follow - a big game against Barcelona to come and I cannot see them losing their lead in the Premiership. \"They are in a good position and I would expect them to go on and win it, which is a wonderful achievement.  \"What has occurred over the last couple of weeks will stand him in very good stead for the future. If he is intelligent, he will take it on board - and he is very intelligent. \"He will have learned more in the last fortnight than the last eight months. Before that, it was all about winning.\" Robson also admitted he would relish the chance to get back into management and test his skills against Mourinho. \"I am not in a hurry to take the wrong job, but I am ready to take the right job and I feel there is another job in me,\" he added. \"I know the area I am capable of working in and of course I would like a job in the Premiership if one was available. \"It would not worry me if I had to pit my wits against Jose. \"But it is not just a case of him and me against one another. It would be his team against my team - but I would not be afraid of that.\" \n",
            "Yeading face Newcastle in FA Cup  Premiership side Newcastle United face a trip to Ryman Premier League leaders Yeading in the FA Cup third round.  The game - arguably the highlight of the draw - is a potential money-spinner for non-League Yeading, who beat Slough in the second round. Conference side Exeter City, who knocked out Doncaster on Saturday, will travel to Old Trafford to meet holders Manchester United in January. Arsenal were drawn at home to Stoke and Chelsea will play host to Scunthorpe. The only other non-League side in the draw are Hinckley United, who held Brentford to a goalless draw on Sunday. They will meet League One leaders Luton if they win their replay against Martin Allens team at Griffin Park.  A number of Premiership teams face difficult away games against Championship sides on the weekend of 8/9 January. Third-placed Everton visit Plymouth, Liverpool travel to Burnley, Crystal Palace go to Sunderland, Fulham face Carling Cup semi-finalists Watford, Bolton meet Ipswich, while Aston Villa were drawn against Sheffield United. Premiership strugglers Norwich, Blackburn, West Brom are away at West Ham, Cardiff and Preston North End respectively. Southampton visit Northampton, having already beaten the League Two side in the Carling Cup earlier this season. Middlesbrough were drawn away against either Swindon or Notts County, while Spurs entertain Brighton at White Hart Lane.  Arsenal v Stoke  Swindon/Notts Co v Middlesbrough  Man Utd v Exeter  Plymouth v Everton  Leicester v Blackpool  Derby v Wigan  Sunderland v Crystal Palace  Wolves v Millwall  Yeading v Newcastle  Hull v Colchester  Tottenham v Brighton  Reading v Stockport/Swansea  Birmingham v Leeds  Hartlepool v Boston  Milton Keynes Dons v Peterborough  Oldham v Man City  Chelsea v Scunthorpe  Cardiff v Blackburn  Charlton v Rochdale  West Ham v Norwich  Sheff Utd v Aston Villa  Preston v West Brom  Rotherham v Yeovil  Burnley v Liverpool  Bournemouth v Chester  Coventry v Crewe  Watford v Fulham  Ipswich v Bolton  Portsmouth v Gillingham  Northampton v Southampton  QPR v Nottm Forest  Luton v Hinckley/Brentford  Matches to be played on weekend of 8/9 January. \"\n",
            "Public show for Reynolds portrait  Sir Joshua Reynolds Portrait of Omai will get a public airing following fears it would stay hidden because of an export wrangle.  The Tate Gallery unsuccessfully tried to buy the picture from its anonymous owner after a ban was issued preventing the painting from leaving the UK. The 18th Century painting has remained in storage but the owner has agreed to allow it to be part of an exhibition. The exhibition of Reynolds work will be shown at Tate Britain from May. Joshua Reynolds: The Creation of Celebrity will feature prints, caricatures, and sculpture by the 18th Century artist, who painted some of the most famous personalities of his day. Portrait of Omai fetched the second highest amount for a British painting when it was sold at auction for xc2xa310.3m in 2001. It was bought by a London dealer who sold it on to a collector. The unnamed collector wanted to take it out of the country, but was barred from doing so by the government because of its historical significance.  In March 2004, the Tate managed to raise xc2xa312.5m funding to buy the portrait but the owner refused to sell and it has been held in storage since. The portrait is of a young man who was dubbed \"the noble savage\" when he arrived in London from Polynesia. He became a darling of London society and was invited to all the best parties by people who were fascinated by such an exotic character. Sir Joshua painted him after his arrival in 1774, and it became the artists most famous work after it was first exhibited at the Royal Academy in 1776. \n",
            "Lib Dems bold election policy  Charles Kennedy has told voters his Liberal Democrats will offer them an \"honest choice\" at the next general election.  With the other two big parties battling over which will impose the lowest taxes, Mr Kennedy is going into the looming election pledged to increase taxation. It is a bold policy and certainly ensures there is that choice between the Lib Dems and the other two. With his partys previous pledge to increase taxes by one penny in the pound to spend on public services already adopted by the government, he has switched tack. Now he is promising to levy a \"modest\" increase of the same amount on earnings over xc2xa3100,000 a year to allow him to finance a series of pledges. They are to scrap student fees, finance free long term care for the elderly and replace the council tax with a local income tax. That last policy will also see about 3% of the most well off paying more while others, pensioners in particular, will pay less.  Labour and the Tories have attacked his policies as both unworkable and not properly costed.  Inevitably they insist there is no need to raise taxes to fund improvements in services. The Tories claim they can improve services AND cut taxes through xc2xa335bn efficiency savings, while Labour has offered xc2xa322bn savings but has yet to map out precise tax proposals, although there is little chance they will propose increases. In many ways the argument between the Lib Dems and the others over taxation and spending echo the sort of arguments that raged between Labour and the Tories in the 1980s and early 1990s. But, unlike the old Tory-Labour debate, he believes voters are ready to see \"modest\" tax increases on the well off in order to fund improvements in services. That is a view partly endorsed by recent polls suggesting people would rather have cash spent on public services than tax cuts.  Similarly there is a different tone to the Lib Dem approach to asylum and immigration, with Mr Kennedy stressing politicians should not \"foment an artificial debate\" about immigration and attacking Michael Howards proposals for quotas. Once again, with the two other big parties singing similar songs on immigration, Mr Kennedy is stressing the different, more liberal approach of his party. Mr Kennedy was also in buoyant mood over his partys election chances, declaring the Tories were not going to be \"significant players\" in the poll. He repeated his pledge not to do post-election deals with either party after the election. Mr Kennedy went on to suggest the re-election of a Labour government with a small majority would amount to a \"massive vote of no confidence \" in Tony Blairs government. That suggests the Lib Dem leader believes he may well find himself in a powerful, even pivotal position in a vastly different House of Commons after the next election. It is a dream the third party has dreamed many times before. \n"
          ]
        }
      ]
    },
    {
      "cell_type": "code",
      "source": [
        "# Function to print before and after states\n",
        "def print_before_after(step, before, after):\n",
        "    print(f\"\\n--- {step} ---\")\n",
        "    for i in range(3):  # Show the first three items for brevity\n",
        "        print(f\"Before: {before[i]}\")\n",
        "        print(f\"After : {after[i]}\")\n",
        "        print()"
      ],
      "metadata": {
        "id": "Wn9Gh2ACfI4H"
      },
      "execution_count": 13,
      "outputs": []
    },
    {
      "cell_type": "code",
      "source": [
        "import spacy"
      ],
      "metadata": {
        "id": "G_JjlwP7khIc"
      },
      "execution_count": 14,
      "outputs": []
    },
    {
      "cell_type": "code",
      "source": [
        "# Step-by-step functions\n",
        "def to_lowercase(text):\n",
        "    text = text.lower()\n",
        "    return text\n",
        "\n",
        "print(\"Before Lowercase:\")\n",
        "before_step_1 = data['data'].copy()\n",
        "data['data'] = data['data'].apply(to_lowercase)\n",
        "print_before_after(\"Step 1: Trim Leading and Trailing Whitespace\", before_step_1, data['data'])\n",
        "print(\"\\n\")"
      ],
      "metadata": {
        "colab": {
          "base_uri": "https://localhost:8080/"
        },
        "id": "9Ek2JuPMELs1",
        "outputId": "bde734c6-2f9d-46b7-d9ca-457a796bf565"
      },
      "execution_count": 15,
      "outputs": [
        {
          "output_type": "stream",
          "name": "stdout",
          "text": [
            "Before Lowercase:\n",
            "\n",
            "--- Step 1: Trim Leading and Trailing Whitespace ---\n",
            "Before: Musicians to tackle US red tape  Musicians groups are to tackle US visa regulations which are blamed for hindering British acts chances of succeeding across the Atlantic.  A singer hoping to perform in the US can expect to pay $1,300 (xc2xa3680) simply for obtaining a visa. Groups including the Musicians Union are calling for an end to the \"raw deal\" faced by British performers. US acts are not faced with comparable expense and bureaucracy when visiting the UK for promotional purposes.  Nigel McCune from the Musicians Union said British musicians are \"disadvantaged\" compared to their US counterparts. A sponsor has to make a petition on their behalf, which is a form amounting to nearly 30 pages, while musicians face tougher regulations than athletes and journalists. \"If you make a mistake on your form, you risk a five-year ban and thus the ability to further your career,\" says Mr McCune.  \"The US is the worlds biggest music market, which means something has to be done about the creaky bureaucracy,\" says Mr McCune. \"The current situation is preventing British acts from maintaining momentum and developing in the US,\" he added.  The Musicians Union stance is being endorsed by the Music Managers Forum (MMF), who say British artists face \"an uphill struggle\" to succeed in the US, thanks to the tough visa requirements, which are also seen as impractical. The MMFs general secretary James Seller said: \"Imagine if you were an orchestra from the Orkneys? Every member would have to travel to London to have their visas processed.\"  \"The US market is seen as the holy grail and one of the benchmarks of success, and were still going to fight to get in there. \"Its still very important, but there are other markets like Europe, India and China,\" added Mr Seller. A Department for Media, Culture and Sport spokeswoman said: \"Were aware that people are experiencing problems, and are working with the US embassy and record industry to see what we can do about it.\" A US Embassy spokesman said: \"We are aware that entertainers require visas for time-specific visas and are doing everything we can to process those applications speedily.\" \"We are aware of the importance of cultural exchange and we will do our best to facilitate that,\" he added. \n",
            "After : musicians to tackle us red tape  musicians groups are to tackle us visa regulations which are blamed for hindering british acts chances of succeeding across the atlantic.  a singer hoping to perform in the us can expect to pay $1,300 (xc2xa3680) simply for obtaining a visa. groups including the musicians union are calling for an end to the \"raw deal\" faced by british performers. us acts are not faced with comparable expense and bureaucracy when visiting the uk for promotional purposes.  nigel mccune from the musicians union said british musicians are \"disadvantaged\" compared to their us counterparts. a sponsor has to make a petition on their behalf, which is a form amounting to nearly 30 pages, while musicians face tougher regulations than athletes and journalists. \"if you make a mistake on your form, you risk a five-year ban and thus the ability to further your career,\" says mr mccune.  \"the us is the worlds biggest music market, which means something has to be done about the creaky bureaucracy,\" says mr mccune. \"the current situation is preventing british acts from maintaining momentum and developing in the us,\" he added.  the musicians union stance is being endorsed by the music managers forum (mmf), who say british artists face \"an uphill struggle\" to succeed in the us, thanks to the tough visa requirements, which are also seen as impractical. the mmfs general secretary james seller said: \"imagine if you were an orchestra from the orkneys? every member would have to travel to london to have their visas processed.\"  \"the us market is seen as the holy grail and one of the benchmarks of success, and were still going to fight to get in there. \"its still very important, but there are other markets like europe, india and china,\" added mr seller. a department for media, culture and sport spokeswoman said: \"were aware that people are experiencing problems, and are working with the us embassy and record industry to see what we can do about it.\" a us embassy spokesman said: \"we are aware that entertainers require visas for time-specific visas and are doing everything we can to process those applications speedily.\" \"we are aware of the importance of cultural exchange and we will do our best to facilitate that,\" he added. \n",
            "\n",
            "Before: U2s desire to be number one  U2, who have won three prestigious Grammy Awards for their hit Vertigo, are stubbornly clinging to their status as one of the biggest bands in the world.  The most popular groups in the history of rock all have several things in common. The music must be inspired and appeal across generations and be distinctive, if not always groundbreaking. But such success is down to more than music. They have to be compelling performers, charismatic and intelligent enough to make good decisions and keep their feet on the ground. They also have to want it. They have to want to be the biggest band ever and not stop wanting it. The Beatles had it, the Rolling Stones still have it, REM hold onto it and Queen were it in a catsuit. And U2 have it in spades, and keep churning it out. Their new album, How To Dismantle An Atomic Bomb, comes 28 years after the schoolfriends got together in Dublin and 17 years after The Joshua Tree cemented their place on the all-time rock A-list.  They may have lost some of the edginess and raw, youthful force that propelled them to the top, but they have lost none of the desire or ability to craft songs and albums.  Vertigo, the first single from the new album, went straight into the UK singles chart at number one, knocking Eminem off the top spot and giving them their 26th top 10 hit. \"The challenge is to be bigger and bolder and better - to make records the whole world will listen to,\" Bono recently said. Drummer Larry Mullen Jr echoed those sentiments: \"Were very competitive - we want to be on the radio, have big singles. We dont want to be thought of as a veteran band.\" The band have done \"everything in their considerable powers\" to ensure they remain the biggest band in the world, according to Q magazine editor Paul Rees.  \"This makes them hugely determined and formidable.\" He added: \"They are equally determined to push themselves to make music that continues to stand up. \"As such, theyve constantly re-invented and challenged themselves. They are, perhaps, alone as the only rock band that has got better with age.\" The other key ingredient was the fact they were highly organised, Mr Rees said. \"They do everything in the right way.\" The group were born when Mullen put an appeal for bandmates on a high school notice board, attracting fellow pupils Paul Hewson (Bono, vocals), Adam Clayton (bass), David Evans (The Edge, guitar) and his brother Dick.  Dick Evans soon dropped out and the four-piece were known as The Feedback and The Hype before settling on U2.  By 1978, they had won a talent contest and got noticed by a manager, Paul McGuinness. \"They were brilliant, but very coarse,\" McGuinness recently said. \"In a way, they were doing exactly what they do now. Only badly.\" They struggled to attract record company attention, later being described as \"pretty damn average\" and \"strange and eerie\" by scouts who saw them live. They released two Ireland-only singles, which topped the national charts in 1979 and 1980, leading to a deal with Island and their debut album Boy. The stadium-filling, anthemic sound was U2s aim from the start, and their third album, War, saw them make the breakthrough on both sides of the Atlantic, going to number one in the UK and 12 in the US. Songs like Sunday Bloody Sunday and New Years Day brought success and an image as a political and spiritual band - which Bono rejected as a cliche.  His stage performances - which included flag-waving, speaker-climbing and drum-throwing - earned him a reputation as an electric performer, and their appearance at 1985s Live Aid is widely seen as sealing their global stardom.  In 1987, The Joshua Tree broke sales records and saw the band reach the height of their powers with hits including Where the Streets Have No Name, I Still Havent Found What Im Looking For and With Or Without You. Those songs took the bands epic, atmospheric sound to a simple, powerful and popular pinnacle. The end of the decade marked a crucial point for the band - they had reached the top but still yearned for new challenges and achievements. These came in the form of explorations of different branches of rock and forays into electronic dance music, plus wildly extravagant stage shows, while still trying to retain their mass appeal. The Achtung Baby album in 1991 was followed by Zooropa, Pop and their corresponding stadium tours, which featured giant olives, flying cars, live phone calls to the White House and Bonos transformation into alter-egos The Fly and MacPhisto. He was also building a parallel reputation - not always to the pleasure of his bandmates - as a campaigner on issues from global debt to Aids. Before the release of How To Dismantle An Atomic Bomb, they had sold 125 million albums around the world. But they still want more. \n",
            "After : u2s desire to be number one  u2, who have won three prestigious grammy awards for their hit vertigo, are stubbornly clinging to their status as one of the biggest bands in the world.  the most popular groups in the history of rock all have several things in common. the music must be inspired and appeal across generations and be distinctive, if not always groundbreaking. but such success is down to more than music. they have to be compelling performers, charismatic and intelligent enough to make good decisions and keep their feet on the ground. they also have to want it. they have to want to be the biggest band ever and not stop wanting it. the beatles had it, the rolling stones still have it, rem hold onto it and queen were it in a catsuit. and u2 have it in spades, and keep churning it out. their new album, how to dismantle an atomic bomb, comes 28 years after the schoolfriends got together in dublin and 17 years after the joshua tree cemented their place on the all-time rock a-list.  they may have lost some of the edginess and raw, youthful force that propelled them to the top, but they have lost none of the desire or ability to craft songs and albums.  vertigo, the first single from the new album, went straight into the uk singles chart at number one, knocking eminem off the top spot and giving them their 26th top 10 hit. \"the challenge is to be bigger and bolder and better - to make records the whole world will listen to,\" bono recently said. drummer larry mullen jr echoed those sentiments: \"were very competitive - we want to be on the radio, have big singles. we dont want to be thought of as a veteran band.\" the band have done \"everything in their considerable powers\" to ensure they remain the biggest band in the world, according to q magazine editor paul rees.  \"this makes them hugely determined and formidable.\" he added: \"they are equally determined to push themselves to make music that continues to stand up. \"as such, theyve constantly re-invented and challenged themselves. they are, perhaps, alone as the only rock band that has got better with age.\" the other key ingredient was the fact they were highly organised, mr rees said. \"they do everything in the right way.\" the group were born when mullen put an appeal for bandmates on a high school notice board, attracting fellow pupils paul hewson (bono, vocals), adam clayton (bass), david evans (the edge, guitar) and his brother dick.  dick evans soon dropped out and the four-piece were known as the feedback and the hype before settling on u2.  by 1978, they had won a talent contest and got noticed by a manager, paul mcguinness. \"they were brilliant, but very coarse,\" mcguinness recently said. \"in a way, they were doing exactly what they do now. only badly.\" they struggled to attract record company attention, later being described as \"pretty damn average\" and \"strange and eerie\" by scouts who saw them live. they released two ireland-only singles, which topped the national charts in 1979 and 1980, leading to a deal with island and their debut album boy. the stadium-filling, anthemic sound was u2s aim from the start, and their third album, war, saw them make the breakthrough on both sides of the atlantic, going to number one in the uk and 12 in the us. songs like sunday bloody sunday and new years day brought success and an image as a political and spiritual band - which bono rejected as a cliche.  his stage performances - which included flag-waving, speaker-climbing and drum-throwing - earned him a reputation as an electric performer, and their appearance at 1985s live aid is widely seen as sealing their global stardom.  in 1987, the joshua tree broke sales records and saw the band reach the height of their powers with hits including where the streets have no name, i still havent found what im looking for and with or without you. those songs took the bands epic, atmospheric sound to a simple, powerful and popular pinnacle. the end of the decade marked a crucial point for the band - they had reached the top but still yearned for new challenges and achievements. these came in the form of explorations of different branches of rock and forays into electronic dance music, plus wildly extravagant stage shows, while still trying to retain their mass appeal. the achtung baby album in 1991 was followed by zooropa, pop and their corresponding stadium tours, which featured giant olives, flying cars, live phone calls to the white house and bonos transformation into alter-egos the fly and macphisto. he was also building a parallel reputation - not always to the pleasure of his bandmates - as a campaigner on issues from global debt to aids. before the release of how to dismantle an atomic bomb, they had sold 125 million albums around the world. but they still want more. \n",
            "\n",
            "Before: Rocker Doherty in on-stage fight  Rock singer Pete Doherty has been involved in a fight with his bands guitarist at their biggest gig to date.  Babyshambles played for 5,000 fans at Londons Brixton Academy on Tuesday. The former Libertines singer traded blows with guitarist Patrick Walden. They were separated and bundled off stage before returning to end the set. The show was earlier held up due to audience overcrowding. On Monday Doherty faced blackmail and robbery charges in court, which he denies. He is out on xc2xa350,000 bail and the judge agreed to extend his 2200 GMT curfew deadline by two hours so he could play the Brixton gig.  Babyshambles, which he formed after his acrimonious departure from the Libertines, played a warm-up show at The Garage, north London, on Monday. On Tuesday, Doherty and his three bandmates were introduced to the crowd by Mick Jones, the former Clash guitarist who produced the Libertines second album. Babyshambles took the stage to a frenzied reception at 2200 GMT, launching into their last single, Killamangiro, which reached number eight in December. But the group had to stop during the next song to persuade fans not to push forward and allow security guards to pull people out of the crush. Doherty appealed to fans to calm down, saying: \"Theres a few people getting hurt down the front, youve got to move back.\"  The music resumed minutes later but after several more songs, the singer appeared to accidentally disconnect Waldens guitar, leading the pair to trade kicks and punches. Bouncers stepped in and the band left the stage, but returned after five minutes and finished their 50-minute performance with no further trouble. Doherty, 25, had to be home by midnight to observe the curfew, which is one of the conditions of his bail. On Monday, the judge agreed to allow him to perform on condition that requests for changes to his bail terms were \"not too regular an occurrence\". The singer was arrested with fellow musician Alan Wass on 2 February after an alleged dispute with documentary-maker Max Carlish at a London hotel. They are next due in court on 18 April. \n",
            "After : rocker doherty in on-stage fight  rock singer pete doherty has been involved in a fight with his bands guitarist at their biggest gig to date.  babyshambles played for 5,000 fans at londons brixton academy on tuesday. the former libertines singer traded blows with guitarist patrick walden. they were separated and bundled off stage before returning to end the set. the show was earlier held up due to audience overcrowding. on monday doherty faced blackmail and robbery charges in court, which he denies. he is out on xc2xa350,000 bail and the judge agreed to extend his 2200 gmt curfew deadline by two hours so he could play the brixton gig.  babyshambles, which he formed after his acrimonious departure from the libertines, played a warm-up show at the garage, north london, on monday. on tuesday, doherty and his three bandmates were introduced to the crowd by mick jones, the former clash guitarist who produced the libertines second album. babyshambles took the stage to a frenzied reception at 2200 gmt, launching into their last single, killamangiro, which reached number eight in december. but the group had to stop during the next song to persuade fans not to push forward and allow security guards to pull people out of the crush. doherty appealed to fans to calm down, saying: \"theres a few people getting hurt down the front, youve got to move back.\"  the music resumed minutes later but after several more songs, the singer appeared to accidentally disconnect waldens guitar, leading the pair to trade kicks and punches. bouncers stepped in and the band left the stage, but returned after five minutes and finished their 50-minute performance with no further trouble. doherty, 25, had to be home by midnight to observe the curfew, which is one of the conditions of his bail. on monday, the judge agreed to allow him to perform on condition that requests for changes to his bail terms were \"not too regular an occurrence\". the singer was arrested with fellow musician alan wass on 2 february after an alleged dispute with documentary-maker max carlish at a london hotel. they are next due in court on 18 april. \n",
            "\n",
            "\n",
            "\n"
          ]
        },
        {
          "output_type": "stream",
          "name": "stderr",
          "text": [
            "<ipython-input-15-339f9a7ea02d>:8: SettingWithCopyWarning: \n",
            "A value is trying to be set on a copy of a slice from a DataFrame.\n",
            "Try using .loc[row_indexer,col_indexer] = value instead\n",
            "\n",
            "See the caveats in the documentation: https://pandas.pydata.org/pandas-docs/stable/user_guide/indexing.html#returning-a-view-versus-a-copy\n",
            "  data['data'] = data['data'].apply(to_lowercase)\n"
          ]
        }
      ]
    },
    {
      "cell_type": "code",
      "source": [
        "def remove_html_tags(text):\n",
        "    return re.sub(r'<.*?>', '', text)\n",
        "\n",
        "before_step_2 = data['data'].copy()\n",
        "data['data'] = data['data'].apply(remove_html_tags)\n",
        "\n",
        "print_before_after(\"Step 2: Trim Leading and Trailing Whitespace\", before_step_2, data['data'])"
      ],
      "metadata": {
        "colab": {
          "base_uri": "https://localhost:8080/"
        },
        "id": "v7508MW3E0IP",
        "outputId": "df1ceeb8-1bce-4cc4-e0a2-4c70bdafff9e"
      },
      "execution_count": 16,
      "outputs": [
        {
          "output_type": "stream",
          "name": "stdout",
          "text": [
            "\n",
            "--- Step 2: Trim Leading and Trailing Whitespace ---\n",
            "Before: musicians to tackle us red tape  musicians groups are to tackle us visa regulations which are blamed for hindering british acts chances of succeeding across the atlantic.  a singer hoping to perform in the us can expect to pay $1,300 (xc2xa3680) simply for obtaining a visa. groups including the musicians union are calling for an end to the \"raw deal\" faced by british performers. us acts are not faced with comparable expense and bureaucracy when visiting the uk for promotional purposes.  nigel mccune from the musicians union said british musicians are \"disadvantaged\" compared to their us counterparts. a sponsor has to make a petition on their behalf, which is a form amounting to nearly 30 pages, while musicians face tougher regulations than athletes and journalists. \"if you make a mistake on your form, you risk a five-year ban and thus the ability to further your career,\" says mr mccune.  \"the us is the worlds biggest music market, which means something has to be done about the creaky bureaucracy,\" says mr mccune. \"the current situation is preventing british acts from maintaining momentum and developing in the us,\" he added.  the musicians union stance is being endorsed by the music managers forum (mmf), who say british artists face \"an uphill struggle\" to succeed in the us, thanks to the tough visa requirements, which are also seen as impractical. the mmfs general secretary james seller said: \"imagine if you were an orchestra from the orkneys? every member would have to travel to london to have their visas processed.\"  \"the us market is seen as the holy grail and one of the benchmarks of success, and were still going to fight to get in there. \"its still very important, but there are other markets like europe, india and china,\" added mr seller. a department for media, culture and sport spokeswoman said: \"were aware that people are experiencing problems, and are working with the us embassy and record industry to see what we can do about it.\" a us embassy spokesman said: \"we are aware that entertainers require visas for time-specific visas and are doing everything we can to process those applications speedily.\" \"we are aware of the importance of cultural exchange and we will do our best to facilitate that,\" he added. \n",
            "After : musicians to tackle us red tape  musicians groups are to tackle us visa regulations which are blamed for hindering british acts chances of succeeding across the atlantic.  a singer hoping to perform in the us can expect to pay $1,300 (xc2xa3680) simply for obtaining a visa. groups including the musicians union are calling for an end to the \"raw deal\" faced by british performers. us acts are not faced with comparable expense and bureaucracy when visiting the uk for promotional purposes.  nigel mccune from the musicians union said british musicians are \"disadvantaged\" compared to their us counterparts. a sponsor has to make a petition on their behalf, which is a form amounting to nearly 30 pages, while musicians face tougher regulations than athletes and journalists. \"if you make a mistake on your form, you risk a five-year ban and thus the ability to further your career,\" says mr mccune.  \"the us is the worlds biggest music market, which means something has to be done about the creaky bureaucracy,\" says mr mccune. \"the current situation is preventing british acts from maintaining momentum and developing in the us,\" he added.  the musicians union stance is being endorsed by the music managers forum (mmf), who say british artists face \"an uphill struggle\" to succeed in the us, thanks to the tough visa requirements, which are also seen as impractical. the mmfs general secretary james seller said: \"imagine if you were an orchestra from the orkneys? every member would have to travel to london to have their visas processed.\"  \"the us market is seen as the holy grail and one of the benchmarks of success, and were still going to fight to get in there. \"its still very important, but there are other markets like europe, india and china,\" added mr seller. a department for media, culture and sport spokeswoman said: \"were aware that people are experiencing problems, and are working with the us embassy and record industry to see what we can do about it.\" a us embassy spokesman said: \"we are aware that entertainers require visas for time-specific visas and are doing everything we can to process those applications speedily.\" \"we are aware of the importance of cultural exchange and we will do our best to facilitate that,\" he added. \n",
            "\n",
            "Before: u2s desire to be number one  u2, who have won three prestigious grammy awards for their hit vertigo, are stubbornly clinging to their status as one of the biggest bands in the world.  the most popular groups in the history of rock all have several things in common. the music must be inspired and appeal across generations and be distinctive, if not always groundbreaking. but such success is down to more than music. they have to be compelling performers, charismatic and intelligent enough to make good decisions and keep their feet on the ground. they also have to want it. they have to want to be the biggest band ever and not stop wanting it. the beatles had it, the rolling stones still have it, rem hold onto it and queen were it in a catsuit. and u2 have it in spades, and keep churning it out. their new album, how to dismantle an atomic bomb, comes 28 years after the schoolfriends got together in dublin and 17 years after the joshua tree cemented their place on the all-time rock a-list.  they may have lost some of the edginess and raw, youthful force that propelled them to the top, but they have lost none of the desire or ability to craft songs and albums.  vertigo, the first single from the new album, went straight into the uk singles chart at number one, knocking eminem off the top spot and giving them their 26th top 10 hit. \"the challenge is to be bigger and bolder and better - to make records the whole world will listen to,\" bono recently said. drummer larry mullen jr echoed those sentiments: \"were very competitive - we want to be on the radio, have big singles. we dont want to be thought of as a veteran band.\" the band have done \"everything in their considerable powers\" to ensure they remain the biggest band in the world, according to q magazine editor paul rees.  \"this makes them hugely determined and formidable.\" he added: \"they are equally determined to push themselves to make music that continues to stand up. \"as such, theyve constantly re-invented and challenged themselves. they are, perhaps, alone as the only rock band that has got better with age.\" the other key ingredient was the fact they were highly organised, mr rees said. \"they do everything in the right way.\" the group were born when mullen put an appeal for bandmates on a high school notice board, attracting fellow pupils paul hewson (bono, vocals), adam clayton (bass), david evans (the edge, guitar) and his brother dick.  dick evans soon dropped out and the four-piece were known as the feedback and the hype before settling on u2.  by 1978, they had won a talent contest and got noticed by a manager, paul mcguinness. \"they were brilliant, but very coarse,\" mcguinness recently said. \"in a way, they were doing exactly what they do now. only badly.\" they struggled to attract record company attention, later being described as \"pretty damn average\" and \"strange and eerie\" by scouts who saw them live. they released two ireland-only singles, which topped the national charts in 1979 and 1980, leading to a deal with island and their debut album boy. the stadium-filling, anthemic sound was u2s aim from the start, and their third album, war, saw them make the breakthrough on both sides of the atlantic, going to number one in the uk and 12 in the us. songs like sunday bloody sunday and new years day brought success and an image as a political and spiritual band - which bono rejected as a cliche.  his stage performances - which included flag-waving, speaker-climbing and drum-throwing - earned him a reputation as an electric performer, and their appearance at 1985s live aid is widely seen as sealing their global stardom.  in 1987, the joshua tree broke sales records and saw the band reach the height of their powers with hits including where the streets have no name, i still havent found what im looking for and with or without you. those songs took the bands epic, atmospheric sound to a simple, powerful and popular pinnacle. the end of the decade marked a crucial point for the band - they had reached the top but still yearned for new challenges and achievements. these came in the form of explorations of different branches of rock and forays into electronic dance music, plus wildly extravagant stage shows, while still trying to retain their mass appeal. the achtung baby album in 1991 was followed by zooropa, pop and their corresponding stadium tours, which featured giant olives, flying cars, live phone calls to the white house and bonos transformation into alter-egos the fly and macphisto. he was also building a parallel reputation - not always to the pleasure of his bandmates - as a campaigner on issues from global debt to aids. before the release of how to dismantle an atomic bomb, they had sold 125 million albums around the world. but they still want more. \n",
            "After : u2s desire to be number one  u2, who have won three prestigious grammy awards for their hit vertigo, are stubbornly clinging to their status as one of the biggest bands in the world.  the most popular groups in the history of rock all have several things in common. the music must be inspired and appeal across generations and be distinctive, if not always groundbreaking. but such success is down to more than music. they have to be compelling performers, charismatic and intelligent enough to make good decisions and keep their feet on the ground. they also have to want it. they have to want to be the biggest band ever and not stop wanting it. the beatles had it, the rolling stones still have it, rem hold onto it and queen were it in a catsuit. and u2 have it in spades, and keep churning it out. their new album, how to dismantle an atomic bomb, comes 28 years after the schoolfriends got together in dublin and 17 years after the joshua tree cemented their place on the all-time rock a-list.  they may have lost some of the edginess and raw, youthful force that propelled them to the top, but they have lost none of the desire or ability to craft songs and albums.  vertigo, the first single from the new album, went straight into the uk singles chart at number one, knocking eminem off the top spot and giving them their 26th top 10 hit. \"the challenge is to be bigger and bolder and better - to make records the whole world will listen to,\" bono recently said. drummer larry mullen jr echoed those sentiments: \"were very competitive - we want to be on the radio, have big singles. we dont want to be thought of as a veteran band.\" the band have done \"everything in their considerable powers\" to ensure they remain the biggest band in the world, according to q magazine editor paul rees.  \"this makes them hugely determined and formidable.\" he added: \"they are equally determined to push themselves to make music that continues to stand up. \"as such, theyve constantly re-invented and challenged themselves. they are, perhaps, alone as the only rock band that has got better with age.\" the other key ingredient was the fact they were highly organised, mr rees said. \"they do everything in the right way.\" the group were born when mullen put an appeal for bandmates on a high school notice board, attracting fellow pupils paul hewson (bono, vocals), adam clayton (bass), david evans (the edge, guitar) and his brother dick.  dick evans soon dropped out and the four-piece were known as the feedback and the hype before settling on u2.  by 1978, they had won a talent contest and got noticed by a manager, paul mcguinness. \"they were brilliant, but very coarse,\" mcguinness recently said. \"in a way, they were doing exactly what they do now. only badly.\" they struggled to attract record company attention, later being described as \"pretty damn average\" and \"strange and eerie\" by scouts who saw them live. they released two ireland-only singles, which topped the national charts in 1979 and 1980, leading to a deal with island and their debut album boy. the stadium-filling, anthemic sound was u2s aim from the start, and their third album, war, saw them make the breakthrough on both sides of the atlantic, going to number one in the uk and 12 in the us. songs like sunday bloody sunday and new years day brought success and an image as a political and spiritual band - which bono rejected as a cliche.  his stage performances - which included flag-waving, speaker-climbing and drum-throwing - earned him a reputation as an electric performer, and their appearance at 1985s live aid is widely seen as sealing their global stardom.  in 1987, the joshua tree broke sales records and saw the band reach the height of their powers with hits including where the streets have no name, i still havent found what im looking for and with or without you. those songs took the bands epic, atmospheric sound to a simple, powerful and popular pinnacle. the end of the decade marked a crucial point for the band - they had reached the top but still yearned for new challenges and achievements. these came in the form of explorations of different branches of rock and forays into electronic dance music, plus wildly extravagant stage shows, while still trying to retain their mass appeal. the achtung baby album in 1991 was followed by zooropa, pop and their corresponding stadium tours, which featured giant olives, flying cars, live phone calls to the white house and bonos transformation into alter-egos the fly and macphisto. he was also building a parallel reputation - not always to the pleasure of his bandmates - as a campaigner on issues from global debt to aids. before the release of how to dismantle an atomic bomb, they had sold 125 million albums around the world. but they still want more. \n",
            "\n",
            "Before: rocker doherty in on-stage fight  rock singer pete doherty has been involved in a fight with his bands guitarist at their biggest gig to date.  babyshambles played for 5,000 fans at londons brixton academy on tuesday. the former libertines singer traded blows with guitarist patrick walden. they were separated and bundled off stage before returning to end the set. the show was earlier held up due to audience overcrowding. on monday doherty faced blackmail and robbery charges in court, which he denies. he is out on xc2xa350,000 bail and the judge agreed to extend his 2200 gmt curfew deadline by two hours so he could play the brixton gig.  babyshambles, which he formed after his acrimonious departure from the libertines, played a warm-up show at the garage, north london, on monday. on tuesday, doherty and his three bandmates were introduced to the crowd by mick jones, the former clash guitarist who produced the libertines second album. babyshambles took the stage to a frenzied reception at 2200 gmt, launching into their last single, killamangiro, which reached number eight in december. but the group had to stop during the next song to persuade fans not to push forward and allow security guards to pull people out of the crush. doherty appealed to fans to calm down, saying: \"theres a few people getting hurt down the front, youve got to move back.\"  the music resumed minutes later but after several more songs, the singer appeared to accidentally disconnect waldens guitar, leading the pair to trade kicks and punches. bouncers stepped in and the band left the stage, but returned after five minutes and finished their 50-minute performance with no further trouble. doherty, 25, had to be home by midnight to observe the curfew, which is one of the conditions of his bail. on monday, the judge agreed to allow him to perform on condition that requests for changes to his bail terms were \"not too regular an occurrence\". the singer was arrested with fellow musician alan wass on 2 february after an alleged dispute with documentary-maker max carlish at a london hotel. they are next due in court on 18 april. \n",
            "After : rocker doherty in on-stage fight  rock singer pete doherty has been involved in a fight with his bands guitarist at their biggest gig to date.  babyshambles played for 5,000 fans at londons brixton academy on tuesday. the former libertines singer traded blows with guitarist patrick walden. they were separated and bundled off stage before returning to end the set. the show was earlier held up due to audience overcrowding. on monday doherty faced blackmail and robbery charges in court, which he denies. he is out on xc2xa350,000 bail and the judge agreed to extend his 2200 gmt curfew deadline by two hours so he could play the brixton gig.  babyshambles, which he formed after his acrimonious departure from the libertines, played a warm-up show at the garage, north london, on monday. on tuesday, doherty and his three bandmates were introduced to the crowd by mick jones, the former clash guitarist who produced the libertines second album. babyshambles took the stage to a frenzied reception at 2200 gmt, launching into their last single, killamangiro, which reached number eight in december. but the group had to stop during the next song to persuade fans not to push forward and allow security guards to pull people out of the crush. doherty appealed to fans to calm down, saying: \"theres a few people getting hurt down the front, youve got to move back.\"  the music resumed minutes later but after several more songs, the singer appeared to accidentally disconnect waldens guitar, leading the pair to trade kicks and punches. bouncers stepped in and the band left the stage, but returned after five minutes and finished their 50-minute performance with no further trouble. doherty, 25, had to be home by midnight to observe the curfew, which is one of the conditions of his bail. on monday, the judge agreed to allow him to perform on condition that requests for changes to his bail terms were \"not too regular an occurrence\". the singer was arrested with fellow musician alan wass on 2 february after an alleged dispute with documentary-maker max carlish at a london hotel. they are next due in court on 18 april. \n",
            "\n"
          ]
        },
        {
          "output_type": "stream",
          "name": "stderr",
          "text": [
            "<ipython-input-16-b98fb7d6a84d>:5: SettingWithCopyWarning: \n",
            "A value is trying to be set on a copy of a slice from a DataFrame.\n",
            "Try using .loc[row_indexer,col_indexer] = value instead\n",
            "\n",
            "See the caveats in the documentation: https://pandas.pydata.org/pandas-docs/stable/user_guide/indexing.html#returning-a-view-versus-a-copy\n",
            "  data['data'] = data['data'].apply(remove_html_tags)\n"
          ]
        }
      ]
    },
    {
      "cell_type": "code",
      "source": [
        "def remove_urls(text):\n",
        "    text = re.sub(r'https?://\\S+|www\\.\\S+|[^a-zA-Z\\s]', '', text, flags=re.MULTILINE)\n",
        "    return text\n",
        "\n",
        "before_step_3 = data['data'].copy()\n",
        "data['data'] = data['data'].apply(remove_urls)\n",
        "\n",
        "print_before_after(\"Step 3: Trim Leading and Trailing Whitespace\", before_step_3, data['data'])"
      ],
      "metadata": {
        "colab": {
          "base_uri": "https://localhost:8080/"
        },
        "id": "J6TDHzyhFOSS",
        "outputId": "29b256b6-662a-41ff-e6f3-2cae83394a84"
      },
      "execution_count": 17,
      "outputs": [
        {
          "output_type": "stream",
          "name": "stdout",
          "text": [
            "\n",
            "--- Step 3: Trim Leading and Trailing Whitespace ---\n",
            "Before: musicians to tackle us red tape  musicians groups are to tackle us visa regulations which are blamed for hindering british acts chances of succeeding across the atlantic.  a singer hoping to perform in the us can expect to pay $1,300 (xc2xa3680) simply for obtaining a visa. groups including the musicians union are calling for an end to the \"raw deal\" faced by british performers. us acts are not faced with comparable expense and bureaucracy when visiting the uk for promotional purposes.  nigel mccune from the musicians union said british musicians are \"disadvantaged\" compared to their us counterparts. a sponsor has to make a petition on their behalf, which is a form amounting to nearly 30 pages, while musicians face tougher regulations than athletes and journalists. \"if you make a mistake on your form, you risk a five-year ban and thus the ability to further your career,\" says mr mccune.  \"the us is the worlds biggest music market, which means something has to be done about the creaky bureaucracy,\" says mr mccune. \"the current situation is preventing british acts from maintaining momentum and developing in the us,\" he added.  the musicians union stance is being endorsed by the music managers forum (mmf), who say british artists face \"an uphill struggle\" to succeed in the us, thanks to the tough visa requirements, which are also seen as impractical. the mmfs general secretary james seller said: \"imagine if you were an orchestra from the orkneys? every member would have to travel to london to have their visas processed.\"  \"the us market is seen as the holy grail and one of the benchmarks of success, and were still going to fight to get in there. \"its still very important, but there are other markets like europe, india and china,\" added mr seller. a department for media, culture and sport spokeswoman said: \"were aware that people are experiencing problems, and are working with the us embassy and record industry to see what we can do about it.\" a us embassy spokesman said: \"we are aware that entertainers require visas for time-specific visas and are doing everything we can to process those applications speedily.\" \"we are aware of the importance of cultural exchange and we will do our best to facilitate that,\" he added. \n",
            "After : musicians to tackle us red tape  musicians groups are to tackle us visa regulations which are blamed for hindering british acts chances of succeeding across the atlantic  a singer hoping to perform in the us can expect to pay  xcxa simply for obtaining a visa groups including the musicians union are calling for an end to the raw deal faced by british performers us acts are not faced with comparable expense and bureaucracy when visiting the uk for promotional purposes  nigel mccune from the musicians union said british musicians are disadvantaged compared to their us counterparts a sponsor has to make a petition on their behalf which is a form amounting to nearly  pages while musicians face tougher regulations than athletes and journalists if you make a mistake on your form you risk a fiveyear ban and thus the ability to further your career says mr mccune  the us is the worlds biggest music market which means something has to be done about the creaky bureaucracy says mr mccune the current situation is preventing british acts from maintaining momentum and developing in the us he added  the musicians union stance is being endorsed by the music managers forum mmf who say british artists face an uphill struggle to succeed in the us thanks to the tough visa requirements which are also seen as impractical the mmfs general secretary james seller said imagine if you were an orchestra from the orkneys every member would have to travel to london to have their visas processed  the us market is seen as the holy grail and one of the benchmarks of success and were still going to fight to get in there its still very important but there are other markets like europe india and china added mr seller a department for media culture and sport spokeswoman said were aware that people are experiencing problems and are working with the us embassy and record industry to see what we can do about it a us embassy spokesman said we are aware that entertainers require visas for timespecific visas and are doing everything we can to process those applications speedily we are aware of the importance of cultural exchange and we will do our best to facilitate that he added \n",
            "\n",
            "Before: u2s desire to be number one  u2, who have won three prestigious grammy awards for their hit vertigo, are stubbornly clinging to their status as one of the biggest bands in the world.  the most popular groups in the history of rock all have several things in common. the music must be inspired and appeal across generations and be distinctive, if not always groundbreaking. but such success is down to more than music. they have to be compelling performers, charismatic and intelligent enough to make good decisions and keep their feet on the ground. they also have to want it. they have to want to be the biggest band ever and not stop wanting it. the beatles had it, the rolling stones still have it, rem hold onto it and queen were it in a catsuit. and u2 have it in spades, and keep churning it out. their new album, how to dismantle an atomic bomb, comes 28 years after the schoolfriends got together in dublin and 17 years after the joshua tree cemented their place on the all-time rock a-list.  they may have lost some of the edginess and raw, youthful force that propelled them to the top, but they have lost none of the desire or ability to craft songs and albums.  vertigo, the first single from the new album, went straight into the uk singles chart at number one, knocking eminem off the top spot and giving them their 26th top 10 hit. \"the challenge is to be bigger and bolder and better - to make records the whole world will listen to,\" bono recently said. drummer larry mullen jr echoed those sentiments: \"were very competitive - we want to be on the radio, have big singles. we dont want to be thought of as a veteran band.\" the band have done \"everything in their considerable powers\" to ensure they remain the biggest band in the world, according to q magazine editor paul rees.  \"this makes them hugely determined and formidable.\" he added: \"they are equally determined to push themselves to make music that continues to stand up. \"as such, theyve constantly re-invented and challenged themselves. they are, perhaps, alone as the only rock band that has got better with age.\" the other key ingredient was the fact they were highly organised, mr rees said. \"they do everything in the right way.\" the group were born when mullen put an appeal for bandmates on a high school notice board, attracting fellow pupils paul hewson (bono, vocals), adam clayton (bass), david evans (the edge, guitar) and his brother dick.  dick evans soon dropped out and the four-piece were known as the feedback and the hype before settling on u2.  by 1978, they had won a talent contest and got noticed by a manager, paul mcguinness. \"they were brilliant, but very coarse,\" mcguinness recently said. \"in a way, they were doing exactly what they do now. only badly.\" they struggled to attract record company attention, later being described as \"pretty damn average\" and \"strange and eerie\" by scouts who saw them live. they released two ireland-only singles, which topped the national charts in 1979 and 1980, leading to a deal with island and their debut album boy. the stadium-filling, anthemic sound was u2s aim from the start, and their third album, war, saw them make the breakthrough on both sides of the atlantic, going to number one in the uk and 12 in the us. songs like sunday bloody sunday and new years day brought success and an image as a political and spiritual band - which bono rejected as a cliche.  his stage performances - which included flag-waving, speaker-climbing and drum-throwing - earned him a reputation as an electric performer, and their appearance at 1985s live aid is widely seen as sealing their global stardom.  in 1987, the joshua tree broke sales records and saw the band reach the height of their powers with hits including where the streets have no name, i still havent found what im looking for and with or without you. those songs took the bands epic, atmospheric sound to a simple, powerful and popular pinnacle. the end of the decade marked a crucial point for the band - they had reached the top but still yearned for new challenges and achievements. these came in the form of explorations of different branches of rock and forays into electronic dance music, plus wildly extravagant stage shows, while still trying to retain their mass appeal. the achtung baby album in 1991 was followed by zooropa, pop and their corresponding stadium tours, which featured giant olives, flying cars, live phone calls to the white house and bonos transformation into alter-egos the fly and macphisto. he was also building a parallel reputation - not always to the pleasure of his bandmates - as a campaigner on issues from global debt to aids. before the release of how to dismantle an atomic bomb, they had sold 125 million albums around the world. but they still want more. \n",
            "After : us desire to be number one  u who have won three prestigious grammy awards for their hit vertigo are stubbornly clinging to their status as one of the biggest bands in the world  the most popular groups in the history of rock all have several things in common the music must be inspired and appeal across generations and be distinctive if not always groundbreaking but such success is down to more than music they have to be compelling performers charismatic and intelligent enough to make good decisions and keep their feet on the ground they also have to want it they have to want to be the biggest band ever and not stop wanting it the beatles had it the rolling stones still have it rem hold onto it and queen were it in a catsuit and u have it in spades and keep churning it out their new album how to dismantle an atomic bomb comes  years after the schoolfriends got together in dublin and  years after the joshua tree cemented their place on the alltime rock alist  they may have lost some of the edginess and raw youthful force that propelled them to the top but they have lost none of the desire or ability to craft songs and albums  vertigo the first single from the new album went straight into the uk singles chart at number one knocking eminem off the top spot and giving them their th top  hit the challenge is to be bigger and bolder and better  to make records the whole world will listen to bono recently said drummer larry mullen jr echoed those sentiments were very competitive  we want to be on the radio have big singles we dont want to be thought of as a veteran band the band have done everything in their considerable powers to ensure they remain the biggest band in the world according to q magazine editor paul rees  this makes them hugely determined and formidable he added they are equally determined to push themselves to make music that continues to stand up as such theyve constantly reinvented and challenged themselves they are perhaps alone as the only rock band that has got better with age the other key ingredient was the fact they were highly organised mr rees said they do everything in the right way the group were born when mullen put an appeal for bandmates on a high school notice board attracting fellow pupils paul hewson bono vocals adam clayton bass david evans the edge guitar and his brother dick  dick evans soon dropped out and the fourpiece were known as the feedback and the hype before settling on u  by  they had won a talent contest and got noticed by a manager paul mcguinness they were brilliant but very coarse mcguinness recently said in a way they were doing exactly what they do now only badly they struggled to attract record company attention later being described as pretty damn average and strange and eerie by scouts who saw them live they released two irelandonly singles which topped the national charts in  and  leading to a deal with island and their debut album boy the stadiumfilling anthemic sound was us aim from the start and their third album war saw them make the breakthrough on both sides of the atlantic going to number one in the uk and  in the us songs like sunday bloody sunday and new years day brought success and an image as a political and spiritual band  which bono rejected as a cliche  his stage performances  which included flagwaving speakerclimbing and drumthrowing  earned him a reputation as an electric performer and their appearance at s live aid is widely seen as sealing their global stardom  in  the joshua tree broke sales records and saw the band reach the height of their powers with hits including where the streets have no name i still havent found what im looking for and with or without you those songs took the bands epic atmospheric sound to a simple powerful and popular pinnacle the end of the decade marked a crucial point for the band  they had reached the top but still yearned for new challenges and achievements these came in the form of explorations of different branches of rock and forays into electronic dance music plus wildly extravagant stage shows while still trying to retain their mass appeal the achtung baby album in  was followed by zooropa pop and their corresponding stadium tours which featured giant olives flying cars live phone calls to the white house and bonos transformation into alteregos the fly and macphisto he was also building a parallel reputation  not always to the pleasure of his bandmates  as a campaigner on issues from global debt to aids before the release of how to dismantle an atomic bomb they had sold  million albums around the world but they still want more \n",
            "\n",
            "Before: rocker doherty in on-stage fight  rock singer pete doherty has been involved in a fight with his bands guitarist at their biggest gig to date.  babyshambles played for 5,000 fans at londons brixton academy on tuesday. the former libertines singer traded blows with guitarist patrick walden. they were separated and bundled off stage before returning to end the set. the show was earlier held up due to audience overcrowding. on monday doherty faced blackmail and robbery charges in court, which he denies. he is out on xc2xa350,000 bail and the judge agreed to extend his 2200 gmt curfew deadline by two hours so he could play the brixton gig.  babyshambles, which he formed after his acrimonious departure from the libertines, played a warm-up show at the garage, north london, on monday. on tuesday, doherty and his three bandmates were introduced to the crowd by mick jones, the former clash guitarist who produced the libertines second album. babyshambles took the stage to a frenzied reception at 2200 gmt, launching into their last single, killamangiro, which reached number eight in december. but the group had to stop during the next song to persuade fans not to push forward and allow security guards to pull people out of the crush. doherty appealed to fans to calm down, saying: \"theres a few people getting hurt down the front, youve got to move back.\"  the music resumed minutes later but after several more songs, the singer appeared to accidentally disconnect waldens guitar, leading the pair to trade kicks and punches. bouncers stepped in and the band left the stage, but returned after five minutes and finished their 50-minute performance with no further trouble. doherty, 25, had to be home by midnight to observe the curfew, which is one of the conditions of his bail. on monday, the judge agreed to allow him to perform on condition that requests for changes to his bail terms were \"not too regular an occurrence\". the singer was arrested with fellow musician alan wass on 2 february after an alleged dispute with documentary-maker max carlish at a london hotel. they are next due in court on 18 april. \n",
            "After : rocker doherty in onstage fight  rock singer pete doherty has been involved in a fight with his bands guitarist at their biggest gig to date  babyshambles played for  fans at londons brixton academy on tuesday the former libertines singer traded blows with guitarist patrick walden they were separated and bundled off stage before returning to end the set the show was earlier held up due to audience overcrowding on monday doherty faced blackmail and robbery charges in court which he denies he is out on xcxa bail and the judge agreed to extend his  gmt curfew deadline by two hours so he could play the brixton gig  babyshambles which he formed after his acrimonious departure from the libertines played a warmup show at the garage north london on monday on tuesday doherty and his three bandmates were introduced to the crowd by mick jones the former clash guitarist who produced the libertines second album babyshambles took the stage to a frenzied reception at  gmt launching into their last single killamangiro which reached number eight in december but the group had to stop during the next song to persuade fans not to push forward and allow security guards to pull people out of the crush doherty appealed to fans to calm down saying theres a few people getting hurt down the front youve got to move back  the music resumed minutes later but after several more songs the singer appeared to accidentally disconnect waldens guitar leading the pair to trade kicks and punches bouncers stepped in and the band left the stage but returned after five minutes and finished their minute performance with no further trouble doherty  had to be home by midnight to observe the curfew which is one of the conditions of his bail on monday the judge agreed to allow him to perform on condition that requests for changes to his bail terms were not too regular an occurrence the singer was arrested with fellow musician alan wass on  february after an alleged dispute with documentarymaker max carlish at a london hotel they are next due in court on  april \n",
            "\n"
          ]
        },
        {
          "output_type": "stream",
          "name": "stderr",
          "text": [
            "<ipython-input-17-64db8034f880>:6: SettingWithCopyWarning: \n",
            "A value is trying to be set on a copy of a slice from a DataFrame.\n",
            "Try using .loc[row_indexer,col_indexer] = value instead\n",
            "\n",
            "See the caveats in the documentation: https://pandas.pydata.org/pandas-docs/stable/user_guide/indexing.html#returning-a-view-versus-a-copy\n",
            "  data['data'] = data['data'].apply(remove_urls)\n"
          ]
        }
      ]
    },
    {
      "cell_type": "code",
      "source": [
        "# Load the spaCy model\n",
        "nlp = spacy.load(\"en_core_web_sm\")\n",
        "\n",
        "# Function to lemmatize text using spaCy\n",
        "def lemmatize_text_spacy(text):\n",
        "    doc = nlp(text)\n",
        "    lemmatized_text = ' '.join([token.lemma_ for token in doc])\n",
        "    return lemmatized_text\n",
        "\n",
        "before_step_4 = data['data'].copy()\n",
        "data['data']  = data['data'].apply(lemmatize_text_spacy)\n",
        "print_before_after(\"Step 4: Remove Punctuation\", before_step_4, data['data'])"
      ],
      "metadata": {
        "colab": {
          "base_uri": "https://localhost:8080/"
        },
        "id": "YqoSKwcjFOOy",
        "outputId": "128edc50-f678-448f-cd8c-18bc8592cde5"
      },
      "execution_count": 18,
      "outputs": [
        {
          "output_type": "stream",
          "name": "stdout",
          "text": [
            "\n",
            "--- Step 4: Remove Punctuation ---\n",
            "Before: musicians to tackle us red tape  musicians groups are to tackle us visa regulations which are blamed for hindering british acts chances of succeeding across the atlantic  a singer hoping to perform in the us can expect to pay  xcxa simply for obtaining a visa groups including the musicians union are calling for an end to the raw deal faced by british performers us acts are not faced with comparable expense and bureaucracy when visiting the uk for promotional purposes  nigel mccune from the musicians union said british musicians are disadvantaged compared to their us counterparts a sponsor has to make a petition on their behalf which is a form amounting to nearly  pages while musicians face tougher regulations than athletes and journalists if you make a mistake on your form you risk a fiveyear ban and thus the ability to further your career says mr mccune  the us is the worlds biggest music market which means something has to be done about the creaky bureaucracy says mr mccune the current situation is preventing british acts from maintaining momentum and developing in the us he added  the musicians union stance is being endorsed by the music managers forum mmf who say british artists face an uphill struggle to succeed in the us thanks to the tough visa requirements which are also seen as impractical the mmfs general secretary james seller said imagine if you were an orchestra from the orkneys every member would have to travel to london to have their visas processed  the us market is seen as the holy grail and one of the benchmarks of success and were still going to fight to get in there its still very important but there are other markets like europe india and china added mr seller a department for media culture and sport spokeswoman said were aware that people are experiencing problems and are working with the us embassy and record industry to see what we can do about it a us embassy spokesman said we are aware that entertainers require visas for timespecific visas and are doing everything we can to process those applications speedily we are aware of the importance of cultural exchange and we will do our best to facilitate that he added \n",
            "After : musician to tackle we red tape   musician group be to tackle we visa regulation which be blame for hinder british act chance of succeed across the atlantic   a singer hope to perform in the we can expect to pay   xcxa simply for obtain a visa group include the musician union be call for an end to the raw deal face by british performer we act be not face with comparable expense and bureaucracy when visit the uk for promotional purpose   nigel mccune from the musician union say british musician be disadvantaged compare to their us counterpart a sponsor have to make a petition on their behalf which be a form amount to nearly   page while musician face tough regulation than athlete and journalist if you make a mistake on your form you risk a fiveyear ban and thus the ability to further your career say mr mccune   the us be the world big music market which mean something have to be do about the creaky bureaucracy say mr mccune the current situation be prevent british act from maintain momentum and develop in the us he add   the musician union stance be be endorse by the music manager forum mmf who say british artist face an uphill struggle to succeed in the us thank to the tough visa requirement which be also see as impractical the mmfs general secretary james seller say imagine if you be an orchestra from the orkney every member would have to travel to london to have their visa process   the us market be see as the holy grail and one of the benchmark of success and be still go to fight to get in there its still very important but there be other market like europe india and china add mr seller a department for medium culture and sport spokeswoman say be aware that people be experience problem and be work with the us embassy and record industry to see what we can do about it a us embassy spokesman say we be aware that entertainer require visa for timespecific visa and be do everything we can to process those application speedily we be aware of the importance of cultural exchange and we will do our good to facilitate that he add\n",
            "\n",
            "Before: us desire to be number one  u who have won three prestigious grammy awards for their hit vertigo are stubbornly clinging to their status as one of the biggest bands in the world  the most popular groups in the history of rock all have several things in common the music must be inspired and appeal across generations and be distinctive if not always groundbreaking but such success is down to more than music they have to be compelling performers charismatic and intelligent enough to make good decisions and keep their feet on the ground they also have to want it they have to want to be the biggest band ever and not stop wanting it the beatles had it the rolling stones still have it rem hold onto it and queen were it in a catsuit and u have it in spades and keep churning it out their new album how to dismantle an atomic bomb comes  years after the schoolfriends got together in dublin and  years after the joshua tree cemented their place on the alltime rock alist  they may have lost some of the edginess and raw youthful force that propelled them to the top but they have lost none of the desire or ability to craft songs and albums  vertigo the first single from the new album went straight into the uk singles chart at number one knocking eminem off the top spot and giving them their th top  hit the challenge is to be bigger and bolder and better  to make records the whole world will listen to bono recently said drummer larry mullen jr echoed those sentiments were very competitive  we want to be on the radio have big singles we dont want to be thought of as a veteran band the band have done everything in their considerable powers to ensure they remain the biggest band in the world according to q magazine editor paul rees  this makes them hugely determined and formidable he added they are equally determined to push themselves to make music that continues to stand up as such theyve constantly reinvented and challenged themselves they are perhaps alone as the only rock band that has got better with age the other key ingredient was the fact they were highly organised mr rees said they do everything in the right way the group were born when mullen put an appeal for bandmates on a high school notice board attracting fellow pupils paul hewson bono vocals adam clayton bass david evans the edge guitar and his brother dick  dick evans soon dropped out and the fourpiece were known as the feedback and the hype before settling on u  by  they had won a talent contest and got noticed by a manager paul mcguinness they were brilliant but very coarse mcguinness recently said in a way they were doing exactly what they do now only badly they struggled to attract record company attention later being described as pretty damn average and strange and eerie by scouts who saw them live they released two irelandonly singles which topped the national charts in  and  leading to a deal with island and their debut album boy the stadiumfilling anthemic sound was us aim from the start and their third album war saw them make the breakthrough on both sides of the atlantic going to number one in the uk and  in the us songs like sunday bloody sunday and new years day brought success and an image as a political and spiritual band  which bono rejected as a cliche  his stage performances  which included flagwaving speakerclimbing and drumthrowing  earned him a reputation as an electric performer and their appearance at s live aid is widely seen as sealing their global stardom  in  the joshua tree broke sales records and saw the band reach the height of their powers with hits including where the streets have no name i still havent found what im looking for and with or without you those songs took the bands epic atmospheric sound to a simple powerful and popular pinnacle the end of the decade marked a crucial point for the band  they had reached the top but still yearned for new challenges and achievements these came in the form of explorations of different branches of rock and forays into electronic dance music plus wildly extravagant stage shows while still trying to retain their mass appeal the achtung baby album in  was followed by zooropa pop and their corresponding stadium tours which featured giant olives flying cars live phone calls to the white house and bonos transformation into alteregos the fly and macphisto he was also building a parallel reputation  not always to the pleasure of his bandmates  as a campaigner on issues from global debt to aids before the release of how to dismantle an atomic bomb they had sold  million albums around the world but they still want more \n",
            "After : we desire to be number one   u who have win three prestigious grammy award for their hit vertigo be stubbornly cling to their status as one of the big band in the world   the most popular group in the history of rock all have several thing in common the music must be inspire and appeal across generation and be distinctive if not always groundbreake but such success be down to more than music they have to be compelling performer charismatic and intelligent enough to make good decision and keep their foot on the ground they also have to want it they have to want to be the big band ever and not stop want it the beatle have it the rolling stone still have it rem hold onto it and queen be it in a catsuit and u have it in spade and keep churn it out their new album how to dismantle an atomic bomb come   year after the schoolfriend get together in dublin and   year after the joshua tree cement their place on the alltime rock alist   they may have lose some of the edginess and raw youthful force that propel they to the top but they have lose none of the desire or ability to craft song and album   vertigo the first single from the new album go straight into the uk single chart at number one knock eminem off the top spot and give they their th top   hit the challenge be to be big and bolder and well   to make record the whole world will listen to bono recently say drummer larry mullen jr echo those sentiment be very competitive   we want to be on the radio have big single we do not want to be think of as a veteran band the band have do everything in their considerable power to ensure they remain the big band in the world accord to q magazine editor paul ree   this make they hugely determined and formidable he add they be equally determined to push themselves to make music that continue to stand up as such they ve constantly reinvent and challenge themselves they be perhaps alone as the only rock band that have get well with age the other key ingredient be the fact they be highly organise mr rees say they do everything in the right way the group be bear when mullen put an appeal for bandmate on a high school notice board attract fellow pupil paul hewson bono vocal adam clayton bass david evans the edge guitar and his brother dick   dick evans soon drop out and the fourpiece be know as the feedback and the hype before settle on u   by   they have win a talent contest and get notice by a manager paul mcguinness they be brilliant but very coarse mcguinness recently say in a way they be do exactly what they do now only badly they struggle to attract record company attention later be describe as pretty damn average and strange and eerie by scout who see they live they release two irelandonly single which top the national chart in   and   lead to a deal with island and their debut album boy the stadiumfille anthemic sound be we aim from the start and their third album war see they make the breakthrough on both side of the atlantic go to number one in the uk and   in the us song like sunday bloody sunday and new year day bring success and an image as a political and spiritual band   which bono reject as a cliche   his stage performance   which include flagwave speakerclimbing and drumthrowing   earn he a reputation as an electric performer and their appearance at s live aid be widely see as seal their global stardom   in   the joshua tree break sale record and see the band reach the height of their power with hit include where the street have no name I still have not find what I m look for and with or without you those song take the band epic atmospheric sound to a simple powerful and popular pinnacle the end of the decade mark a crucial point for the band   they have reach the top but still yearn for new challenge and achievement these come in the form of exploration of different branch of rock and foray into electronic dance music plus wildly extravagant stage show while still try to retain their mass appeal the achtung baby album in   be follow by zooropa pop and their corresponding stadium tour which feature giant olive fly car live phone call to the white house and bonos transformation into alterego the fly and macphisto he be also build a parallel reputation   not always to the pleasure of his bandmate   as a campaigner on issue from global debt to aid before the release of how to dismantle an atomic bomb they have sell   million album around the world but they still want more\n",
            "\n",
            "Before: rocker doherty in onstage fight  rock singer pete doherty has been involved in a fight with his bands guitarist at their biggest gig to date  babyshambles played for  fans at londons brixton academy on tuesday the former libertines singer traded blows with guitarist patrick walden they were separated and bundled off stage before returning to end the set the show was earlier held up due to audience overcrowding on monday doherty faced blackmail and robbery charges in court which he denies he is out on xcxa bail and the judge agreed to extend his  gmt curfew deadline by two hours so he could play the brixton gig  babyshambles which he formed after his acrimonious departure from the libertines played a warmup show at the garage north london on monday on tuesday doherty and his three bandmates were introduced to the crowd by mick jones the former clash guitarist who produced the libertines second album babyshambles took the stage to a frenzied reception at  gmt launching into their last single killamangiro which reached number eight in december but the group had to stop during the next song to persuade fans not to push forward and allow security guards to pull people out of the crush doherty appealed to fans to calm down saying theres a few people getting hurt down the front youve got to move back  the music resumed minutes later but after several more songs the singer appeared to accidentally disconnect waldens guitar leading the pair to trade kicks and punches bouncers stepped in and the band left the stage but returned after five minutes and finished their minute performance with no further trouble doherty  had to be home by midnight to observe the curfew which is one of the conditions of his bail on monday the judge agreed to allow him to perform on condition that requests for changes to his bail terms were not too regular an occurrence the singer was arrested with fellow musician alan wass on  february after an alleged dispute with documentarymaker max carlish at a london hotel they are next due in court on  april \n",
            "After : rocker doherty in onstage fight   rock singer pete doherty have be involve in a fight with his band guitarist at their big gig to date   babyshamble play for   fan at londons brixton academy on tuesday the former libertine singer trade blow with guitarist patrick walden they be separate and bundle off stage before return to end the set the show be early hold up due to audience overcrowding on monday doherty face blackmail and robbery charge in court which he deny he be out on xcxa bail and the judge agree to extend his   gmt curfew deadline by two hour so he could play the brixton gig   babyshamble which he form after his acrimonious departure from the libertine play a warmup show at the garage north london on monday on tuesday doherty and his three bandmate be introduce to the crowd by mick jones the former clash guitarist who produce the libertine second album babyshamble take the stage to a frenzied reception at   gmt launch into their last single killamangiro which reach number eight in december but the group have to stop during the next song to persuade fan not to push forward and allow security guard to pull people out of the crush doherty appeal to fan to calm down say there s a few people getting hurt down the front you ve get to move back   the music resume minute later but after several more song the singer appear to accidentally disconnect waldens guitar lead the pair to trade kick and punch bouncer step in and the band leave the stage but return after five minute and finish their minute performance with no further trouble doherty   have to be home by midnight to observe the curfew which be one of the condition of his bail on monday the judge agree to allow he to perform on condition that request for change to his bail term be not too regular an occurrence the singer be arrest with fellow musician alan wass on   february after an allege dispute with documentarymaker max carlish at a london hotel they be next due in court on   april\n",
            "\n"
          ]
        },
        {
          "output_type": "stream",
          "name": "stderr",
          "text": [
            "<ipython-input-18-eade20c3815f>:11: SettingWithCopyWarning: \n",
            "A value is trying to be set on a copy of a slice from a DataFrame.\n",
            "Try using .loc[row_indexer,col_indexer] = value instead\n",
            "\n",
            "See the caveats in the documentation: https://pandas.pydata.org/pandas-docs/stable/user_guide/indexing.html#returning-a-view-versus-a-copy\n",
            "  data['data']  = data['data'].apply(lemmatize_text_spacy)\n"
          ]
        }
      ]
    },
    {
      "cell_type": "code",
      "source": [
        "before_step_5 = data['data'].copy()\n",
        "translator = str.maketrans('', '', string.punctuation)\n",
        "data['data']= [text.translate(translator) for text in data['data']]\n",
        "print_before_after(\"Step 5: Remove Punctuation\", before_step_5, data['data'])"
      ],
      "metadata": {
        "colab": {
          "base_uri": "https://localhost:8080/"
        },
        "id": "H4jehJr_FOL6",
        "outputId": "c6bec20f-f6c1-4b6b-e6cb-c6eb20d7af70"
      },
      "execution_count": 19,
      "outputs": [
        {
          "output_type": "stream",
          "name": "stdout",
          "text": [
            "\n",
            "--- Step 5: Remove Punctuation ---\n",
            "Before: musician to tackle we red tape   musician group be to tackle we visa regulation which be blame for hinder british act chance of succeed across the atlantic   a singer hope to perform in the we can expect to pay   xcxa simply for obtain a visa group include the musician union be call for an end to the raw deal face by british performer we act be not face with comparable expense and bureaucracy when visit the uk for promotional purpose   nigel mccune from the musician union say british musician be disadvantaged compare to their us counterpart a sponsor have to make a petition on their behalf which be a form amount to nearly   page while musician face tough regulation than athlete and journalist if you make a mistake on your form you risk a fiveyear ban and thus the ability to further your career say mr mccune   the us be the world big music market which mean something have to be do about the creaky bureaucracy say mr mccune the current situation be prevent british act from maintain momentum and develop in the us he add   the musician union stance be be endorse by the music manager forum mmf who say british artist face an uphill struggle to succeed in the us thank to the tough visa requirement which be also see as impractical the mmfs general secretary james seller say imagine if you be an orchestra from the orkney every member would have to travel to london to have their visa process   the us market be see as the holy grail and one of the benchmark of success and be still go to fight to get in there its still very important but there be other market like europe india and china add mr seller a department for medium culture and sport spokeswoman say be aware that people be experience problem and be work with the us embassy and record industry to see what we can do about it a us embassy spokesman say we be aware that entertainer require visa for timespecific visa and be do everything we can to process those application speedily we be aware of the importance of cultural exchange and we will do our good to facilitate that he add\n",
            "After : musician to tackle we red tape   musician group be to tackle we visa regulation which be blame for hinder british act chance of succeed across the atlantic   a singer hope to perform in the we can expect to pay   xcxa simply for obtain a visa group include the musician union be call for an end to the raw deal face by british performer we act be not face with comparable expense and bureaucracy when visit the uk for promotional purpose   nigel mccune from the musician union say british musician be disadvantaged compare to their us counterpart a sponsor have to make a petition on their behalf which be a form amount to nearly   page while musician face tough regulation than athlete and journalist if you make a mistake on your form you risk a fiveyear ban and thus the ability to further your career say mr mccune   the us be the world big music market which mean something have to be do about the creaky bureaucracy say mr mccune the current situation be prevent british act from maintain momentum and develop in the us he add   the musician union stance be be endorse by the music manager forum mmf who say british artist face an uphill struggle to succeed in the us thank to the tough visa requirement which be also see as impractical the mmfs general secretary james seller say imagine if you be an orchestra from the orkney every member would have to travel to london to have their visa process   the us market be see as the holy grail and one of the benchmark of success and be still go to fight to get in there its still very important but there be other market like europe india and china add mr seller a department for medium culture and sport spokeswoman say be aware that people be experience problem and be work with the us embassy and record industry to see what we can do about it a us embassy spokesman say we be aware that entertainer require visa for timespecific visa and be do everything we can to process those application speedily we be aware of the importance of cultural exchange and we will do our good to facilitate that he add\n",
            "\n",
            "Before: we desire to be number one   u who have win three prestigious grammy award for their hit vertigo be stubbornly cling to their status as one of the big band in the world   the most popular group in the history of rock all have several thing in common the music must be inspire and appeal across generation and be distinctive if not always groundbreake but such success be down to more than music they have to be compelling performer charismatic and intelligent enough to make good decision and keep their foot on the ground they also have to want it they have to want to be the big band ever and not stop want it the beatle have it the rolling stone still have it rem hold onto it and queen be it in a catsuit and u have it in spade and keep churn it out their new album how to dismantle an atomic bomb come   year after the schoolfriend get together in dublin and   year after the joshua tree cement their place on the alltime rock alist   they may have lose some of the edginess and raw youthful force that propel they to the top but they have lose none of the desire or ability to craft song and album   vertigo the first single from the new album go straight into the uk single chart at number one knock eminem off the top spot and give they their th top   hit the challenge be to be big and bolder and well   to make record the whole world will listen to bono recently say drummer larry mullen jr echo those sentiment be very competitive   we want to be on the radio have big single we do not want to be think of as a veteran band the band have do everything in their considerable power to ensure they remain the big band in the world accord to q magazine editor paul ree   this make they hugely determined and formidable he add they be equally determined to push themselves to make music that continue to stand up as such they ve constantly reinvent and challenge themselves they be perhaps alone as the only rock band that have get well with age the other key ingredient be the fact they be highly organise mr rees say they do everything in the right way the group be bear when mullen put an appeal for bandmate on a high school notice board attract fellow pupil paul hewson bono vocal adam clayton bass david evans the edge guitar and his brother dick   dick evans soon drop out and the fourpiece be know as the feedback and the hype before settle on u   by   they have win a talent contest and get notice by a manager paul mcguinness they be brilliant but very coarse mcguinness recently say in a way they be do exactly what they do now only badly they struggle to attract record company attention later be describe as pretty damn average and strange and eerie by scout who see they live they release two irelandonly single which top the national chart in   and   lead to a deal with island and their debut album boy the stadiumfille anthemic sound be we aim from the start and their third album war see they make the breakthrough on both side of the atlantic go to number one in the uk and   in the us song like sunday bloody sunday and new year day bring success and an image as a political and spiritual band   which bono reject as a cliche   his stage performance   which include flagwave speakerclimbing and drumthrowing   earn he a reputation as an electric performer and their appearance at s live aid be widely see as seal their global stardom   in   the joshua tree break sale record and see the band reach the height of their power with hit include where the street have no name I still have not find what I m look for and with or without you those song take the band epic atmospheric sound to a simple powerful and popular pinnacle the end of the decade mark a crucial point for the band   they have reach the top but still yearn for new challenge and achievement these come in the form of exploration of different branch of rock and foray into electronic dance music plus wildly extravagant stage show while still try to retain their mass appeal the achtung baby album in   be follow by zooropa pop and their corresponding stadium tour which feature giant olive fly car live phone call to the white house and bonos transformation into alterego the fly and macphisto he be also build a parallel reputation   not always to the pleasure of his bandmate   as a campaigner on issue from global debt to aid before the release of how to dismantle an atomic bomb they have sell   million album around the world but they still want more\n",
            "After : we desire to be number one   u who have win three prestigious grammy award for their hit vertigo be stubbornly cling to their status as one of the big band in the world   the most popular group in the history of rock all have several thing in common the music must be inspire and appeal across generation and be distinctive if not always groundbreake but such success be down to more than music they have to be compelling performer charismatic and intelligent enough to make good decision and keep their foot on the ground they also have to want it they have to want to be the big band ever and not stop want it the beatle have it the rolling stone still have it rem hold onto it and queen be it in a catsuit and u have it in spade and keep churn it out their new album how to dismantle an atomic bomb come   year after the schoolfriend get together in dublin and   year after the joshua tree cement their place on the alltime rock alist   they may have lose some of the edginess and raw youthful force that propel they to the top but they have lose none of the desire or ability to craft song and album   vertigo the first single from the new album go straight into the uk single chart at number one knock eminem off the top spot and give they their th top   hit the challenge be to be big and bolder and well   to make record the whole world will listen to bono recently say drummer larry mullen jr echo those sentiment be very competitive   we want to be on the radio have big single we do not want to be think of as a veteran band the band have do everything in their considerable power to ensure they remain the big band in the world accord to q magazine editor paul ree   this make they hugely determined and formidable he add they be equally determined to push themselves to make music that continue to stand up as such they ve constantly reinvent and challenge themselves they be perhaps alone as the only rock band that have get well with age the other key ingredient be the fact they be highly organise mr rees say they do everything in the right way the group be bear when mullen put an appeal for bandmate on a high school notice board attract fellow pupil paul hewson bono vocal adam clayton bass david evans the edge guitar and his brother dick   dick evans soon drop out and the fourpiece be know as the feedback and the hype before settle on u   by   they have win a talent contest and get notice by a manager paul mcguinness they be brilliant but very coarse mcguinness recently say in a way they be do exactly what they do now only badly they struggle to attract record company attention later be describe as pretty damn average and strange and eerie by scout who see they live they release two irelandonly single which top the national chart in   and   lead to a deal with island and their debut album boy the stadiumfille anthemic sound be we aim from the start and their third album war see they make the breakthrough on both side of the atlantic go to number one in the uk and   in the us song like sunday bloody sunday and new year day bring success and an image as a political and spiritual band   which bono reject as a cliche   his stage performance   which include flagwave speakerclimbing and drumthrowing   earn he a reputation as an electric performer and their appearance at s live aid be widely see as seal their global stardom   in   the joshua tree break sale record and see the band reach the height of their power with hit include where the street have no name I still have not find what I m look for and with or without you those song take the band epic atmospheric sound to a simple powerful and popular pinnacle the end of the decade mark a crucial point for the band   they have reach the top but still yearn for new challenge and achievement these come in the form of exploration of different branch of rock and foray into electronic dance music plus wildly extravagant stage show while still try to retain their mass appeal the achtung baby album in   be follow by zooropa pop and their corresponding stadium tour which feature giant olive fly car live phone call to the white house and bonos transformation into alterego the fly and macphisto he be also build a parallel reputation   not always to the pleasure of his bandmate   as a campaigner on issue from global debt to aid before the release of how to dismantle an atomic bomb they have sell   million album around the world but they still want more\n",
            "\n",
            "Before: rocker doherty in onstage fight   rock singer pete doherty have be involve in a fight with his band guitarist at their big gig to date   babyshamble play for   fan at londons brixton academy on tuesday the former libertine singer trade blow with guitarist patrick walden they be separate and bundle off stage before return to end the set the show be early hold up due to audience overcrowding on monday doherty face blackmail and robbery charge in court which he deny he be out on xcxa bail and the judge agree to extend his   gmt curfew deadline by two hour so he could play the brixton gig   babyshamble which he form after his acrimonious departure from the libertine play a warmup show at the garage north london on monday on tuesday doherty and his three bandmate be introduce to the crowd by mick jones the former clash guitarist who produce the libertine second album babyshamble take the stage to a frenzied reception at   gmt launch into their last single killamangiro which reach number eight in december but the group have to stop during the next song to persuade fan not to push forward and allow security guard to pull people out of the crush doherty appeal to fan to calm down say there s a few people getting hurt down the front you ve get to move back   the music resume minute later but after several more song the singer appear to accidentally disconnect waldens guitar lead the pair to trade kick and punch bouncer step in and the band leave the stage but return after five minute and finish their minute performance with no further trouble doherty   have to be home by midnight to observe the curfew which be one of the condition of his bail on monday the judge agree to allow he to perform on condition that request for change to his bail term be not too regular an occurrence the singer be arrest with fellow musician alan wass on   february after an allege dispute with documentarymaker max carlish at a london hotel they be next due in court on   april\n",
            "After : rocker doherty in onstage fight   rock singer pete doherty have be involve in a fight with his band guitarist at their big gig to date   babyshamble play for   fan at londons brixton academy on tuesday the former libertine singer trade blow with guitarist patrick walden they be separate and bundle off stage before return to end the set the show be early hold up due to audience overcrowding on monday doherty face blackmail and robbery charge in court which he deny he be out on xcxa bail and the judge agree to extend his   gmt curfew deadline by two hour so he could play the brixton gig   babyshamble which he form after his acrimonious departure from the libertine play a warmup show at the garage north london on monday on tuesday doherty and his three bandmate be introduce to the crowd by mick jones the former clash guitarist who produce the libertine second album babyshamble take the stage to a frenzied reception at   gmt launch into their last single killamangiro which reach number eight in december but the group have to stop during the next song to persuade fan not to push forward and allow security guard to pull people out of the crush doherty appeal to fan to calm down say there s a few people getting hurt down the front you ve get to move back   the music resume minute later but after several more song the singer appear to accidentally disconnect waldens guitar lead the pair to trade kick and punch bouncer step in and the band leave the stage but return after five minute and finish their minute performance with no further trouble doherty   have to be home by midnight to observe the curfew which be one of the condition of his bail on monday the judge agree to allow he to perform on condition that request for change to his bail term be not too regular an occurrence the singer be arrest with fellow musician alan wass on   february after an allege dispute with documentarymaker max carlish at a london hotel they be next due in court on   april\n",
            "\n"
          ]
        },
        {
          "output_type": "stream",
          "name": "stderr",
          "text": [
            "<ipython-input-19-60522448e1ff>:3: SettingWithCopyWarning: \n",
            "A value is trying to be set on a copy of a slice from a DataFrame.\n",
            "Try using .loc[row_indexer,col_indexer] = value instead\n",
            "\n",
            "See the caveats in the documentation: https://pandas.pydata.org/pandas-docs/stable/user_guide/indexing.html#returning-a-view-versus-a-copy\n",
            "  data['data']= [text.translate(translator) for text in data['data']]\n"
          ]
        }
      ]
    },
    {
      "cell_type": "code",
      "source": [
        "def remove_extra_spaces(text):\n",
        "    text = re.sub(r'\\s+', ' ', text).strip()\n",
        "    return text\n",
        "\n",
        "before_step_6 = data['data'].copy()\n",
        "data['data']  = data['data'].apply(remove_extra_spaces)\n",
        "print_before_after(\"Step 4: Remove Punctuation\", before_step_6, data['data'])"
      ],
      "metadata": {
        "colab": {
          "base_uri": "https://localhost:8080/"
        },
        "id": "oPXa2qx9FOJi",
        "outputId": "54601fb6-4a29-4331-cf12-fbbdfcd24fab"
      },
      "execution_count": 20,
      "outputs": [
        {
          "output_type": "stream",
          "name": "stdout",
          "text": [
            "\n",
            "--- Step 4: Remove Punctuation ---\n",
            "Before: musician to tackle we red tape   musician group be to tackle we visa regulation which be blame for hinder british act chance of succeed across the atlantic   a singer hope to perform in the we can expect to pay   xcxa simply for obtain a visa group include the musician union be call for an end to the raw deal face by british performer we act be not face with comparable expense and bureaucracy when visit the uk for promotional purpose   nigel mccune from the musician union say british musician be disadvantaged compare to their us counterpart a sponsor have to make a petition on their behalf which be a form amount to nearly   page while musician face tough regulation than athlete and journalist if you make a mistake on your form you risk a fiveyear ban and thus the ability to further your career say mr mccune   the us be the world big music market which mean something have to be do about the creaky bureaucracy say mr mccune the current situation be prevent british act from maintain momentum and develop in the us he add   the musician union stance be be endorse by the music manager forum mmf who say british artist face an uphill struggle to succeed in the us thank to the tough visa requirement which be also see as impractical the mmfs general secretary james seller say imagine if you be an orchestra from the orkney every member would have to travel to london to have their visa process   the us market be see as the holy grail and one of the benchmark of success and be still go to fight to get in there its still very important but there be other market like europe india and china add mr seller a department for medium culture and sport spokeswoman say be aware that people be experience problem and be work with the us embassy and record industry to see what we can do about it a us embassy spokesman say we be aware that entertainer require visa for timespecific visa and be do everything we can to process those application speedily we be aware of the importance of cultural exchange and we will do our good to facilitate that he add\n",
            "After : musician to tackle we red tape musician group be to tackle we visa regulation which be blame for hinder british act chance of succeed across the atlantic a singer hope to perform in the we can expect to pay xcxa simply for obtain a visa group include the musician union be call for an end to the raw deal face by british performer we act be not face with comparable expense and bureaucracy when visit the uk for promotional purpose nigel mccune from the musician union say british musician be disadvantaged compare to their us counterpart a sponsor have to make a petition on their behalf which be a form amount to nearly page while musician face tough regulation than athlete and journalist if you make a mistake on your form you risk a fiveyear ban and thus the ability to further your career say mr mccune the us be the world big music market which mean something have to be do about the creaky bureaucracy say mr mccune the current situation be prevent british act from maintain momentum and develop in the us he add the musician union stance be be endorse by the music manager forum mmf who say british artist face an uphill struggle to succeed in the us thank to the tough visa requirement which be also see as impractical the mmfs general secretary james seller say imagine if you be an orchestra from the orkney every member would have to travel to london to have their visa process the us market be see as the holy grail and one of the benchmark of success and be still go to fight to get in there its still very important but there be other market like europe india and china add mr seller a department for medium culture and sport spokeswoman say be aware that people be experience problem and be work with the us embassy and record industry to see what we can do about it a us embassy spokesman say we be aware that entertainer require visa for timespecific visa and be do everything we can to process those application speedily we be aware of the importance of cultural exchange and we will do our good to facilitate that he add\n",
            "\n",
            "Before: we desire to be number one   u who have win three prestigious grammy award for their hit vertigo be stubbornly cling to their status as one of the big band in the world   the most popular group in the history of rock all have several thing in common the music must be inspire and appeal across generation and be distinctive if not always groundbreake but such success be down to more than music they have to be compelling performer charismatic and intelligent enough to make good decision and keep their foot on the ground they also have to want it they have to want to be the big band ever and not stop want it the beatle have it the rolling stone still have it rem hold onto it and queen be it in a catsuit and u have it in spade and keep churn it out their new album how to dismantle an atomic bomb come   year after the schoolfriend get together in dublin and   year after the joshua tree cement their place on the alltime rock alist   they may have lose some of the edginess and raw youthful force that propel they to the top but they have lose none of the desire or ability to craft song and album   vertigo the first single from the new album go straight into the uk single chart at number one knock eminem off the top spot and give they their th top   hit the challenge be to be big and bolder and well   to make record the whole world will listen to bono recently say drummer larry mullen jr echo those sentiment be very competitive   we want to be on the radio have big single we do not want to be think of as a veteran band the band have do everything in their considerable power to ensure they remain the big band in the world accord to q magazine editor paul ree   this make they hugely determined and formidable he add they be equally determined to push themselves to make music that continue to stand up as such they ve constantly reinvent and challenge themselves they be perhaps alone as the only rock band that have get well with age the other key ingredient be the fact they be highly organise mr rees say they do everything in the right way the group be bear when mullen put an appeal for bandmate on a high school notice board attract fellow pupil paul hewson bono vocal adam clayton bass david evans the edge guitar and his brother dick   dick evans soon drop out and the fourpiece be know as the feedback and the hype before settle on u   by   they have win a talent contest and get notice by a manager paul mcguinness they be brilliant but very coarse mcguinness recently say in a way they be do exactly what they do now only badly they struggle to attract record company attention later be describe as pretty damn average and strange and eerie by scout who see they live they release two irelandonly single which top the national chart in   and   lead to a deal with island and their debut album boy the stadiumfille anthemic sound be we aim from the start and their third album war see they make the breakthrough on both side of the atlantic go to number one in the uk and   in the us song like sunday bloody sunday and new year day bring success and an image as a political and spiritual band   which bono reject as a cliche   his stage performance   which include flagwave speakerclimbing and drumthrowing   earn he a reputation as an electric performer and their appearance at s live aid be widely see as seal their global stardom   in   the joshua tree break sale record and see the band reach the height of their power with hit include where the street have no name I still have not find what I m look for and with or without you those song take the band epic atmospheric sound to a simple powerful and popular pinnacle the end of the decade mark a crucial point for the band   they have reach the top but still yearn for new challenge and achievement these come in the form of exploration of different branch of rock and foray into electronic dance music plus wildly extravagant stage show while still try to retain their mass appeal the achtung baby album in   be follow by zooropa pop and their corresponding stadium tour which feature giant olive fly car live phone call to the white house and bonos transformation into alterego the fly and macphisto he be also build a parallel reputation   not always to the pleasure of his bandmate   as a campaigner on issue from global debt to aid before the release of how to dismantle an atomic bomb they have sell   million album around the world but they still want more\n",
            "After : we desire to be number one u who have win three prestigious grammy award for their hit vertigo be stubbornly cling to their status as one of the big band in the world the most popular group in the history of rock all have several thing in common the music must be inspire and appeal across generation and be distinctive if not always groundbreake but such success be down to more than music they have to be compelling performer charismatic and intelligent enough to make good decision and keep their foot on the ground they also have to want it they have to want to be the big band ever and not stop want it the beatle have it the rolling stone still have it rem hold onto it and queen be it in a catsuit and u have it in spade and keep churn it out their new album how to dismantle an atomic bomb come year after the schoolfriend get together in dublin and year after the joshua tree cement their place on the alltime rock alist they may have lose some of the edginess and raw youthful force that propel they to the top but they have lose none of the desire or ability to craft song and album vertigo the first single from the new album go straight into the uk single chart at number one knock eminem off the top spot and give they their th top hit the challenge be to be big and bolder and well to make record the whole world will listen to bono recently say drummer larry mullen jr echo those sentiment be very competitive we want to be on the radio have big single we do not want to be think of as a veteran band the band have do everything in their considerable power to ensure they remain the big band in the world accord to q magazine editor paul ree this make they hugely determined and formidable he add they be equally determined to push themselves to make music that continue to stand up as such they ve constantly reinvent and challenge themselves they be perhaps alone as the only rock band that have get well with age the other key ingredient be the fact they be highly organise mr rees say they do everything in the right way the group be bear when mullen put an appeal for bandmate on a high school notice board attract fellow pupil paul hewson bono vocal adam clayton bass david evans the edge guitar and his brother dick dick evans soon drop out and the fourpiece be know as the feedback and the hype before settle on u by they have win a talent contest and get notice by a manager paul mcguinness they be brilliant but very coarse mcguinness recently say in a way they be do exactly what they do now only badly they struggle to attract record company attention later be describe as pretty damn average and strange and eerie by scout who see they live they release two irelandonly single which top the national chart in and lead to a deal with island and their debut album boy the stadiumfille anthemic sound be we aim from the start and their third album war see they make the breakthrough on both side of the atlantic go to number one in the uk and in the us song like sunday bloody sunday and new year day bring success and an image as a political and spiritual band which bono reject as a cliche his stage performance which include flagwave speakerclimbing and drumthrowing earn he a reputation as an electric performer and their appearance at s live aid be widely see as seal their global stardom in the joshua tree break sale record and see the band reach the height of their power with hit include where the street have no name I still have not find what I m look for and with or without you those song take the band epic atmospheric sound to a simple powerful and popular pinnacle the end of the decade mark a crucial point for the band they have reach the top but still yearn for new challenge and achievement these come in the form of exploration of different branch of rock and foray into electronic dance music plus wildly extravagant stage show while still try to retain their mass appeal the achtung baby album in be follow by zooropa pop and their corresponding stadium tour which feature giant olive fly car live phone call to the white house and bonos transformation into alterego the fly and macphisto he be also build a parallel reputation not always to the pleasure of his bandmate as a campaigner on issue from global debt to aid before the release of how to dismantle an atomic bomb they have sell million album around the world but they still want more\n",
            "\n",
            "Before: rocker doherty in onstage fight   rock singer pete doherty have be involve in a fight with his band guitarist at their big gig to date   babyshamble play for   fan at londons brixton academy on tuesday the former libertine singer trade blow with guitarist patrick walden they be separate and bundle off stage before return to end the set the show be early hold up due to audience overcrowding on monday doherty face blackmail and robbery charge in court which he deny he be out on xcxa bail and the judge agree to extend his   gmt curfew deadline by two hour so he could play the brixton gig   babyshamble which he form after his acrimonious departure from the libertine play a warmup show at the garage north london on monday on tuesday doherty and his three bandmate be introduce to the crowd by mick jones the former clash guitarist who produce the libertine second album babyshamble take the stage to a frenzied reception at   gmt launch into their last single killamangiro which reach number eight in december but the group have to stop during the next song to persuade fan not to push forward and allow security guard to pull people out of the crush doherty appeal to fan to calm down say there s a few people getting hurt down the front you ve get to move back   the music resume minute later but after several more song the singer appear to accidentally disconnect waldens guitar lead the pair to trade kick and punch bouncer step in and the band leave the stage but return after five minute and finish their minute performance with no further trouble doherty   have to be home by midnight to observe the curfew which be one of the condition of his bail on monday the judge agree to allow he to perform on condition that request for change to his bail term be not too regular an occurrence the singer be arrest with fellow musician alan wass on   february after an allege dispute with documentarymaker max carlish at a london hotel they be next due in court on   april\n",
            "After : rocker doherty in onstage fight rock singer pete doherty have be involve in a fight with his band guitarist at their big gig to date babyshamble play for fan at londons brixton academy on tuesday the former libertine singer trade blow with guitarist patrick walden they be separate and bundle off stage before return to end the set the show be early hold up due to audience overcrowding on monday doherty face blackmail and robbery charge in court which he deny he be out on xcxa bail and the judge agree to extend his gmt curfew deadline by two hour so he could play the brixton gig babyshamble which he form after his acrimonious departure from the libertine play a warmup show at the garage north london on monday on tuesday doherty and his three bandmate be introduce to the crowd by mick jones the former clash guitarist who produce the libertine second album babyshamble take the stage to a frenzied reception at gmt launch into their last single killamangiro which reach number eight in december but the group have to stop during the next song to persuade fan not to push forward and allow security guard to pull people out of the crush doherty appeal to fan to calm down say there s a few people getting hurt down the front you ve get to move back the music resume minute later but after several more song the singer appear to accidentally disconnect waldens guitar lead the pair to trade kick and punch bouncer step in and the band leave the stage but return after five minute and finish their minute performance with no further trouble doherty have to be home by midnight to observe the curfew which be one of the condition of his bail on monday the judge agree to allow he to perform on condition that request for change to his bail term be not too regular an occurrence the singer be arrest with fellow musician alan wass on february after an allege dispute with documentarymaker max carlish at a london hotel they be next due in court on april\n",
            "\n"
          ]
        },
        {
          "output_type": "stream",
          "name": "stderr",
          "text": [
            "<ipython-input-20-5443c6780e9a>:6: SettingWithCopyWarning: \n",
            "A value is trying to be set on a copy of a slice from a DataFrame.\n",
            "Try using .loc[row_indexer,col_indexer] = value instead\n",
            "\n",
            "See the caveats in the documentation: https://pandas.pydata.org/pandas-docs/stable/user_guide/indexing.html#returning-a-view-versus-a-copy\n",
            "  data['data']  = data['data'].apply(remove_extra_spaces)\n"
          ]
        }
      ]
    },
    {
      "cell_type": "code",
      "source": [
        "abbreviation_dict = {\n",
        "    \"pls\": \"please\",\n",
        "    \"u\": \"you\",\n",
        "    \"ur\": \"your\",\n",
        "    \"r\": \"are\",\n",
        "    \"btw\": \"by the way\",\n",
        "    \"idk\": \"i don't know\",\n",
        "    \"tbh\": \"to be honest\",\n",
        "    \"brb\": \"be right back\",\n",
        "    \"lol\": \"laugh out loud\",\n",
        "    \"omg\": \"oh my god\",\n",
        "    \"thx\": \"thanks\",\n",
        "    \"np\": \"no problem\",\n",
        "}"
      ],
      "metadata": {
        "id": "pfUyOHUzFOG8"
      },
      "execution_count": 21,
      "outputs": []
    },
    {
      "cell_type": "code",
      "source": [
        "# Define a function to expand abbreviations in a string\n",
        "def expand_abbreviations(text):\n",
        "    words = text.split()\n",
        "    expanded_words = [abbreviation_dict.get(word, word) for word in words]\n",
        "    expanded_text = ' '.join(expanded_words)\n",
        "    return expanded_text\n",
        "\n",
        "before_step_7 = data['data'].copy()\n",
        "data['data']  = data['data'].apply(expand_abbreviations)\n",
        "print_before_after(\"Step 4: Remove Punctuation\", before_step_7, data['data'])"
      ],
      "metadata": {
        "colab": {
          "base_uri": "https://localhost:8080/"
        },
        "id": "UQctpt6kFOEj",
        "outputId": "858056c7-6848-4516-932f-2a81b23eae13"
      },
      "execution_count": 22,
      "outputs": [
        {
          "output_type": "stream",
          "name": "stdout",
          "text": [
            "\n",
            "--- Step 4: Remove Punctuation ---\n",
            "Before: musician to tackle we red tape musician group be to tackle we visa regulation which be blame for hinder british act chance of succeed across the atlantic a singer hope to perform in the we can expect to pay xcxa simply for obtain a visa group include the musician union be call for an end to the raw deal face by british performer we act be not face with comparable expense and bureaucracy when visit the uk for promotional purpose nigel mccune from the musician union say british musician be disadvantaged compare to their us counterpart a sponsor have to make a petition on their behalf which be a form amount to nearly page while musician face tough regulation than athlete and journalist if you make a mistake on your form you risk a fiveyear ban and thus the ability to further your career say mr mccune the us be the world big music market which mean something have to be do about the creaky bureaucracy say mr mccune the current situation be prevent british act from maintain momentum and develop in the us he add the musician union stance be be endorse by the music manager forum mmf who say british artist face an uphill struggle to succeed in the us thank to the tough visa requirement which be also see as impractical the mmfs general secretary james seller say imagine if you be an orchestra from the orkney every member would have to travel to london to have their visa process the us market be see as the holy grail and one of the benchmark of success and be still go to fight to get in there its still very important but there be other market like europe india and china add mr seller a department for medium culture and sport spokeswoman say be aware that people be experience problem and be work with the us embassy and record industry to see what we can do about it a us embassy spokesman say we be aware that entertainer require visa for timespecific visa and be do everything we can to process those application speedily we be aware of the importance of cultural exchange and we will do our good to facilitate that he add\n",
            "After : musician to tackle we red tape musician group be to tackle we visa regulation which be blame for hinder british act chance of succeed across the atlantic a singer hope to perform in the we can expect to pay xcxa simply for obtain a visa group include the musician union be call for an end to the raw deal face by british performer we act be not face with comparable expense and bureaucracy when visit the uk for promotional purpose nigel mccune from the musician union say british musician be disadvantaged compare to their us counterpart a sponsor have to make a petition on their behalf which be a form amount to nearly page while musician face tough regulation than athlete and journalist if you make a mistake on your form you risk a fiveyear ban and thus the ability to further your career say mr mccune the us be the world big music market which mean something have to be do about the creaky bureaucracy say mr mccune the current situation be prevent british act from maintain momentum and develop in the us he add the musician union stance be be endorse by the music manager forum mmf who say british artist face an uphill struggle to succeed in the us thank to the tough visa requirement which be also see as impractical the mmfs general secretary james seller say imagine if you be an orchestra from the orkney every member would have to travel to london to have their visa process the us market be see as the holy grail and one of the benchmark of success and be still go to fight to get in there its still very important but there be other market like europe india and china add mr seller a department for medium culture and sport spokeswoman say be aware that people be experience problem and be work with the us embassy and record industry to see what we can do about it a us embassy spokesman say we be aware that entertainer require visa for timespecific visa and be do everything we can to process those application speedily we be aware of the importance of cultural exchange and we will do our good to facilitate that he add\n",
            "\n",
            "Before: we desire to be number one u who have win three prestigious grammy award for their hit vertigo be stubbornly cling to their status as one of the big band in the world the most popular group in the history of rock all have several thing in common the music must be inspire and appeal across generation and be distinctive if not always groundbreake but such success be down to more than music they have to be compelling performer charismatic and intelligent enough to make good decision and keep their foot on the ground they also have to want it they have to want to be the big band ever and not stop want it the beatle have it the rolling stone still have it rem hold onto it and queen be it in a catsuit and u have it in spade and keep churn it out their new album how to dismantle an atomic bomb come year after the schoolfriend get together in dublin and year after the joshua tree cement their place on the alltime rock alist they may have lose some of the edginess and raw youthful force that propel they to the top but they have lose none of the desire or ability to craft song and album vertigo the first single from the new album go straight into the uk single chart at number one knock eminem off the top spot and give they their th top hit the challenge be to be big and bolder and well to make record the whole world will listen to bono recently say drummer larry mullen jr echo those sentiment be very competitive we want to be on the radio have big single we do not want to be think of as a veteran band the band have do everything in their considerable power to ensure they remain the big band in the world accord to q magazine editor paul ree this make they hugely determined and formidable he add they be equally determined to push themselves to make music that continue to stand up as such they ve constantly reinvent and challenge themselves they be perhaps alone as the only rock band that have get well with age the other key ingredient be the fact they be highly organise mr rees say they do everything in the right way the group be bear when mullen put an appeal for bandmate on a high school notice board attract fellow pupil paul hewson bono vocal adam clayton bass david evans the edge guitar and his brother dick dick evans soon drop out and the fourpiece be know as the feedback and the hype before settle on u by they have win a talent contest and get notice by a manager paul mcguinness they be brilliant but very coarse mcguinness recently say in a way they be do exactly what they do now only badly they struggle to attract record company attention later be describe as pretty damn average and strange and eerie by scout who see they live they release two irelandonly single which top the national chart in and lead to a deal with island and their debut album boy the stadiumfille anthemic sound be we aim from the start and their third album war see they make the breakthrough on both side of the atlantic go to number one in the uk and in the us song like sunday bloody sunday and new year day bring success and an image as a political and spiritual band which bono reject as a cliche his stage performance which include flagwave speakerclimbing and drumthrowing earn he a reputation as an electric performer and their appearance at s live aid be widely see as seal their global stardom in the joshua tree break sale record and see the band reach the height of their power with hit include where the street have no name I still have not find what I m look for and with or without you those song take the band epic atmospheric sound to a simple powerful and popular pinnacle the end of the decade mark a crucial point for the band they have reach the top but still yearn for new challenge and achievement these come in the form of exploration of different branch of rock and foray into electronic dance music plus wildly extravagant stage show while still try to retain their mass appeal the achtung baby album in be follow by zooropa pop and their corresponding stadium tour which feature giant olive fly car live phone call to the white house and bonos transformation into alterego the fly and macphisto he be also build a parallel reputation not always to the pleasure of his bandmate as a campaigner on issue from global debt to aid before the release of how to dismantle an atomic bomb they have sell million album around the world but they still want more\n",
            "After : we desire to be number one you who have win three prestigious grammy award for their hit vertigo be stubbornly cling to their status as one of the big band in the world the most popular group in the history of rock all have several thing in common the music must be inspire and appeal across generation and be distinctive if not always groundbreake but such success be down to more than music they have to be compelling performer charismatic and intelligent enough to make good decision and keep their foot on the ground they also have to want it they have to want to be the big band ever and not stop want it the beatle have it the rolling stone still have it rem hold onto it and queen be it in a catsuit and you have it in spade and keep churn it out their new album how to dismantle an atomic bomb come year after the schoolfriend get together in dublin and year after the joshua tree cement their place on the alltime rock alist they may have lose some of the edginess and raw youthful force that propel they to the top but they have lose none of the desire or ability to craft song and album vertigo the first single from the new album go straight into the uk single chart at number one knock eminem off the top spot and give they their th top hit the challenge be to be big and bolder and well to make record the whole world will listen to bono recently say drummer larry mullen jr echo those sentiment be very competitive we want to be on the radio have big single we do not want to be think of as a veteran band the band have do everything in their considerable power to ensure they remain the big band in the world accord to q magazine editor paul ree this make they hugely determined and formidable he add they be equally determined to push themselves to make music that continue to stand up as such they ve constantly reinvent and challenge themselves they be perhaps alone as the only rock band that have get well with age the other key ingredient be the fact they be highly organise mr rees say they do everything in the right way the group be bear when mullen put an appeal for bandmate on a high school notice board attract fellow pupil paul hewson bono vocal adam clayton bass david evans the edge guitar and his brother dick dick evans soon drop out and the fourpiece be know as the feedback and the hype before settle on you by they have win a talent contest and get notice by a manager paul mcguinness they be brilliant but very coarse mcguinness recently say in a way they be do exactly what they do now only badly they struggle to attract record company attention later be describe as pretty damn average and strange and eerie by scout who see they live they release two irelandonly single which top the national chart in and lead to a deal with island and their debut album boy the stadiumfille anthemic sound be we aim from the start and their third album war see they make the breakthrough on both side of the atlantic go to number one in the uk and in the us song like sunday bloody sunday and new year day bring success and an image as a political and spiritual band which bono reject as a cliche his stage performance which include flagwave speakerclimbing and drumthrowing earn he a reputation as an electric performer and their appearance at s live aid be widely see as seal their global stardom in the joshua tree break sale record and see the band reach the height of their power with hit include where the street have no name I still have not find what I m look for and with or without you those song take the band epic atmospheric sound to a simple powerful and popular pinnacle the end of the decade mark a crucial point for the band they have reach the top but still yearn for new challenge and achievement these come in the form of exploration of different branch of rock and foray into electronic dance music plus wildly extravagant stage show while still try to retain their mass appeal the achtung baby album in be follow by zooropa pop and their corresponding stadium tour which feature giant olive fly car live phone call to the white house and bonos transformation into alterego the fly and macphisto he be also build a parallel reputation not always to the pleasure of his bandmate as a campaigner on issue from global debt to aid before the release of how to dismantle an atomic bomb they have sell million album around the world but they still want more\n",
            "\n",
            "Before: rocker doherty in onstage fight rock singer pete doherty have be involve in a fight with his band guitarist at their big gig to date babyshamble play for fan at londons brixton academy on tuesday the former libertine singer trade blow with guitarist patrick walden they be separate and bundle off stage before return to end the set the show be early hold up due to audience overcrowding on monday doherty face blackmail and robbery charge in court which he deny he be out on xcxa bail and the judge agree to extend his gmt curfew deadline by two hour so he could play the brixton gig babyshamble which he form after his acrimonious departure from the libertine play a warmup show at the garage north london on monday on tuesday doherty and his three bandmate be introduce to the crowd by mick jones the former clash guitarist who produce the libertine second album babyshamble take the stage to a frenzied reception at gmt launch into their last single killamangiro which reach number eight in december but the group have to stop during the next song to persuade fan not to push forward and allow security guard to pull people out of the crush doherty appeal to fan to calm down say there s a few people getting hurt down the front you ve get to move back the music resume minute later but after several more song the singer appear to accidentally disconnect waldens guitar lead the pair to trade kick and punch bouncer step in and the band leave the stage but return after five minute and finish their minute performance with no further trouble doherty have to be home by midnight to observe the curfew which be one of the condition of his bail on monday the judge agree to allow he to perform on condition that request for change to his bail term be not too regular an occurrence the singer be arrest with fellow musician alan wass on february after an allege dispute with documentarymaker max carlish at a london hotel they be next due in court on april\n",
            "After : rocker doherty in onstage fight rock singer pete doherty have be involve in a fight with his band guitarist at their big gig to date babyshamble play for fan at londons brixton academy on tuesday the former libertine singer trade blow with guitarist patrick walden they be separate and bundle off stage before return to end the set the show be early hold up due to audience overcrowding on monday doherty face blackmail and robbery charge in court which he deny he be out on xcxa bail and the judge agree to extend his gmt curfew deadline by two hour so he could play the brixton gig babyshamble which he form after his acrimonious departure from the libertine play a warmup show at the garage north london on monday on tuesday doherty and his three bandmate be introduce to the crowd by mick jones the former clash guitarist who produce the libertine second album babyshamble take the stage to a frenzied reception at gmt launch into their last single killamangiro which reach number eight in december but the group have to stop during the next song to persuade fan not to push forward and allow security guard to pull people out of the crush doherty appeal to fan to calm down say there s a few people getting hurt down the front you ve get to move back the music resume minute later but after several more song the singer appear to accidentally disconnect waldens guitar lead the pair to trade kick and punch bouncer step in and the band leave the stage but return after five minute and finish their minute performance with no further trouble doherty have to be home by midnight to observe the curfew which be one of the condition of his bail on monday the judge agree to allow he to perform on condition that request for change to his bail term be not too regular an occurrence the singer be arrest with fellow musician alan wass on february after an allege dispute with documentarymaker max carlish at a london hotel they be next due in court on april\n",
            "\n"
          ]
        },
        {
          "output_type": "stream",
          "name": "stderr",
          "text": [
            "<ipython-input-22-982a76695ee4>:9: SettingWithCopyWarning: \n",
            "A value is trying to be set on a copy of a slice from a DataFrame.\n",
            "Try using .loc[row_indexer,col_indexer] = value instead\n",
            "\n",
            "See the caveats in the documentation: https://pandas.pydata.org/pandas-docs/stable/user_guide/indexing.html#returning-a-view-versus-a-copy\n",
            "  data['data']  = data['data'].apply(expand_abbreviations)\n"
          ]
        }
      ]
    },
    {
      "cell_type": "code",
      "source": [
        "df = pd.DataFrame(data)\n",
        "df"
      ],
      "metadata": {
        "colab": {
          "base_uri": "https://localhost:8080/",
          "height": 423
        },
        "id": "sWUAFmmCR8CJ",
        "outputId": "5fbf64c1-0d2c-4a4e-8370-96968d93a3d3"
      },
      "execution_count": 38,
      "outputs": [
        {
          "output_type": "execute_result",
          "data": {
            "text/plain": [
              "                                                   data         labels\n",
              "0     musician to tackle we red tape musician group ...  entertainment\n",
              "1     we desire to be number one you who have win th...  entertainment\n",
              "2     rocker doherty in onstage fight rock singer pe...  entertainment\n",
              "3     snicket top us box office chart the film adapt...  entertainment\n",
              "4     ocean twelve raid box office ocean twelve the ...  entertainment\n",
              "...                                                 ...            ...\n",
              "2220  warn over windows word file write a microsoft ...           tech\n",
              "2221  fast lift rise into record book two highspeed ...           tech\n",
              "2222  nintendo add medium play to ds nintendo be rel...           tech\n",
              "2223  fast move phone virus appear security firm be ...           tech\n",
              "2224  hacker threat to apple itune user of apple mus...           tech\n",
              "\n",
              "[2126 rows x 2 columns]"
            ],
            "text/html": [
              "\n",
              "  <div id=\"df-0637c092-afa7-40d0-946d-6b397bdc8a04\" class=\"colab-df-container\">\n",
              "    <div>\n",
              "<style scoped>\n",
              "    .dataframe tbody tr th:only-of-type {\n",
              "        vertical-align: middle;\n",
              "    }\n",
              "\n",
              "    .dataframe tbody tr th {\n",
              "        vertical-align: top;\n",
              "    }\n",
              "\n",
              "    .dataframe thead th {\n",
              "        text-align: right;\n",
              "    }\n",
              "</style>\n",
              "<table border=\"1\" class=\"dataframe\">\n",
              "  <thead>\n",
              "    <tr style=\"text-align: right;\">\n",
              "      <th></th>\n",
              "      <th>data</th>\n",
              "      <th>labels</th>\n",
              "    </tr>\n",
              "  </thead>\n",
              "  <tbody>\n",
              "    <tr>\n",
              "      <th>0</th>\n",
              "      <td>musician to tackle we red tape musician group ...</td>\n",
              "      <td>entertainment</td>\n",
              "    </tr>\n",
              "    <tr>\n",
              "      <th>1</th>\n",
              "      <td>we desire to be number one you who have win th...</td>\n",
              "      <td>entertainment</td>\n",
              "    </tr>\n",
              "    <tr>\n",
              "      <th>2</th>\n",
              "      <td>rocker doherty in onstage fight rock singer pe...</td>\n",
              "      <td>entertainment</td>\n",
              "    </tr>\n",
              "    <tr>\n",
              "      <th>3</th>\n",
              "      <td>snicket top us box office chart the film adapt...</td>\n",
              "      <td>entertainment</td>\n",
              "    </tr>\n",
              "    <tr>\n",
              "      <th>4</th>\n",
              "      <td>ocean twelve raid box office ocean twelve the ...</td>\n",
              "      <td>entertainment</td>\n",
              "    </tr>\n",
              "    <tr>\n",
              "      <th>...</th>\n",
              "      <td>...</td>\n",
              "      <td>...</td>\n",
              "    </tr>\n",
              "    <tr>\n",
              "      <th>2220</th>\n",
              "      <td>warn over windows word file write a microsoft ...</td>\n",
              "      <td>tech</td>\n",
              "    </tr>\n",
              "    <tr>\n",
              "      <th>2221</th>\n",
              "      <td>fast lift rise into record book two highspeed ...</td>\n",
              "      <td>tech</td>\n",
              "    </tr>\n",
              "    <tr>\n",
              "      <th>2222</th>\n",
              "      <td>nintendo add medium play to ds nintendo be rel...</td>\n",
              "      <td>tech</td>\n",
              "    </tr>\n",
              "    <tr>\n",
              "      <th>2223</th>\n",
              "      <td>fast move phone virus appear security firm be ...</td>\n",
              "      <td>tech</td>\n",
              "    </tr>\n",
              "    <tr>\n",
              "      <th>2224</th>\n",
              "      <td>hacker threat to apple itune user of apple mus...</td>\n",
              "      <td>tech</td>\n",
              "    </tr>\n",
              "  </tbody>\n",
              "</table>\n",
              "<p>2126 rows × 2 columns</p>\n",
              "</div>\n",
              "    <div class=\"colab-df-buttons\">\n",
              "\n",
              "  <div class=\"colab-df-container\">\n",
              "    <button class=\"colab-df-convert\" onclick=\"convertToInteractive('df-0637c092-afa7-40d0-946d-6b397bdc8a04')\"\n",
              "            title=\"Convert this dataframe to an interactive table.\"\n",
              "            style=\"display:none;\">\n",
              "\n",
              "  <svg xmlns=\"http://www.w3.org/2000/svg\" height=\"24px\" viewBox=\"0 -960 960 960\">\n",
              "    <path d=\"M120-120v-720h720v720H120Zm60-500h600v-160H180v160Zm220 220h160v-160H400v160Zm0 220h160v-160H400v160ZM180-400h160v-160H180v160Zm440 0h160v-160H620v160ZM180-180h160v-160H180v160Zm440 0h160v-160H620v160Z\"/>\n",
              "  </svg>\n",
              "    </button>\n",
              "\n",
              "  <style>\n",
              "    .colab-df-container {\n",
              "      display:flex;\n",
              "      gap: 12px;\n",
              "    }\n",
              "\n",
              "    .colab-df-convert {\n",
              "      background-color: #E8F0FE;\n",
              "      border: none;\n",
              "      border-radius: 50%;\n",
              "      cursor: pointer;\n",
              "      display: none;\n",
              "      fill: #1967D2;\n",
              "      height: 32px;\n",
              "      padding: 0 0 0 0;\n",
              "      width: 32px;\n",
              "    }\n",
              "\n",
              "    .colab-df-convert:hover {\n",
              "      background-color: #E2EBFA;\n",
              "      box-shadow: 0px 1px 2px rgba(60, 64, 67, 0.3), 0px 1px 3px 1px rgba(60, 64, 67, 0.15);\n",
              "      fill: #174EA6;\n",
              "    }\n",
              "\n",
              "    .colab-df-buttons div {\n",
              "      margin-bottom: 4px;\n",
              "    }\n",
              "\n",
              "    [theme=dark] .colab-df-convert {\n",
              "      background-color: #3B4455;\n",
              "      fill: #D2E3FC;\n",
              "    }\n",
              "\n",
              "    [theme=dark] .colab-df-convert:hover {\n",
              "      background-color: #434B5C;\n",
              "      box-shadow: 0px 1px 3px 1px rgba(0, 0, 0, 0.15);\n",
              "      filter: drop-shadow(0px 1px 2px rgba(0, 0, 0, 0.3));\n",
              "      fill: #FFFFFF;\n",
              "    }\n",
              "  </style>\n",
              "\n",
              "    <script>\n",
              "      const buttonEl =\n",
              "        document.querySelector('#df-0637c092-afa7-40d0-946d-6b397bdc8a04 button.colab-df-convert');\n",
              "      buttonEl.style.display =\n",
              "        google.colab.kernel.accessAllowed ? 'block' : 'none';\n",
              "\n",
              "      async function convertToInteractive(key) {\n",
              "        const element = document.querySelector('#df-0637c092-afa7-40d0-946d-6b397bdc8a04');\n",
              "        const dataTable =\n",
              "          await google.colab.kernel.invokeFunction('convertToInteractive',\n",
              "                                                    [key], {});\n",
              "        if (!dataTable) return;\n",
              "\n",
              "        const docLinkHtml = 'Like what you see? Visit the ' +\n",
              "          '<a target=\"_blank\" href=https://colab.research.google.com/notebooks/data_table.ipynb>data table notebook</a>'\n",
              "          + ' to learn more about interactive tables.';\n",
              "        element.innerHTML = '';\n",
              "        dataTable['output_type'] = 'display_data';\n",
              "        await google.colab.output.renderOutput(dataTable, element);\n",
              "        const docLink = document.createElement('div');\n",
              "        docLink.innerHTML = docLinkHtml;\n",
              "        element.appendChild(docLink);\n",
              "      }\n",
              "    </script>\n",
              "  </div>\n",
              "\n",
              "\n",
              "<div id=\"df-616f8ab2-6f9d-4013-92b8-0d9f63c1690b\">\n",
              "  <button class=\"colab-df-quickchart\" onclick=\"quickchart('df-616f8ab2-6f9d-4013-92b8-0d9f63c1690b')\"\n",
              "            title=\"Suggest charts\"\n",
              "            style=\"display:none;\">\n",
              "\n",
              "<svg xmlns=\"http://www.w3.org/2000/svg\" height=\"24px\"viewBox=\"0 0 24 24\"\n",
              "     width=\"24px\">\n",
              "    <g>\n",
              "        <path d=\"M19 3H5c-1.1 0-2 .9-2 2v14c0 1.1.9 2 2 2h14c1.1 0 2-.9 2-2V5c0-1.1-.9-2-2-2zM9 17H7v-7h2v7zm4 0h-2V7h2v10zm4 0h-2v-4h2v4z\"/>\n",
              "    </g>\n",
              "</svg>\n",
              "  </button>\n",
              "\n",
              "<style>\n",
              "  .colab-df-quickchart {\n",
              "      --bg-color: #E8F0FE;\n",
              "      --fill-color: #1967D2;\n",
              "      --hover-bg-color: #E2EBFA;\n",
              "      --hover-fill-color: #174EA6;\n",
              "      --disabled-fill-color: #AAA;\n",
              "      --disabled-bg-color: #DDD;\n",
              "  }\n",
              "\n",
              "  [theme=dark] .colab-df-quickchart {\n",
              "      --bg-color: #3B4455;\n",
              "      --fill-color: #D2E3FC;\n",
              "      --hover-bg-color: #434B5C;\n",
              "      --hover-fill-color: #FFFFFF;\n",
              "      --disabled-bg-color: #3B4455;\n",
              "      --disabled-fill-color: #666;\n",
              "  }\n",
              "\n",
              "  .colab-df-quickchart {\n",
              "    background-color: var(--bg-color);\n",
              "    border: none;\n",
              "    border-radius: 50%;\n",
              "    cursor: pointer;\n",
              "    display: none;\n",
              "    fill: var(--fill-color);\n",
              "    height: 32px;\n",
              "    padding: 0;\n",
              "    width: 32px;\n",
              "  }\n",
              "\n",
              "  .colab-df-quickchart:hover {\n",
              "    background-color: var(--hover-bg-color);\n",
              "    box-shadow: 0 1px 2px rgba(60, 64, 67, 0.3), 0 1px 3px 1px rgba(60, 64, 67, 0.15);\n",
              "    fill: var(--button-hover-fill-color);\n",
              "  }\n",
              "\n",
              "  .colab-df-quickchart-complete:disabled,\n",
              "  .colab-df-quickchart-complete:disabled:hover {\n",
              "    background-color: var(--disabled-bg-color);\n",
              "    fill: var(--disabled-fill-color);\n",
              "    box-shadow: none;\n",
              "  }\n",
              "\n",
              "  .colab-df-spinner {\n",
              "    border: 2px solid var(--fill-color);\n",
              "    border-color: transparent;\n",
              "    border-bottom-color: var(--fill-color);\n",
              "    animation:\n",
              "      spin 1s steps(1) infinite;\n",
              "  }\n",
              "\n",
              "  @keyframes spin {\n",
              "    0% {\n",
              "      border-color: transparent;\n",
              "      border-bottom-color: var(--fill-color);\n",
              "      border-left-color: var(--fill-color);\n",
              "    }\n",
              "    20% {\n",
              "      border-color: transparent;\n",
              "      border-left-color: var(--fill-color);\n",
              "      border-top-color: var(--fill-color);\n",
              "    }\n",
              "    30% {\n",
              "      border-color: transparent;\n",
              "      border-left-color: var(--fill-color);\n",
              "      border-top-color: var(--fill-color);\n",
              "      border-right-color: var(--fill-color);\n",
              "    }\n",
              "    40% {\n",
              "      border-color: transparent;\n",
              "      border-right-color: var(--fill-color);\n",
              "      border-top-color: var(--fill-color);\n",
              "    }\n",
              "    60% {\n",
              "      border-color: transparent;\n",
              "      border-right-color: var(--fill-color);\n",
              "    }\n",
              "    80% {\n",
              "      border-color: transparent;\n",
              "      border-right-color: var(--fill-color);\n",
              "      border-bottom-color: var(--fill-color);\n",
              "    }\n",
              "    90% {\n",
              "      border-color: transparent;\n",
              "      border-bottom-color: var(--fill-color);\n",
              "    }\n",
              "  }\n",
              "</style>\n",
              "\n",
              "  <script>\n",
              "    async function quickchart(key) {\n",
              "      const quickchartButtonEl =\n",
              "        document.querySelector('#' + key + ' button');\n",
              "      quickchartButtonEl.disabled = true;  // To prevent multiple clicks.\n",
              "      quickchartButtonEl.classList.add('colab-df-spinner');\n",
              "      try {\n",
              "        const charts = await google.colab.kernel.invokeFunction(\n",
              "            'suggestCharts', [key], {});\n",
              "      } catch (error) {\n",
              "        console.error('Error during call to suggestCharts:', error);\n",
              "      }\n",
              "      quickchartButtonEl.classList.remove('colab-df-spinner');\n",
              "      quickchartButtonEl.classList.add('colab-df-quickchart-complete');\n",
              "    }\n",
              "    (() => {\n",
              "      let quickchartButtonEl =\n",
              "        document.querySelector('#df-616f8ab2-6f9d-4013-92b8-0d9f63c1690b button');\n",
              "      quickchartButtonEl.style.display =\n",
              "        google.colab.kernel.accessAllowed ? 'block' : 'none';\n",
              "    })();\n",
              "  </script>\n",
              "</div>\n",
              "    </div>\n",
              "  </div>\n"
            ],
            "application/vnd.google.colaboratory.intrinsic+json": {
              "type": "dataframe",
              "variable_name": "df",
              "summary": "{\n  \"name\": \"df\",\n  \"rows\": 2126,\n  \"fields\": [\n    {\n      \"column\": \"data\",\n      \"properties\": {\n        \"dtype\": \"string\",\n        \"num_unique_values\": 2120,\n        \"samples\": [\n          \"indy buy into india paper irish publishing group independent news medium be buy up a stake in indian newspaper company jagran in a deal worth m euro m jagran publish india topselle daily newspaper the hindilanguage dainik jagran which have be in circulation for year news of the deal come as the group announce that its result would meet market forecast the company report strong revenue growth across all its major market group advertising revenue be up over yearonyear the group say with overall circulation revenue be expect to increase almost yearonyear this be help by the positive impact of compact newspaper edition in ireland and the uk it say have prove to be an important year for independent news medium say chief executive sir anthony oreilly our simple aim at independent be to be the low cost producer in every region in which we operate I be confident that we will show a meaningful increase in earning for meanwhile the group make no comment about the future of the independent newspaper despite recent speculation that sir anthony have hold talk with potential buyer over a stake in the daily publication he have consistently deny suggestion that the independent and the independent on sunday be up for sale buy it be understand that the recent success of the small edition of the independent which have push circulation up by to have prompt interest from industry rival with daily mail general trust tip as the most likely suitor the lossmaking newspaper be not expect to reach breakeven until\",\n          \"tory expert deny defeat warn the conservatives campaign director have deny a report claim he warn michael howard the party could not win the next general election the time on monday say australian lynton crosby tell the party leader to focus on try to increase the tory common presence by to seat but mr crosby say in a statement I have never have any such conversation and I do not hold that view mr howard later add there be not one iota of truth in the report the strategist help australias pm john howard win four election mr howard appoint mr crosby as his election chief last october mr crosby statement say the conservative party have be make an impact on the issue of low tax and control immigration over the past week it add the labour party will be want to do all they can to distract attention away from the issue that really matter to people\",\n          \"cage film third week at us top nicolas cage movie national treasure have top the us and canada box office for the third week in a row national treasure make m xcxam in ticket sale from friday to sunday accord to studio estimate take its total to m xcxam comedy christmas with the krank star tim allen and jamie lee curtis be in second place the polar express enter in third place while jude law film close make its debut at number six oliver stone bigbudget epic alexander star colin farrell follow last week disappointing sixthplace opening with a slump to seventh place and taking of m xcxam critic have savage the threehour epic which reportedly cost m xcxam to make national treasure which see cage character ben gates chase a hidden fortune have be make by disney studio it be cage fourth collaboration with jerry bruckheimer who be usually note for his maleorientated action film\"\n        ],\n        \"semantic_type\": \"\",\n        \"description\": \"\"\n      }\n    },\n    {\n      \"column\": \"labels\",\n      \"properties\": {\n        \"dtype\": \"category\",\n        \"num_unique_values\": 5,\n        \"samples\": [\n          \"business\",\n          \"tech\",\n          \"sport\"\n        ],\n        \"semantic_type\": \"\",\n        \"description\": \"\"\n      }\n    }\n  ]\n}"
            }
          },
          "metadata": {},
          "execution_count": 38
        }
      ]
    },
    {
      "cell_type": "code",
      "source": [
        "texts = df['data'].values\n",
        "labels = df['labels'].values\n",
        "\n",
        "#train, validation, and test split\n",
        "x_train, x_val, y_train, y_val = train_test_split(texts, labels, test_size=0.3, random_state=42, shuffle=True, stratify=None)\n",
        "x_val, x_test, y_val, y_test = train_test_split(x_val, y_val, test_size=0.5, random_state=42, shuffle=True, stratify=None)"
      ],
      "metadata": {
        "id": "Zx6USzj8FN7G"
      },
      "execution_count": 39,
      "outputs": []
    },
    {
      "cell_type": "code",
      "source": [
        "# vectorized = np.vectorize()\n",
        "# x_train = vectorized(x_train)\n",
        "# x_test = vectorized(x_test)\n",
        "# x_val = vectorized(x_val)"
      ],
      "metadata": {
        "id": "0whlA86w3Pqg"
      },
      "execution_count": 88,
      "outputs": []
    },
    {
      "cell_type": "code",
      "source": [
        "# vectorizer = CountVectorizer()\n",
        "# x_train = vectorizer.fit_transform(x_train)\n",
        "# x_test = vectorizer.transform(x_test)\n",
        "# x_val = vectorizer.transform(x_val)"
      ],
      "metadata": {
        "id": "IS39sczqpS9u"
      },
      "execution_count": 89,
      "outputs": []
    },
    {
      "cell_type": "code",
      "source": [
        "from keras.utils import to_categorical"
      ],
      "metadata": {
        "id": "FCafkPBb5L4J"
      },
      "execution_count": 30,
      "outputs": []
    },
    {
      "cell_type": "code",
      "source": [
        "from sklearn.preprocessing import LabelEncoder"
      ],
      "metadata": {
        "id": "BEdpitWc8O6R"
      },
      "execution_count": 41,
      "outputs": []
    },
    {
      "cell_type": "code",
      "source": [
        "# Tokenization\n",
        "tokenizer = Tokenizer(num_words=1000, oov_token='<oov>')\n",
        "tokenizer.fit_on_texts(x_train)\n",
        "x_train_seq = tokenizer.texts_to_sequences(x_train)\n",
        "x_val_seq = tokenizer.texts_to_sequences(x_val)\n",
        "x_test_seq = tokenizer.texts_to_sequences(x_test)\n",
        "\n",
        "# Padding sequences\n",
        "max_length = max(len(sequence) for sequence in x_train_seq)\n",
        "x_train_pad = pad_sequences(x_train_seq, maxlen=max_length, padding='post', truncating='post')\n",
        "x_val_pad = pad_sequences(x_val_seq, maxlen=max_length, padding='post', truncating='post')\n",
        "x_test_pad = pad_sequences(x_test_seq, maxlen=max_length, padding='post', truncating='post')"
      ],
      "metadata": {
        "id": "xTHKAVSP7VcP"
      },
      "execution_count": 40,
      "outputs": []
    },
    {
      "cell_type": "code",
      "source": [
        "# y_tokenizer = Tokenizer()\n",
        "# y_tokenizer.fit_on_texts(y_train)\n",
        "# y_train_seq = np.array(y_tokenizer.texts_to_sequences(y_train))\n",
        "# y_test_seq = np.array(y_tokenizer.texts_to_sequences(y_test))\n",
        "# y_val_seq = np.array(y_tokenizer.texts_to_sequences(y_val))\n",
        "# print(y_test_seq[:5])\n",
        "# print(np.unique(y_test_seq))"
      ],
      "metadata": {
        "id": "elnqBr1kLofz"
      },
      "execution_count": 87,
      "outputs": []
    },
    {
      "cell_type": "code",
      "source": [
        "# Encode labels to integers\n",
        "label_encoder = LabelEncoder()\n",
        "y_train_int = label_encoder.fit_transform(y_train)\n",
        "y_val_int = label_encoder.transform(y_val)\n",
        "y_test_int = label_encoder.transform(y_test)\n",
        "\n",
        "# Convert integer labels to categorical\n",
        "y_train_cat = to_categorical(y_train_int, num_classes=len(label_encoder.classes_))\n",
        "y_val_cat = to_categorical(y_val_int, num_classes=len(label_encoder.classes_))\n",
        "y_test_cat = to_categorical(y_test_int, num_classes=len(label_encoder.classes_))"
      ],
      "metadata": {
        "id": "VjZPNiVB7jX3"
      },
      "execution_count": 42,
      "outputs": []
    },
    {
      "cell_type": "markdown",
      "source": [
        "# **LSTM**"
      ],
      "metadata": {
        "id": "MwIYZDbVn_ok"
      }
    },
    {
      "cell_type": "code",
      "source": [
        "import tensorflow as tf\n",
        "from tensorflow.keras.callbacks import EarlyStopping, ReduceLROnPlateau"
      ],
      "metadata": {
        "id": "tiPGgVw4yU4h"
      },
      "execution_count": 27,
      "outputs": []
    },
    {
      "cell_type": "code",
      "source": [
        "# Define the EarlyStopping and ReduceLROnPlateau callbacks\n",
        "early_stopping = tf.keras.callbacks.EarlyStopping(\n",
        "    monitor='val_loss',  # Monitor validation loss\n",
        "    patience=5,           # Stop training if no improvement for 8 consecutive epochs\n",
        "    restore_best_weights=True  # Restore best weights based on validation loss\n",
        ")\n",
        "lr_scheduler = tf.keras.callbacks.ReduceLROnPlateau(\n",
        "    monitor='val_loss',\n",
        "    factor=0.1,\n",
        "    patience=3,\n",
        "    verbose=1,\n",
        "    min_lr=1e-6)"
      ],
      "metadata": {
        "id": "BmCv7dyTyLUB"
      },
      "execution_count": 28,
      "outputs": []
    },
    {
      "cell_type": "code",
      "source": [
        "# Define model\n",
        "vocab_size = len(tokenizer.word_index) + 1\n",
        "embedding_dim = 300\n",
        "##LSTM = dropout=0.2, recurrent_dropout=0.2##\n",
        "model = Sequential([\n",
        "    Input(shape=(max_length,)),\n",
        "    Embedding(input_dim=vocab_size, output_dim=embedding_dim, input_length=max_length, trainable=False),\n",
        "    Bidirectional(LSTM(units=128, return_sequences=True)),\n",
        "    Bidirectional(LSTM(64)),\n",
        "    Dense(units=512, activation='relu'),\n",
        "    Dropout(rate=0.5),\n",
        "    Dense(units=5, activation='softmax')\n",
        "])\n",
        "\n",
        "# Compile the model\n",
        "model.compile(loss='categorical_crossentropy', optimizer='adam', metrics=['accuracy'])\n",
        "\n",
        "# Print the model summary\n",
        "model.summary()\n"
      ],
      "metadata": {
        "colab": {
          "base_uri": "https://localhost:8080/"
        },
        "id": "fpn99MtOy8z7",
        "outputId": "7fc490ae-971a-4d4a-8d91-e6ab5ed8123d"
      },
      "execution_count": 61,
      "outputs": [
        {
          "output_type": "stream",
          "name": "stdout",
          "text": [
            "Model: \"sequential_11\"\n",
            "_________________________________________________________________\n",
            " Layer (type)                Output Shape              Param #   \n",
            "=================================================================\n",
            " embedding_11 (Embedding)    (None, 4431, 300)         6408900   \n",
            "                                                                 \n",
            " bidirectional_13 (Bidirect  (None, 4431, 256)         439296    \n",
            " ional)                                                          \n",
            "                                                                 \n",
            " bidirectional_14 (Bidirect  (None, 128)               164352    \n",
            " ional)                                                          \n",
            "                                                                 \n",
            " dense_22 (Dense)            (None, 512)               66048     \n",
            "                                                                 \n",
            " dropout_11 (Dropout)        (None, 512)               0         \n",
            "                                                                 \n",
            " dense_23 (Dense)            (None, 5)                 2565      \n",
            "                                                                 \n",
            "=================================================================\n",
            "Total params: 7081161 (27.01 MB)\n",
            "Trainable params: 672261 (2.56 MB)\n",
            "Non-trainable params: 6408900 (24.45 MB)\n",
            "_________________________________________________________________\n"
          ]
        }
      ]
    },
    {
      "cell_type": "code",
      "source": [
        "history = model.fit(x=x_train_pad, y=y_train_cat, epochs=20,\n",
        "                    validation_data=(x_val_pad, y_val_cat),\n",
        "                    callbacks=[early_stopping, lr_scheduler])\n"
      ],
      "metadata": {
        "colab": {
          "base_uri": "https://localhost:8080/"
        },
        "id": "wZaI4Twk8fgG",
        "outputId": "8ad35cd4-1697-42e0-a10a-c2797044c5f4"
      },
      "execution_count": 62,
      "outputs": [
        {
          "output_type": "stream",
          "name": "stdout",
          "text": [
            "Epoch 1/15\n",
            "47/47 [==============================] - 35s 602ms/step - loss: 1.5718 - accuracy: 0.2708 - val_loss: 1.4936 - val_accuracy: 0.3417 - lr: 0.0010\n",
            "Epoch 2/15\n",
            "47/47 [==============================] - 27s 578ms/step - loss: 1.4351 - accuracy: 0.3730 - val_loss: 1.3653 - val_accuracy: 0.3950 - lr: 0.0010\n",
            "Epoch 3/15\n",
            "47/47 [==============================] - 27s 572ms/step - loss: 1.2113 - accuracy: 0.4980 - val_loss: 1.0455 - val_accuracy: 0.5486 - lr: 0.0010\n",
            "Epoch 4/15\n",
            "47/47 [==============================] - 27s 584ms/step - loss: 0.9874 - accuracy: 0.5833 - val_loss: 1.0602 - val_accuracy: 0.5329 - lr: 0.0010\n",
            "Epoch 5/15\n",
            "47/47 [==============================] - 27s 583ms/step - loss: 0.8876 - accuracy: 0.6465 - val_loss: 0.9122 - val_accuracy: 0.6082 - lr: 0.0010\n",
            "Epoch 6/15\n",
            "47/47 [==============================] - 27s 584ms/step - loss: 0.8068 - accuracy: 0.6962 - val_loss: 0.8997 - val_accuracy: 0.6395 - lr: 0.0010\n",
            "Epoch 7/15\n",
            "47/47 [==============================] - 27s 577ms/step - loss: 0.8460 - accuracy: 0.6707 - val_loss: 0.8006 - val_accuracy: 0.6583 - lr: 0.0010\n",
            "Epoch 8/15\n",
            "47/47 [==============================] - 27s 573ms/step - loss: 0.6391 - accuracy: 0.7547 - val_loss: 0.8706 - val_accuracy: 0.6771 - lr: 0.0010\n",
            "Epoch 9/15\n",
            "47/47 [==============================] - 27s 573ms/step - loss: 1.1227 - accuracy: 0.7554 - val_loss: 0.7292 - val_accuracy: 0.7398 - lr: 0.0010\n",
            "Epoch 10/15\n",
            "47/47 [==============================] - 27s 570ms/step - loss: 0.5742 - accuracy: 0.8017 - val_loss: 0.7639 - val_accuracy: 0.7179 - lr: 0.0010\n",
            "Epoch 11/15\n",
            "47/47 [==============================] - 27s 575ms/step - loss: 0.4625 - accuracy: 0.8488 - val_loss: 0.6226 - val_accuracy: 0.7994 - lr: 0.0010\n",
            "Epoch 12/15\n",
            "47/47 [==============================] - 27s 569ms/step - loss: 0.3374 - accuracy: 0.8810 - val_loss: 0.5889 - val_accuracy: 0.8025 - lr: 0.0010\n",
            "Epoch 13/15\n",
            "47/47 [==============================] - 27s 586ms/step - loss: 0.3321 - accuracy: 0.8884 - val_loss: 0.6483 - val_accuracy: 0.7743 - lr: 0.0010\n",
            "Epoch 14/15\n",
            "47/47 [==============================] - 27s 579ms/step - loss: 0.2661 - accuracy: 0.9140 - val_loss: 0.5733 - val_accuracy: 0.8370 - lr: 0.0010\n",
            "Epoch 15/15\n",
            "47/47 [==============================] - 27s 587ms/step - loss: 0.2685 - accuracy: 0.9039 - val_loss: 0.5989 - val_accuracy: 0.7900 - lr: 0.0010\n"
          ]
        }
      ]
    },
    {
      "cell_type": "code",
      "source": [
        "# Predict the labels for the training and validation sets\n",
        "y_train_pred = model.predict(x_train_pad)\n",
        "y_test_pred = model.predict(x_test_pad)\n",
        "\n",
        "# Convert the predictions and true labels to class labels (from one-hot encoding)\n",
        "y_train_pred_classes = np.argmax(y_train_pred, axis=1)\n",
        "y_train_true_classes = np.argmax(y_train_cat, axis=1)\n",
        "\n",
        "y_test_pred_classes = np.argmax(y_test_pred, axis=1)\n",
        "y_test_true_classes = np.argmax(y_test_cat, axis=1)\n",
        "\n",
        "# Calculate the accuracy for both training and validation sets\n",
        "train_accuracy = accuracy_score(y_train_true_classes, y_train_pred_classes) * 100\n",
        "test_accuracy = accuracy_score(y_test_true_classes, y_test_pred_classes) * 100\n",
        "\n",
        "# Print the accuracies in the desired format\n",
        "print(f'Train Accuracy : {train_accuracy:.2f} %')\n",
        "print(f'Test Accuracy  : {test_accuracy:.2f} %')"
      ],
      "metadata": {
        "colab": {
          "base_uri": "https://localhost:8080/"
        },
        "id": "1rJfFZiNldqO",
        "outputId": "8e594406-71bf-4965-de97-8f31a4a08214"
      },
      "execution_count": 81,
      "outputs": [
        {
          "output_type": "stream",
          "name": "stdout",
          "text": [
            "47/47 [==============================] - 11s 232ms/step\n",
            "10/10 [==============================] - 2s 207ms/step\n",
            "Train Accuracy : 90.99 %\n",
            "Test Accuracy  : 77.12 %\n"
          ]
        }
      ]
    },
    {
      "cell_type": "code",
      "source": [
        "plt.figure(figsize = (12, 6))\n",
        "\n",
        "# loss plot\n",
        "\n",
        "plt.subplot(1, 2, 1)\n",
        "plt.plot(history.history['loss'], label = 'Training Loss')\n",
        "plt.plot(history.history['val_loss'], label = 'Validation Loss')\n",
        "plt.xlabel('Epoch')\n",
        "plt.ylabel('Loss')\n",
        "plt.title('Training and Validation Loss')\n",
        "plt.legend()\n",
        "\n",
        "# accuracy plot\n",
        "\n",
        "plt.subplot(1, 2, 2)\n",
        "plt.plot(history.history['accuracy'], label = 'Training Accuracy')\n",
        "plt.plot(history.history['val_accuracy'], label = 'Validation Accuracy')\n",
        "plt.xlabel('Epoch')\n",
        "plt.ylabel('Accuracy')\n",
        "plt.title('Training and Validation Accuracy')\n",
        "plt.legend()\n",
        "\n",
        "plt.tight_layout()\n",
        "plt.show()"
      ],
      "metadata": {
        "id": "BJ4uzZN2qBQa"
      },
      "execution_count": null,
      "outputs": []
    },
    {
      "cell_type": "code",
      "source": [
        "# Generate the confusion matrix\n",
        "cm = confusion_matrix(y_test_true_classes, y_test_pred_classes)\n",
        "\n",
        "print(classification_report(y_test_true_classes, y_test_pred_classes))"
      ],
      "metadata": {
        "colab": {
          "base_uri": "https://localhost:8080/"
        },
        "id": "zbZkl9hAm2My",
        "outputId": "52f18201-68dc-49a8-a2b8-183c9153a15f"
      },
      "execution_count": 82,
      "outputs": [
        {
          "output_type": "stream",
          "name": "stdout",
          "text": [
            "              precision    recall  f1-score   support\n",
            "\n",
            "           0       0.66      0.96      0.78        85\n",
            "           1       0.86      0.75      0.80        64\n",
            "           2       0.79      0.65      0.71        63\n",
            "           3       0.93      0.74      0.83        58\n",
            "           4       0.80      0.65      0.72        49\n",
            "\n",
            "    accuracy                           0.77       319\n",
            "   macro avg       0.81      0.75      0.77       319\n",
            "weighted avg       0.80      0.77      0.77       319\n",
            "\n"
          ]
        }
      ]
    },
    {
      "cell_type": "code",
      "source": [
        "class_names = [0, 1, 2, 3, 4]\n",
        "\n",
        "# Plot the confusion matrix\n",
        "plt.figure(figsize=(10, 7))\n",
        "sns.heatmap(cm, annot=True, fmt='d', cmap='Blues', xticklabels=class_names, yticklabels=class_names)\n",
        "plt.xlabel('Predicted')\n",
        "plt.ylabel('True')\n",
        "plt.title('Confusion Matrix')\n",
        "plt.show()"
      ],
      "metadata": {
        "colab": {
          "base_uri": "https://localhost:8080/",
          "height": 641
        },
        "id": "zv5D_3GTnoSe",
        "outputId": "014e3049-ba59-4f5f-ade7-2f8c7e20150b"
      },
      "execution_count": 83,
      "outputs": [
        {
          "output_type": "display_data",
          "data": {
            "text/plain": [
              "<Figure size 1000x700 with 2 Axes>"
            ],
            "image/png": "[encoded data removed]"
          },
          "metadata": {}
        }
      ]
    },
    {
      "cell_type": "markdown",
      "source": [
        "# **GRU**"
      ],
      "metadata": {
        "id": "5XTTmpn3n2Fh"
      }
    },
    {
      "cell_type": "code",
      "source": [
        "# Define model\n",
        "vocab_size = len(tokenizer.word_index) + 1\n",
        "embedding_dim = 300\n",
        "\n",
        "model_GRU = Sequential([\n",
        "    Input(shape=(max_length,)),\n",
        "    Embedding(input_dim=vocab_size, output_dim=embedding_dim, input_length=max_length, trainable=False),\n",
        "    Bidirectional(GRU(units=128,return_sequences=True)),\n",
        "    Bidirectional(GRU(64)),\n",
        "    Dense(units=512, activation='relu'),\n",
        "    Dropout(rate=0.5),\n",
        "    Dense(units=5, activation='softmax')\n",
        "])\n",
        "\n",
        "# Compile the model\n",
        "model_GRU.compile(loss='categorical_crossentropy', optimizer='adam', metrics=['accuracy'])\n",
        "\n",
        "# Print the model summary\n",
        "model_GRU.summary()\n"
      ],
      "metadata": {
        "colab": {
          "base_uri": "https://localhost:8080/"
        },
        "id": "6YTkuvYy-2mp",
        "outputId": "475ba8a8-73a8-4ec5-d8e5-2ae33f527b59"
      },
      "execution_count": 65,
      "outputs": [
        {
          "output_type": "stream",
          "name": "stdout",
          "text": [
            "Model: \"sequential_13\"\n",
            "_________________________________________________________________\n",
            " Layer (type)                Output Shape              Param #   \n",
            "=================================================================\n",
            " embedding_13 (Embedding)    (None, 4431, 300)         6408900   \n",
            "                                                                 \n",
            " bidirectional_17 (Bidirect  (None, 4431, 256)         330240    \n",
            " ional)                                                          \n",
            "                                                                 \n",
            " bidirectional_18 (Bidirect  (None, 128)               123648    \n",
            " ional)                                                          \n",
            "                                                                 \n",
            " dense_26 (Dense)            (None, 512)               66048     \n",
            "                                                                 \n",
            " dropout_13 (Dropout)        (None, 512)               0         \n",
            "                                                                 \n",
            " dense_27 (Dense)            (None, 5)                 2565      \n",
            "                                                                 \n",
            "=================================================================\n",
            "Total params: 6931401 (26.44 MB)\n",
            "Trainable params: 522501 (1.99 MB)\n",
            "Non-trainable params: 6408900 (24.45 MB)\n",
            "_________________________________________________________________\n"
          ]
        }
      ]
    },
    {
      "cell_type": "code",
      "source": [
        "history = model_GRU.fit(x=x_train_pad, y=y_train_cat, epochs=15,\n",
        "                    validation_data=(x_val_pad, y_val_cat),\n",
        "                    callbacks=[early_stopping, lr_scheduler])\n"
      ],
      "metadata": {
        "colab": {
          "base_uri": "https://localhost:8080/"
        },
        "id": "8opYDgmcPreD",
        "outputId": "d5889cb9-8df9-43eb-8769-49ed816461bc"
      },
      "execution_count": 66,
      "outputs": [
        {
          "output_type": "stream",
          "name": "stdout",
          "text": [
            "Epoch 1/15\n",
            "47/47 [==============================] - 36s 599ms/step - loss: 1.5608 - accuracy: 0.2970 - val_loss: 1.4882 - val_accuracy: 0.3103 - lr: 0.0010\n",
            "Epoch 2/15\n",
            "47/47 [==============================] - 26s 558ms/step - loss: 1.4803 - accuracy: 0.3582 - val_loss: 1.4243 - val_accuracy: 0.3636 - lr: 0.0010\n",
            "Epoch 3/15\n",
            "47/47 [==============================] - 28s 606ms/step - loss: 1.3808 - accuracy: 0.4099 - val_loss: 1.3202 - val_accuracy: 0.4608 - lr: 0.0010\n",
            "Epoch 4/15\n",
            "47/47 [==============================] - 27s 569ms/step - loss: 1.1969 - accuracy: 0.4966 - val_loss: 1.1763 - val_accuracy: 0.4796 - lr: 0.0010\n",
            "Epoch 5/15\n",
            "47/47 [==============================] - 30s 639ms/step - loss: 1.0177 - accuracy: 0.6001 - val_loss: 1.0849 - val_accuracy: 0.5737 - lr: 0.0010\n",
            "Epoch 6/15\n",
            "47/47 [==============================] - 26s 552ms/step - loss: 0.8337 - accuracy: 0.6767 - val_loss: 0.8971 - val_accuracy: 0.6646 - lr: 0.0010\n",
            "Epoch 7/15\n",
            "47/47 [==============================] - 26s 554ms/step - loss: 0.6531 - accuracy: 0.7446 - val_loss: 0.9822 - val_accuracy: 0.6458 - lr: 0.0010\n",
            "Epoch 8/15\n",
            "47/47 [==============================] - 26s 561ms/step - loss: 0.5967 - accuracy: 0.7789 - val_loss: 0.8740 - val_accuracy: 0.6803 - lr: 0.0010\n",
            "Epoch 9/15\n",
            "47/47 [==============================] - 26s 562ms/step - loss: 0.4875 - accuracy: 0.8333 - val_loss: 0.9714 - val_accuracy: 0.6332 - lr: 0.0010\n",
            "Epoch 10/15\n",
            "47/47 [==============================] - 27s 571ms/step - loss: 0.4134 - accuracy: 0.8629 - val_loss: 0.8784 - val_accuracy: 0.7053 - lr: 0.0010\n",
            "Epoch 11/15\n",
            "47/47 [==============================] - 26s 559ms/step - loss: 0.3615 - accuracy: 0.8690 - val_loss: 0.8318 - val_accuracy: 0.7210 - lr: 0.0010\n",
            "Epoch 12/15\n",
            "47/47 [==============================] - 26s 546ms/step - loss: 0.3326 - accuracy: 0.8871 - val_loss: 0.8396 - val_accuracy: 0.7586 - lr: 0.0010\n",
            "Epoch 13/15\n",
            "47/47 [==============================] - 26s 552ms/step - loss: 0.2515 - accuracy: 0.9093 - val_loss: 1.0074 - val_accuracy: 0.7335 - lr: 0.0010\n",
            "Epoch 14/15\n",
            "47/47 [==============================] - ETA: 0s - loss: 0.2562 - accuracy: 0.9113\n",
            "Epoch 14: ReduceLROnPlateau reducing learning rate to 0.00010000000474974513.\n",
            "47/47 [==============================] - 26s 558ms/step - loss: 0.2562 - accuracy: 0.9113 - val_loss: 0.8430 - val_accuracy: 0.7712 - lr: 0.0010\n",
            "Epoch 15/15\n",
            "47/47 [==============================] - 26s 553ms/step - loss: 0.1270 - accuracy: 0.9630 - val_loss: 0.8431 - val_accuracy: 0.7837 - lr: 1.0000e-04\n"
          ]
        }
      ]
    },
    {
      "cell_type": "code",
      "source": [
        "# Predict the labels for the training and validation sets\n",
        "y_train_pred = model_GRU.predict(x_train_pad)\n",
        "y_test_pred = model_GRU.predict(x_test_pad)\n",
        "\n",
        "# Convert the predictions and true labels to class labels (from one-hot encoding)\n",
        "y_train_pred_classes = np.argmax(y_train_pred, axis=1)\n",
        "y_train_true_classes = np.argmax(y_train_cat, axis=1)\n",
        "\n",
        "y_test_pred_classes = np.argmax(y_test_pred, axis=1)\n",
        "y_test_true_classes = np.argmax(y_test_cat, axis=1)\n",
        "\n",
        "# Calculate the accuracy for both training and validation sets\n",
        "train_accuracy = accuracy_score(y_train_true_classes, y_train_pred_classes) * 100\n",
        "test_accuracy = accuracy_score(y_test_true_classes, y_test_pred_classes) * 100\n",
        "\n",
        "# Print the accuracies in the desired format\n",
        "print(f'Train Accuracy : {train_accuracy:.2f} %')\n",
        "print(f'Test Accuracy  : {test_accuracy:.2f} %')"
      ],
      "metadata": {
        "colab": {
          "base_uri": "https://localhost:8080/"
        },
        "id": "5C94srhdeUaK",
        "outputId": "5b90f744-511a-495c-e33d-f4aa8a4bf7ad"
      },
      "execution_count": 84,
      "outputs": [
        {
          "output_type": "stream",
          "name": "stdout",
          "text": [
            "47/47 [==============================] - 11s 225ms/step\n",
            "10/10 [==============================] - 4s 359ms/step\n",
            "Train Accuracy : 97.04 %\n",
            "Test Accuracy  : 77.74 %\n"
          ]
        }
      ]
    },
    {
      "cell_type": "code",
      "source": [
        "# Generate the confusion matrix\n",
        "cm = confusion_matrix(y_test_true_classes, y_test_pred_classes)\n",
        "\n",
        "print(classification_report(y_test_true_classes, y_test_pred_classes))"
      ],
      "metadata": {
        "colab": {
          "base_uri": "https://localhost:8080/"
        },
        "id": "m5Nj1jXLl9ul",
        "outputId": "35b051e0-25c2-4851-f2e6-77d1bbbad16b"
      },
      "execution_count": 85,
      "outputs": [
        {
          "output_type": "stream",
          "name": "stdout",
          "text": [
            "              precision    recall  f1-score   support\n",
            "\n",
            "           0       0.80      0.84      0.82        85\n",
            "           1       0.76      0.75      0.76        64\n",
            "           2       0.69      0.68      0.69        63\n",
            "           3       0.88      0.90      0.89        58\n",
            "           4       0.74      0.69      0.72        49\n",
            "\n",
            "    accuracy                           0.78       319\n",
            "   macro avg       0.77      0.77      0.77       319\n",
            "weighted avg       0.78      0.78      0.78       319\n",
            "\n"
          ]
        }
      ]
    },
    {
      "cell_type": "code",
      "source": [
        "class_names = [0, 1, 2, 3, 4]\n",
        "\n",
        "# Plot the confusion matrix\n",
        "plt.figure(figsize=(10, 7))\n",
        "sns.heatmap(cm, annot=True, fmt='d', cmap='Blues', xticklabels=class_names, yticklabels=class_names)\n",
        "plt.xlabel('Predicted')\n",
        "plt.ylabel('True')\n",
        "plt.title('Confusion Matrix')\n",
        "plt.show()"
      ],
      "metadata": {
        "colab": {
          "base_uri": "https://localhost:8080/",
          "height": 641
        },
        "id": "FMXLTpWgmrGF",
        "outputId": "21b07212-a425-4314-a74a-0c25e95be475"
      },
      "execution_count": 86,
      "outputs": [
        {
          "output_type": "display_data",
          "data": {
            "text/plain": [
              "<Figure size 1000x700 with 2 Axes>"
            ],
            "image/png": "[encoded data removed]"
          },
          "metadata": {}
        }
      ]
    },
    {
      "cell_type": "code",
      "source": [],
      "metadata": {
        "id": "s2pT1LpuncTL"
      },
      "execution_count": null,
      "outputs": []
    }
  ]
}